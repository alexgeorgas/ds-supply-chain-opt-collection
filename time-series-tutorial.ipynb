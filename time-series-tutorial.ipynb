{
 "cells": [
  {
   "cell_type": "markdown",
   "metadata": {},
   "source": [
    "# Time Series tutorial\n",
    "\n",
    "This tutorial covers topics which are related to univariate time series such as AR, MA,ARIMA as well as ETS models.\n",
    "You can find the original notebook at Kaggle:\n",
    "https://www.kaggle.com/code/saurav9786/time-series-tutorial"
   ]
  },
  {
   "cell_type": "markdown",
   "metadata": {},
   "source": [
    "![Time Series](https://images.unsplash.com/photo-1560221328-12fe60f83ab8?ixlib=rb-1.2.1&ixid=eyJhcHBfaWQiOjEyMDd9&auto=format&fit=crop&w=1053&q=80)                     "
   ]
  },
  {
   "cell_type": "markdown",
   "metadata": {},
   "source": [
    "\n",
    "<a class=\"anchor\" id=\"0.1\"></a>\n",
    "# **Table of Contents**\n",
    "\n",
    "- 1.[Introduction to Time Series](#1)\n",
    "- 2.[What is Time Series?](#2)\n",
    "- 3.[What is not a Time Series](#3)\n",
    "- 4.[Where we can find the Time Series Data?](#4)\n",
    "- 5.[Features of the Time Series Data](#5)\n",
    "- 6.[Time Series Assumptions](#6)\n",
    "- 7.[Time Series Types](#7)\n",
    "- 8.[Reading and Saving Time Series Objects in Python](#8)\n",
    "- 9.[Components of the Time Series](#9)\n",
    "- 10.[Decomposition of Time Series](#10)\n",
    "- 11.[Moving average forecast](#11)\n",
    "- 12.[Handling Missing Values](#12)\n",
    "- 13.[Time Series  Range, Accuracy and Various Requirements](#13)\n",
    "- 14.[ETS Models](#14)\n",
    "     - 14.1  [SES, Holt & Holt-Winter Model](#14.1)\n",
    "        - 14.1.1  [SES - ETS(A, N, N) - Simple smoothing with additive errors](#14.1.1)\n",
    "        - 14.1.2  [Holt - ETS(A, A, N) - Holt's linear method with additive errors](#14.1.2)\n",
    "        - 14.1.3  [Holt-Winters - ETS(A, A, A) - Holt Winter's linear method with additive errors](#14.1.3)\n",
    "        - 14.1.4  [Holt-Winters - ETS(A, A, M) - Holt Winter's linear method ](#14.1.4)\n",
    "     - 14.2 [Model finalization](#14.2)\n",
    "        - 14.2.1  [Regression on Time](#14.2.1)\n",
    "        - 14.2.2  [ Regression on Time With Seasonal Components](#14.2.2)\n",
    "        - 14.2.3  [Naive Approach](#14.2.3)\n",
    "        - 14.2.4  [Simple Average](#14.2.4)\n",
    "        - 14.2.5  [Moving Average(MA)](#14.2.5)\n",
    "        - 14.2.6  [Simple Exponential Smoothing](#14.2.6)\n",
    "        - 14.2.7  [Holt's Linear Trend Method (Double Exponential Smoothing)](#14.2.7)\n",
    "        - 14.2.8  [Holt-Winters Method - Additive seasonality](#14.2.8)\n",
    "        - 14.2.9  [Holt-Winters Method - Multiplicative Model](#14.2.9)\n",
    "- 15.[AUTO REGRESSIVE Models](#15)\n",
    "     - 15.1  [Random Walk](#15.1)\n",
    "     - 15.2  [ARIMA Model](#15.2)\n",
    "     - 15.3  [Auto ARIMA](#15.3)\n",
    "- 16.[References](#16)\n",
    "  \n"
   ]
  },
  {
   "cell_type": "markdown",
   "metadata": {},
   "source": [
    "\n",
    "# **1.Introduction to Time Series** <a class=\"anchor\" id=\"1\"></a>\n",
    "\n",
    "[Table of Contents](#0.1)\n",
    "\n",
    "Every company in this world faces certain challenges and risks such as high compeition , failure of technology, labour unrest, inflation, recession, and change in government laws. Thus we can say that every buisness operates under risk and uncertainity. That's why forecast is necessary to lessen the adverse effect of the risks and to tell us in advance of any incoming dangers. There are various methods of forecast- mostly commonly used are :-\n",
    "\n",
    "1. Regression\n",
    "2. Data Mining Mehthods\n",
    "3. Time Series \n",
    "\n",
    "Why these different teechniques are required for forecasting? The reason is that we have to deal with different types of data which possess different features , so to handle this different techniques are used for forecasting. For example, In case of regression or CART we have one response and a number of predictors. \n",
    "\n",
    "> **Forecasting is a technique that uses historical data as inputs to make informed estimates that are predictive in determining the direction of future trends. Businesses utilize forecasting to determine how to allocate their budgets or plan for anticipated expenses for an upcoming period of time.**\n",
    "\n",
    "In this kernel , we are going to see the details about the time series data and how to analyze and forecast them. "
   ]
  },
  {
   "cell_type": "markdown",
   "metadata": {
    "_cell_guid": "79c7e3d0-c299-4dcb-8224-4455121ee9b0",
    "_uuid": "d629ff2d2480ee46fbb7e2d37f6b5fab8052498a"
   },
   "source": [
    "# **2.What is Time Series?**  <a class=\"anchor\" id=\"2\"></a>\n",
    "\n",
    "[Table of Contents](#0.1)\n",
    "\n",
    "\n",
    "A time series is a series of measurements on the **same variable** collected over time. These measurements are made at regular time intervals.A time series is a series of data points indexed in time order. Most commonly, a time series is a sequence taken at successive **equally spaced points** in time. Thus it is a sequence of **discrete-time data**. \n",
    "\n",
    "Intervals of the Time Series Data \n",
    "\n",
    "1. Yearly :- GDP , Macro-economic series\n",
    "2. Quarterly :- Revenue of a company.\n",
    "3. Monthly:- Sales, Expenditure, salary\n",
    "4. Weekly:- Demand , Price of Petrol and diesal\n",
    "5. Daily:- Closing price of stock, sensex value, daily transaction of ATM machine\n",
    "6. Hourly:- AAQI\n",
    "\n",
    "Time series analysis can be useful to see how a given asset, security, or economic variable changes over time. It can also be used to examine how the changes associated with the chosen data point compare to shifts in other variables over the same time period.\n",
    "\n"
   ]
  },
  {
   "cell_type": "markdown",
   "metadata": {},
   "source": [
    "# 3.What is not a Time Series? <a class=\"anchor\" id=\"3\"></a>\n",
    "\n",
    "[Table of Contents](#0.1)\n",
    "\n",
    "Data collected on multiple items at the **same point of time** is not a time series! For example Sales of different products at the same time. Also that kind of data where the **time periods are not same**. For example in a single time series both yearly and quarterly data cannot be mixed. "
   ]
  },
  {
   "cell_type": "markdown",
   "metadata": {},
   "source": [
    "# 4.Where we can find the Time Series Data? <a class=\"anchor\" id=\"4\"></a>\n",
    "\n",
    "[Table of Contents](#0.1)\n",
    "\n",
    "The most common examples where we can encounter the time series data are following :- \n",
    "\n",
    "* Evaluation of manpower requirements from historic data and take a decision on hiring\n",
    "* Understanding the Stock movements based on the past data and advising their clients how best to invest. \n",
    "* Based on the consumption of the products , the grocery company can decide on which location the new shop can be set up.\n",
    "* In airline domain, based on the demand of the airline tickets between towns, airlines can create their dynamic ticket pricing.\n",
    "* For the hotels , based on the past data of the booking pattern it can decide on whether any discount can be offered at certain time of the year.\n",
    "\n",
    "> In short, we can say that time series data is being collected and utilized in all data driven decisions mechanisms. \n"
   ]
  },
  {
   "cell_type": "markdown",
   "metadata": {},
   "source": [
    "# 5.Features of the Time Series Data <a class=\"anchor\" id=\"5\"></a>\n",
    "\n",
    "[Table of Contents](#0.1)\n",
    "\n",
    "The following features mentioned below makes the time series analysis challenging and none of the other machine learning techniques applicable because of the following reasons :- \n",
    "\n",
    "* Data are depedent on each other.\n",
    "* In the case of time series , **ordering of data matters a lot**. \n",
    "* Ordering is very significant because there is dependency and changing the order will change the data structure.\n",
    "\n",
    "Please note that in case where data is cross sectional , order of the obeservation does not matter but if the data is time series order of all the observations are important. "
   ]
  },
  {
   "cell_type": "markdown",
   "metadata": {},
   "source": [
    "# 6.Time Series Assumptions <a class=\"anchor\" id=\"6\"></a>\n",
    "\n",
    "[Table of Contents](#0.1)\n",
    "\n",
    "Some of the most common assumptions made for time series are based on the common sense. But always Keep in mind one thing \n",
    "\n",
    "> Very long range forecasts does not work well !!\n",
    "\n",
    "* Forecast is done by keeping in mind that the market and the other conditions are not going to change in the future.\n",
    "* There will be not any change in the market.\n",
    "* But the change is gradual and not a drastic change.\n",
    "* Situations like recession in 2008 US market will send the forecasts into a tizzy. \n",
    "* Events like demonetization would throw the forecasts into disarray\n",
    "\n",
    "Based on the data available , we should not try to forecast for more than a few periods ahead."
   ]
  },
  {
   "cell_type": "markdown",
   "metadata": {},
   "source": [
    "# 7.Time Series Types  <a class=\"anchor\" id=\"7\"></a>\n",
    "\n",
    "[Table of Contents](#0.1)"
   ]
  },
  {
   "cell_type": "markdown",
   "metadata": {},
   "source": [
    "### a) Univariate Time Series\n",
    "\n",
    "A univariate Time series is a series of data  with a single time dependant variable like Demand for a product at time,t. \n",
    "\n",
    "> A time series that consists of single (scalar) observations recorded sequentially over equal time increments. Some examples are monthly CO2 concentrations and southern oscillations to predict el nino effects.\n",
    "\n",
    "For example, have a look at the sample dataset below that consists of the minimum temperatures across the months of the year from the Southern Hemisphere from 1981 to 1990. Here, temperature is the dependent variable (dependent on Time).\n",
    "\n"
   ]
  },
  {
   "cell_type": "code",
   "execution_count": 2,
   "metadata": {
    "_kg_hide-output": true
   },
   "outputs": [],
   "source": [
    "import numpy as np # linear algebra\n",
    "import pandas as pd # data processing, CSV file I/O (e.g. pd.read_csv)\n",
    "import  matplotlib.pyplot  as  plt\n",
    "import os\n",
    "for dirname, _, filenames in os.walk('/kaggle/input'):\n",
    "    for filename in filenames:\n",
    "        print(os.path.join(dirname, filename))"
   ]
  },
  {
   "cell_type": "code",
   "execution_count": 3,
   "metadata": {},
   "outputs": [
    {
     "name": "stderr",
     "output_type": "stream",
     "text": [
      "/tmp/ipykernel_1170367/2609462404.py:3: FutureWarning: The squeeze argument has been deprecated and will be removed in a future version. Append .squeeze(\"columns\") to the call to squeeze.\n",
      "\n",
      "\n",
      "  univariate_series   =  pd.read_csv('/kaggle/input/time-series-data/daily-min-temperatures.csv', header = 0, index_col = 0, parse_dates = True, squeeze = True)\n"
     ]
    },
    {
     "ename": "FileNotFoundError",
     "evalue": "[Errno 2] No such file or directory: '/kaggle/input/time-series-data/daily-min-temperatures.csv'",
     "output_type": "error",
     "traceback": [
      "\u001b[0;31m---------------------------------------------------------------------------\u001b[0m",
      "\u001b[0;31mFileNotFoundError\u001b[0m                         Traceback (most recent call last)",
      "Input \u001b[0;32mIn [3]\u001b[0m, in \u001b[0;36m<cell line: 3>\u001b[0;34m()\u001b[0m\n\u001b[1;32m      1\u001b[0m \u001b[38;5;66;03m### Read the time series data\u001b[39;00m\n\u001b[0;32m----> 3\u001b[0m univariate_series   \u001b[38;5;241m=\u001b[39m  \u001b[43mpd\u001b[49m\u001b[38;5;241;43m.\u001b[39;49m\u001b[43mread_csv\u001b[49m\u001b[43m(\u001b[49m\u001b[38;5;124;43m'\u001b[39;49m\u001b[38;5;124;43m/kaggle/input/time-series-data/daily-min-temperatures.csv\u001b[39;49m\u001b[38;5;124;43m'\u001b[39;49m\u001b[43m,\u001b[49m\u001b[43m \u001b[49m\u001b[43mheader\u001b[49m\u001b[43m \u001b[49m\u001b[38;5;241;43m=\u001b[39;49m\u001b[43m \u001b[49m\u001b[38;5;241;43m0\u001b[39;49m\u001b[43m,\u001b[49m\u001b[43m \u001b[49m\u001b[43mindex_col\u001b[49m\u001b[43m \u001b[49m\u001b[38;5;241;43m=\u001b[39;49m\u001b[43m \u001b[49m\u001b[38;5;241;43m0\u001b[39;49m\u001b[43m,\u001b[49m\u001b[43m \u001b[49m\u001b[43mparse_dates\u001b[49m\u001b[43m \u001b[49m\u001b[38;5;241;43m=\u001b[39;49m\u001b[43m \u001b[49m\u001b[38;5;28;43;01mTrue\u001b[39;49;00m\u001b[43m,\u001b[49m\u001b[43m \u001b[49m\u001b[43msqueeze\u001b[49m\u001b[43m \u001b[49m\u001b[38;5;241;43m=\u001b[39;49m\u001b[43m \u001b[49m\u001b[38;5;28;43;01mTrue\u001b[39;49;00m\u001b[43m)\u001b[49m\n\u001b[1;32m      5\u001b[0m \u001b[38;5;66;03m### Print first five records\u001b[39;00m\n\u001b[1;32m      6\u001b[0m univariate_series\u001b[38;5;241m.\u001b[39mhead()\n",
      "File \u001b[0;32m/usr/local/lib/python3.10/dist-packages/pandas/util/_decorators.py:311\u001b[0m, in \u001b[0;36mdeprecate_nonkeyword_arguments.<locals>.decorate.<locals>.wrapper\u001b[0;34m(*args, **kwargs)\u001b[0m\n\u001b[1;32m    305\u001b[0m \u001b[38;5;28;01mif\u001b[39;00m \u001b[38;5;28mlen\u001b[39m(args) \u001b[38;5;241m>\u001b[39m num_allow_args:\n\u001b[1;32m    306\u001b[0m     warnings\u001b[38;5;241m.\u001b[39mwarn(\n\u001b[1;32m    307\u001b[0m         msg\u001b[38;5;241m.\u001b[39mformat(arguments\u001b[38;5;241m=\u001b[39marguments),\n\u001b[1;32m    308\u001b[0m         \u001b[38;5;167;01mFutureWarning\u001b[39;00m,\n\u001b[1;32m    309\u001b[0m         stacklevel\u001b[38;5;241m=\u001b[39mstacklevel,\n\u001b[1;32m    310\u001b[0m     )\n\u001b[0;32m--> 311\u001b[0m \u001b[38;5;28;01mreturn\u001b[39;00m \u001b[43mfunc\u001b[49m\u001b[43m(\u001b[49m\u001b[38;5;241;43m*\u001b[39;49m\u001b[43margs\u001b[49m\u001b[43m,\u001b[49m\u001b[43m \u001b[49m\u001b[38;5;241;43m*\u001b[39;49m\u001b[38;5;241;43m*\u001b[39;49m\u001b[43mkwargs\u001b[49m\u001b[43m)\u001b[49m\n",
      "File \u001b[0;32m/usr/local/lib/python3.10/dist-packages/pandas/io/parsers/readers.py:680\u001b[0m, in \u001b[0;36mread_csv\u001b[0;34m(filepath_or_buffer, sep, delimiter, header, names, index_col, usecols, squeeze, prefix, mangle_dupe_cols, dtype, engine, converters, true_values, false_values, skipinitialspace, skiprows, skipfooter, nrows, na_values, keep_default_na, na_filter, verbose, skip_blank_lines, parse_dates, infer_datetime_format, keep_date_col, date_parser, dayfirst, cache_dates, iterator, chunksize, compression, thousands, decimal, lineterminator, quotechar, quoting, doublequote, escapechar, comment, encoding, encoding_errors, dialect, error_bad_lines, warn_bad_lines, on_bad_lines, delim_whitespace, low_memory, memory_map, float_precision, storage_options)\u001b[0m\n\u001b[1;32m    665\u001b[0m kwds_defaults \u001b[38;5;241m=\u001b[39m _refine_defaults_read(\n\u001b[1;32m    666\u001b[0m     dialect,\n\u001b[1;32m    667\u001b[0m     delimiter,\n\u001b[0;32m   (...)\u001b[0m\n\u001b[1;32m    676\u001b[0m     defaults\u001b[38;5;241m=\u001b[39m{\u001b[38;5;124m\"\u001b[39m\u001b[38;5;124mdelimiter\u001b[39m\u001b[38;5;124m\"\u001b[39m: \u001b[38;5;124m\"\u001b[39m\u001b[38;5;124m,\u001b[39m\u001b[38;5;124m\"\u001b[39m},\n\u001b[1;32m    677\u001b[0m )\n\u001b[1;32m    678\u001b[0m kwds\u001b[38;5;241m.\u001b[39mupdate(kwds_defaults)\n\u001b[0;32m--> 680\u001b[0m \u001b[38;5;28;01mreturn\u001b[39;00m \u001b[43m_read\u001b[49m\u001b[43m(\u001b[49m\u001b[43mfilepath_or_buffer\u001b[49m\u001b[43m,\u001b[49m\u001b[43m \u001b[49m\u001b[43mkwds\u001b[49m\u001b[43m)\u001b[49m\n",
      "File \u001b[0;32m/usr/local/lib/python3.10/dist-packages/pandas/io/parsers/readers.py:575\u001b[0m, in \u001b[0;36m_read\u001b[0;34m(filepath_or_buffer, kwds)\u001b[0m\n\u001b[1;32m    572\u001b[0m _validate_names(kwds\u001b[38;5;241m.\u001b[39mget(\u001b[38;5;124m\"\u001b[39m\u001b[38;5;124mnames\u001b[39m\u001b[38;5;124m\"\u001b[39m, \u001b[38;5;28;01mNone\u001b[39;00m))\n\u001b[1;32m    574\u001b[0m \u001b[38;5;66;03m# Create the parser.\u001b[39;00m\n\u001b[0;32m--> 575\u001b[0m parser \u001b[38;5;241m=\u001b[39m \u001b[43mTextFileReader\u001b[49m\u001b[43m(\u001b[49m\u001b[43mfilepath_or_buffer\u001b[49m\u001b[43m,\u001b[49m\u001b[43m \u001b[49m\u001b[38;5;241;43m*\u001b[39;49m\u001b[38;5;241;43m*\u001b[39;49m\u001b[43mkwds\u001b[49m\u001b[43m)\u001b[49m\n\u001b[1;32m    577\u001b[0m \u001b[38;5;28;01mif\u001b[39;00m chunksize \u001b[38;5;129;01mor\u001b[39;00m iterator:\n\u001b[1;32m    578\u001b[0m     \u001b[38;5;28;01mreturn\u001b[39;00m parser\n",
      "File \u001b[0;32m/usr/local/lib/python3.10/dist-packages/pandas/io/parsers/readers.py:933\u001b[0m, in \u001b[0;36mTextFileReader.__init__\u001b[0;34m(self, f, engine, **kwds)\u001b[0m\n\u001b[1;32m    930\u001b[0m     \u001b[38;5;28mself\u001b[39m\u001b[38;5;241m.\u001b[39moptions[\u001b[38;5;124m\"\u001b[39m\u001b[38;5;124mhas_index_names\u001b[39m\u001b[38;5;124m\"\u001b[39m] \u001b[38;5;241m=\u001b[39m kwds[\u001b[38;5;124m\"\u001b[39m\u001b[38;5;124mhas_index_names\u001b[39m\u001b[38;5;124m\"\u001b[39m]\n\u001b[1;32m    932\u001b[0m \u001b[38;5;28mself\u001b[39m\u001b[38;5;241m.\u001b[39mhandles: IOHandles \u001b[38;5;241m|\u001b[39m \u001b[38;5;28;01mNone\u001b[39;00m \u001b[38;5;241m=\u001b[39m \u001b[38;5;28;01mNone\u001b[39;00m\n\u001b[0;32m--> 933\u001b[0m \u001b[38;5;28mself\u001b[39m\u001b[38;5;241m.\u001b[39m_engine \u001b[38;5;241m=\u001b[39m \u001b[38;5;28;43mself\u001b[39;49m\u001b[38;5;241;43m.\u001b[39;49m\u001b[43m_make_engine\u001b[49m\u001b[43m(\u001b[49m\u001b[43mf\u001b[49m\u001b[43m,\u001b[49m\u001b[43m \u001b[49m\u001b[38;5;28;43mself\u001b[39;49m\u001b[38;5;241;43m.\u001b[39;49m\u001b[43mengine\u001b[49m\u001b[43m)\u001b[49m\n",
      "File \u001b[0;32m/usr/local/lib/python3.10/dist-packages/pandas/io/parsers/readers.py:1217\u001b[0m, in \u001b[0;36mTextFileReader._make_engine\u001b[0;34m(self, f, engine)\u001b[0m\n\u001b[1;32m   1213\u001b[0m     mode \u001b[38;5;241m=\u001b[39m \u001b[38;5;124m\"\u001b[39m\u001b[38;5;124mrb\u001b[39m\u001b[38;5;124m\"\u001b[39m\n\u001b[1;32m   1214\u001b[0m \u001b[38;5;66;03m# error: No overload variant of \"get_handle\" matches argument types\u001b[39;00m\n\u001b[1;32m   1215\u001b[0m \u001b[38;5;66;03m# \"Union[str, PathLike[str], ReadCsvBuffer[bytes], ReadCsvBuffer[str]]\"\u001b[39;00m\n\u001b[1;32m   1216\u001b[0m \u001b[38;5;66;03m# , \"str\", \"bool\", \"Any\", \"Any\", \"Any\", \"Any\", \"Any\"\u001b[39;00m\n\u001b[0;32m-> 1217\u001b[0m \u001b[38;5;28mself\u001b[39m\u001b[38;5;241m.\u001b[39mhandles \u001b[38;5;241m=\u001b[39m \u001b[43mget_handle\u001b[49m\u001b[43m(\u001b[49m\u001b[43m  \u001b[49m\u001b[38;5;66;43;03m# type: ignore[call-overload]\u001b[39;49;00m\n\u001b[1;32m   1218\u001b[0m \u001b[43m    \u001b[49m\u001b[43mf\u001b[49m\u001b[43m,\u001b[49m\n\u001b[1;32m   1219\u001b[0m \u001b[43m    \u001b[49m\u001b[43mmode\u001b[49m\u001b[43m,\u001b[49m\n\u001b[1;32m   1220\u001b[0m \u001b[43m    \u001b[49m\u001b[43mencoding\u001b[49m\u001b[38;5;241;43m=\u001b[39;49m\u001b[38;5;28;43mself\u001b[39;49m\u001b[38;5;241;43m.\u001b[39;49m\u001b[43moptions\u001b[49m\u001b[38;5;241;43m.\u001b[39;49m\u001b[43mget\u001b[49m\u001b[43m(\u001b[49m\u001b[38;5;124;43m\"\u001b[39;49m\u001b[38;5;124;43mencoding\u001b[39;49m\u001b[38;5;124;43m\"\u001b[39;49m\u001b[43m,\u001b[49m\u001b[43m \u001b[49m\u001b[38;5;28;43;01mNone\u001b[39;49;00m\u001b[43m)\u001b[49m\u001b[43m,\u001b[49m\n\u001b[1;32m   1221\u001b[0m \u001b[43m    \u001b[49m\u001b[43mcompression\u001b[49m\u001b[38;5;241;43m=\u001b[39;49m\u001b[38;5;28;43mself\u001b[39;49m\u001b[38;5;241;43m.\u001b[39;49m\u001b[43moptions\u001b[49m\u001b[38;5;241;43m.\u001b[39;49m\u001b[43mget\u001b[49m\u001b[43m(\u001b[49m\u001b[38;5;124;43m\"\u001b[39;49m\u001b[38;5;124;43mcompression\u001b[39;49m\u001b[38;5;124;43m\"\u001b[39;49m\u001b[43m,\u001b[49m\u001b[43m \u001b[49m\u001b[38;5;28;43;01mNone\u001b[39;49;00m\u001b[43m)\u001b[49m\u001b[43m,\u001b[49m\n\u001b[1;32m   1222\u001b[0m \u001b[43m    \u001b[49m\u001b[43mmemory_map\u001b[49m\u001b[38;5;241;43m=\u001b[39;49m\u001b[38;5;28;43mself\u001b[39;49m\u001b[38;5;241;43m.\u001b[39;49m\u001b[43moptions\u001b[49m\u001b[38;5;241;43m.\u001b[39;49m\u001b[43mget\u001b[49m\u001b[43m(\u001b[49m\u001b[38;5;124;43m\"\u001b[39;49m\u001b[38;5;124;43mmemory_map\u001b[39;49m\u001b[38;5;124;43m\"\u001b[39;49m\u001b[43m,\u001b[49m\u001b[43m \u001b[49m\u001b[38;5;28;43;01mFalse\u001b[39;49;00m\u001b[43m)\u001b[49m\u001b[43m,\u001b[49m\n\u001b[1;32m   1223\u001b[0m \u001b[43m    \u001b[49m\u001b[43mis_text\u001b[49m\u001b[38;5;241;43m=\u001b[39;49m\u001b[43mis_text\u001b[49m\u001b[43m,\u001b[49m\n\u001b[1;32m   1224\u001b[0m \u001b[43m    \u001b[49m\u001b[43merrors\u001b[49m\u001b[38;5;241;43m=\u001b[39;49m\u001b[38;5;28;43mself\u001b[39;49m\u001b[38;5;241;43m.\u001b[39;49m\u001b[43moptions\u001b[49m\u001b[38;5;241;43m.\u001b[39;49m\u001b[43mget\u001b[49m\u001b[43m(\u001b[49m\u001b[38;5;124;43m\"\u001b[39;49m\u001b[38;5;124;43mencoding_errors\u001b[39;49m\u001b[38;5;124;43m\"\u001b[39;49m\u001b[43m,\u001b[49m\u001b[43m \u001b[49m\u001b[38;5;124;43m\"\u001b[39;49m\u001b[38;5;124;43mstrict\u001b[39;49m\u001b[38;5;124;43m\"\u001b[39;49m\u001b[43m)\u001b[49m\u001b[43m,\u001b[49m\n\u001b[1;32m   1225\u001b[0m \u001b[43m    \u001b[49m\u001b[43mstorage_options\u001b[49m\u001b[38;5;241;43m=\u001b[39;49m\u001b[38;5;28;43mself\u001b[39;49m\u001b[38;5;241;43m.\u001b[39;49m\u001b[43moptions\u001b[49m\u001b[38;5;241;43m.\u001b[39;49m\u001b[43mget\u001b[49m\u001b[43m(\u001b[49m\u001b[38;5;124;43m\"\u001b[39;49m\u001b[38;5;124;43mstorage_options\u001b[39;49m\u001b[38;5;124;43m\"\u001b[39;49m\u001b[43m,\u001b[49m\u001b[43m \u001b[49m\u001b[38;5;28;43;01mNone\u001b[39;49;00m\u001b[43m)\u001b[49m\u001b[43m,\u001b[49m\n\u001b[1;32m   1226\u001b[0m \u001b[43m\u001b[49m\u001b[43m)\u001b[49m\n\u001b[1;32m   1227\u001b[0m \u001b[38;5;28;01massert\u001b[39;00m \u001b[38;5;28mself\u001b[39m\u001b[38;5;241m.\u001b[39mhandles \u001b[38;5;129;01mis\u001b[39;00m \u001b[38;5;129;01mnot\u001b[39;00m \u001b[38;5;28;01mNone\u001b[39;00m\n\u001b[1;32m   1228\u001b[0m f \u001b[38;5;241m=\u001b[39m \u001b[38;5;28mself\u001b[39m\u001b[38;5;241m.\u001b[39mhandles\u001b[38;5;241m.\u001b[39mhandle\n",
      "File \u001b[0;32m/usr/local/lib/python3.10/dist-packages/pandas/io/common.py:789\u001b[0m, in \u001b[0;36mget_handle\u001b[0;34m(path_or_buf, mode, encoding, compression, memory_map, is_text, errors, storage_options)\u001b[0m\n\u001b[1;32m    784\u001b[0m \u001b[38;5;28;01melif\u001b[39;00m \u001b[38;5;28misinstance\u001b[39m(handle, \u001b[38;5;28mstr\u001b[39m):\n\u001b[1;32m    785\u001b[0m     \u001b[38;5;66;03m# Check whether the filename is to be opened in binary mode.\u001b[39;00m\n\u001b[1;32m    786\u001b[0m     \u001b[38;5;66;03m# Binary mode does not support 'encoding' and 'newline'.\u001b[39;00m\n\u001b[1;32m    787\u001b[0m     \u001b[38;5;28;01mif\u001b[39;00m ioargs\u001b[38;5;241m.\u001b[39mencoding \u001b[38;5;129;01mand\u001b[39;00m \u001b[38;5;124m\"\u001b[39m\u001b[38;5;124mb\u001b[39m\u001b[38;5;124m\"\u001b[39m \u001b[38;5;129;01mnot\u001b[39;00m \u001b[38;5;129;01min\u001b[39;00m ioargs\u001b[38;5;241m.\u001b[39mmode:\n\u001b[1;32m    788\u001b[0m         \u001b[38;5;66;03m# Encoding\u001b[39;00m\n\u001b[0;32m--> 789\u001b[0m         handle \u001b[38;5;241m=\u001b[39m \u001b[38;5;28;43mopen\u001b[39;49m\u001b[43m(\u001b[49m\n\u001b[1;32m    790\u001b[0m \u001b[43m            \u001b[49m\u001b[43mhandle\u001b[49m\u001b[43m,\u001b[49m\n\u001b[1;32m    791\u001b[0m \u001b[43m            \u001b[49m\u001b[43mioargs\u001b[49m\u001b[38;5;241;43m.\u001b[39;49m\u001b[43mmode\u001b[49m\u001b[43m,\u001b[49m\n\u001b[1;32m    792\u001b[0m \u001b[43m            \u001b[49m\u001b[43mencoding\u001b[49m\u001b[38;5;241;43m=\u001b[39;49m\u001b[43mioargs\u001b[49m\u001b[38;5;241;43m.\u001b[39;49m\u001b[43mencoding\u001b[49m\u001b[43m,\u001b[49m\n\u001b[1;32m    793\u001b[0m \u001b[43m            \u001b[49m\u001b[43merrors\u001b[49m\u001b[38;5;241;43m=\u001b[39;49m\u001b[43merrors\u001b[49m\u001b[43m,\u001b[49m\n\u001b[1;32m    794\u001b[0m \u001b[43m            \u001b[49m\u001b[43mnewline\u001b[49m\u001b[38;5;241;43m=\u001b[39;49m\u001b[38;5;124;43m\"\u001b[39;49m\u001b[38;5;124;43m\"\u001b[39;49m\u001b[43m,\u001b[49m\n\u001b[1;32m    795\u001b[0m \u001b[43m        \u001b[49m\u001b[43m)\u001b[49m\n\u001b[1;32m    796\u001b[0m     \u001b[38;5;28;01melse\u001b[39;00m:\n\u001b[1;32m    797\u001b[0m         \u001b[38;5;66;03m# Binary mode\u001b[39;00m\n\u001b[1;32m    798\u001b[0m         handle \u001b[38;5;241m=\u001b[39m \u001b[38;5;28mopen\u001b[39m(handle, ioargs\u001b[38;5;241m.\u001b[39mmode)\n",
      "\u001b[0;31mFileNotFoundError\u001b[0m: [Errno 2] No such file or directory: '/kaggle/input/time-series-data/daily-min-temperatures.csv'"
     ]
    }
   ],
   "source": [
    "### Read the time series data\n",
    "\n",
    "univariate_series   =  pd.read_csv('/kaggle/input/time-series-data/daily-min-temperatures.csv', header = 0, index_col = 0, parse_dates = True, squeeze = True)\n",
    "\n",
    "### Print first five records\n",
    "univariate_series.head()"
   ]
  },
  {
   "cell_type": "markdown",
   "metadata": {},
   "source": [
    "#### Plot the time series data to detect patterns"
   ]
  },
  {
   "cell_type": "code",
   "execution_count": null,
   "metadata": {},
   "outputs": [],
   "source": [
    "univariate_series.plot()\n",
    "plt.ylabel('Minimum Temp')\n",
    "plt.title('Minimum temperature in Southern Hemisphere \\n  from 1981 to 1990')\n",
    "plt.show()"
   ]
  },
  {
   "cell_type": "markdown",
   "metadata": {},
   "source": [
    "If we want to predict the  temperature for the next few months, we will try to look at the past values and try to gauge and extract the pattern. \n",
    "Here we observe a pattern within each year indicating a seasonal effect. Such observations will help us in predicting future values.\n",
    "\n",
    "**Note: We have used only one variable here , Temp (the temperature of the past 19 years).**\n",
    "\n",
    "Hence this is called as the Univariate Time Series Analysis/Forecasting. "
   ]
  },
  {
   "cell_type": "markdown",
   "metadata": {},
   "source": [
    "### b) Multivariate Time Series \n",
    "\n",
    "A multivariate time series data contains more than one time dependant variable. Each variable here depends on not only the past values but also has some dependency on other variables.This dependency is used for forecasting the future values. For reference , please have a look at the following website \n",
    "\n",
    " https://www.analyticsvidhya.com/blog/2018/09/multivariate-time-series-guide-forecasting-modeling-python-codes/\n",
    " "
   ]
  },
  {
   "cell_type": "markdown",
   "metadata": {},
   "source": [
    "**Air pollution forecasting**\n",
    "\n",
    "https://machinelearningmastery.com/multivariate-time-series-forecasting-lstms-keras/\n",
    "\n",
    "This dataset tells us about the weather and the level of the pollution each hour for five years at the US embassy located in Beijing,China. The data includes the date-time, the pollution called PM2.5 concentaration, and the other weather information including dew point, temeperature, pressure, wind direction , wind speed and the cumulative no of hours of snow and rain. \n",
    "\n",
    "The complete feature list of the raw data is as follows :\n",
    "\n",
    "| Sl No | Variable | Description |\n",
    "| --- | --------------- | ------------------------------ |\n",
    "| 1 | No | row number | \n",
    "| 2 | qyear | year of data in this row | \n",
    "| 3 | month | month of data in this row | \n",
    "| 4 | day | day of data in this row | \n",
    "| 5 | hour | hour of data in this row | \n",
    "| 6 | pm2.5 | PM2.5 concentration | \n",
    "| 7 | DEWP | Dew Point | \n",
    "| 8 | TEMP | Temperature | \n",
    "| 9 | PRES | Pressure | \n",
    "| 10 | cbwd | Combined wind direction | \n",
    "| 11 | Iws | Cumulated wind speed | \n",
    "| 12 | Is | Cumulated hours of snow | \n",
    "| 13 | Ir | Cumulated hours of rain | \n",
    "\n",
    "\n",
    "\n"
   ]
  },
  {
   "cell_type": "markdown",
   "metadata": {},
   "source": [
    "\n",
    "**Given the weather conditions and pollution for prior hours, we forecast the pollution at the next hour.**"
   ]
  },
  {
   "cell_type": "markdown",
   "metadata": {},
   "source": [
    "* 1) Consolidate the date-time information into a single date-time so that we can use it as an index in Pandas.\n",
    "* 2) Treat NA values. \n",
    "\n",
    "A quick check reveals NA values for pm2.5 for the first 24 hours. We will, therefore, need to remove the first row of data. There are also a few scattered “NA” values later in the dataset; we can mark them with 0 values for now."
   ]
  },
  {
   "cell_type": "markdown",
   "metadata": {},
   "source": [
    "* 1) Load the raw dataset and parses the date-time information as the Pandas DataFrame index. \n",
    "* 2) Drop the “No” column \n",
    "* 3) Name each column. \n",
    "* 4) Replace NA values with “0” \n",
    "* 5) Remove first 24 hours."
   ]
  },
  {
   "cell_type": "code",
   "execution_count": null,
   "metadata": {},
   "outputs": [],
   "source": [
    "# process the date time information \n",
    "\n",
    "from datetime import datetime\n",
    "def parse(x):\n",
    "    return datetime.strptime(x,'%Y %m %d %H')\n",
    "\n",
    "# Load dataset\n",
    "pollution_df = pd.read_csv(\"/kaggle/input/time-series-data/pollution.csv\",parse_dates = [['year', 'month', 'day', 'hour']],index_col=0, date_parser=parse)\n",
    "pollution_df.drop('No', axis=1, inplace=True)\n",
    "# manually specify column names\n",
    "\n",
    "pollution_df.columns = ['pollution', 'dew', 'temp', 'press', 'wnd_dir', 'wnd_spd', 'snow', 'rain']\n",
    "pollution_df.index.name = 'date'\n",
    "\n",
    "# mark all NA values with 0\n",
    "pollution_df['pollution'].fillna(0, inplace=True)\n",
    "\n",
    "# drop the first 24 hours\n",
    "pollution_df = pollution_df[24:]\n",
    "\n",
    "# summarize first 5 rows\n",
    "print(pollution_df.head(5))\n"
   ]
  },
  {
   "cell_type": "code",
   "execution_count": null,
   "metadata": {},
   "outputs": [],
   "source": [
    "values = pollution_df.values\n",
    "\n",
    "# specify columns to plot\n",
    "\n",
    "groups = [0, 1, 2, 3, 5, 6, 7]\n",
    "i = 1\n",
    "\n",
    "# plot each column\n",
    "plt.figure()\n",
    "\n",
    "for group in groups:\n",
    "    plt.subplot(len(groups), 1, i)\n",
    "    plt.plot(values[:, group])\n",
    "    plt.title(pollution_df.columns[group], y=0.5, loc='right')\n",
    "    i += 1\n",
    "    \n",
    "plt.show()"
   ]
  },
  {
   "cell_type": "markdown",
   "metadata": {},
   "source": [
    "# **8.Reading and Saving Time Series Objects in Python** <a class=\"anchor\" id=\"8\"></a>\n",
    "\n",
    "[Table of Contents](#0.1)\n",
    "\n",
    "### Example 1 \n",
    "\n",
    "#### Use US Airpassengers data set"
   ]
  },
  {
   "cell_type": "code",
   "execution_count": null,
   "metadata": {},
   "outputs": [],
   "source": [
    "airPax_df = pd.read_csv('/kaggle/input/time-series-data/AirPassengers.csv')\n",
    "#Parse strings to datetime type\n",
    "airPax_df['Month'] = pd.to_datetime(airPax_df['Month'],infer_datetime_format=True) #convert from string to datetime\n",
    "airPax_df_indexed = airPax_df.set_index(['Month'])\n",
    "airPax_df_indexed.head(5)"
   ]
  },
  {
   "cell_type": "code",
   "execution_count": null,
   "metadata": {},
   "outputs": [],
   "source": [
    "plt.plot(airPax_df_indexed) \n",
    "plt.show()"
   ]
  },
  {
   "cell_type": "code",
   "execution_count": null,
   "metadata": {},
   "outputs": [],
   "source": [
    "### Save the TS object\n",
    "airPax_df_indexed.to_csv('ts1.csv', index = True, sep = ',')\n",
    "\n",
    "### Check the object retrieved\n",
    "series1 = pd.read_csv('ts1.csv', header = 0)\n",
    "\n",
    "\n",
    "### Check\n",
    "print(type(series1))\n",
    "print(series1.head(2).T)"
   ]
  },
  {
   "cell_type": "markdown",
   "metadata": {},
   "source": [
    "### Example 2\n",
    "\n",
    "Reading the  GDP of India series data  and save this TS object using python.\n",
    "Data is yearly from 1960-1-1 to 2017-12-31.\n",
    "\n",
    "https://pythontips.com/2013/08/02/what-is-pickle-in-python/\n",
    "\n",
    "Any object in python can be pickled so that it can be saved on disk. What pickle does is that it “serialises” the object first before writing it to file. \n",
    "\n",
    "Pickling is a way to convert a python object (list, dict, etc.) into a character stream. The idea is that this character stream contains all the information necessary to reconstruct the object in another python script.\n",
    "\n",
    "Now we store the TS object and retrieve the same from the pickle object."
   ]
  },
  {
   "cell_type": "code",
   "execution_count": null,
   "metadata": {},
   "outputs": [],
   "source": [
    "india_gdp_df = pd.read_csv(\"/kaggle/input/time-series-data/GDPIndia.csv\")\n",
    "date_rng = pd.date_range(start='1/1/1960', end='31/12/2017', freq='A')\n",
    "india_gdp_df['TimeIndex'] = pd.DataFrame(date_rng, columns=['Year'])\n",
    "india_gdp_df.head(5).T"
   ]
  },
  {
   "cell_type": "code",
   "execution_count": null,
   "metadata": {},
   "outputs": [],
   "source": [
    "plt.plot(india_gdp_df.TimeIndex, india_gdp_df.GDPpercapita)\n",
    "plt.legend(loc='best')\n",
    "plt.show()"
   ]
  },
  {
   "cell_type": "code",
   "execution_count": null,
   "metadata": {},
   "outputs": [],
   "source": [
    "### Load as a pickle object\n",
    "\n",
    "import pickle\n",
    "\n",
    "with open('GDPIndia.obj', 'wb') as fp:\n",
    "        pickle.dump(india_gdp_df, fp)"
   ]
  },
  {
   "cell_type": "code",
   "execution_count": null,
   "metadata": {},
   "outputs": [],
   "source": [
    "### Retrieve the pickle object\n",
    "\n",
    "with open('GDPIndia.obj', 'rb') as fp:\n",
    "     india_gdp1_df = pickle.load(fp)\n",
    "        \n",
    "india_gdp1_df.head(5).T"
   ]
  },
  {
   "cell_type": "markdown",
   "metadata": {},
   "source": [
    "# 9.Components of the Time Series <a class=\"anchor\" id=\"9\"></a>\n",
    "\n",
    "[Table of Contents](#0.1)\n",
    "\n",
    "The components of the time series are following :- \n",
    "\n",
    "* **Trend** :- A gradual shift or movement to relatively higher or lower values over a long period of time.\n",
    "       \n",
    "       1. When the time series analysis shows a general trend , that is upward . It is called uptrend.\n",
    "       2. When the time series analysis shows a general trend , that is downward. It is called downtrend.\n",
    "       3. When there is no trend, we call it horizontal or stationary trend.\n",
    "      \n",
    "* **Seasonality** :- It means upward or downward swings. Repeating periods within a fixed period of time. It is usually observed within a period of time.For   example , if you live in a country with cold winters and hot summers, your air conditioning costs goes high in summer and low in winters. \n",
    "* **Cyclic Patterns** :- It refers to repeating up and down movements. It usually go over more than a year of time.It is much harder to predict.\n",
    "* **Irregular** :- It refers to erratic, unsystematic, 'residual' flutuations. It is for short duration and non repeating. It happens due to random        variations or unforeseen events. It generally contains the white noise which we will see in the coming sections. \n",
    "\n"
   ]
  },
  {
   "cell_type": "markdown",
   "metadata": {},
   "source": [
    "### Trend & Seasonality\n",
    "\n",
    "Consider the example of **shampoo sales dataset**. \n",
    "\n",
    "This Dataset describes the monthly number of sales of shampoo over a 3 year period. The units are a sales count and there are 36 observations. The original dataset is credited to Makridakis, Wheelwright, and Hyndman (1998).\n",
    "\n",
    "**Data source**:https://github.com/jbrownlee/Datasets\n",
    "\n",
    "Below is a sample of the first 5 rows of data, including the header row.\n",
    "\n",
    "| Month | Sales |\n",
    "| ---- | -------- |\n",
    "| 1-01 | 266.0 | \n",
    "| 1-02 | 145.9 | \n",
    "| 1-03 | 183.1 | \n",
    "| 1-04 | 119.3 | \n",
    "| 1-05 | 180.3 | \n",
    "\n",
    "\n"
   ]
  },
  {
   "cell_type": "code",
   "execution_count": null,
   "metadata": {},
   "outputs": [],
   "source": [
    "def parser(x):\n",
    "    return datetime.strptime('190'+x, '%Y-%m')\n",
    " \n",
    "series = pd.read_csv('/kaggle/input/time-series-data/shampoo.csv', header=0, parse_dates=[0], index_col=0, squeeze=True, date_parser=parser)\n",
    "\n",
    "series.plot()\n",
    "plt.show()"
   ]
  },
  {
   "cell_type": "markdown",
   "metadata": {},
   "source": [
    "### The above plot shows an increasing trend.\n"
   ]
  },
  {
   "cell_type": "markdown",
   "metadata": {},
   "source": [
    "**Minimum Daily Temperatures Dataset**\n",
    "\n",
    "https://machinelearningmastery.com/time-series-seasonality-with-python/\n",
    "\n",
    "This dataset describes the minimum daily temperatures over 10 years (1981-1990) in the city Melbourne, Australia.\n",
    "\n",
    "Data source: Data Market https://datamarket.com/data/set/22r0/sales-of-shampoo-over-a-three-year-period\n",
    "\n",
    "The units are in degrees Celsius and there are 3,650 observations. The source of the data is credited as the Australian Bureau of Meteorology.\n",
    "\n",
    "A sample of the first 5 rows of data, including the header row is shown below:\n",
    "\n",
    "| Date | Temperature |\n",
    "| ------- | -------- | \n",
    "| 1981-01-01 | 20.7 | \n",
    "| 1981-01-02 | 17.9 | \n",
    "| 1981-01-03 | 18.8 | \n",
    "| 1981-01-04 | 14.6 | \n",
    "| 1981-01-05 | 15.8 | \n"
   ]
  },
  {
   "cell_type": "code",
   "execution_count": null,
   "metadata": {},
   "outputs": [],
   "source": [
    "### Read the time series data\n",
    "\n",
    "series   =  pd.read_csv('/kaggle/input/time-series-data/daily-min-temperatures.csv', header = 0, index_col = 0, parse_dates = True, squeeze = True)\n",
    "\n",
    "series.plot()\n",
    "plt.ylabel('Minimum Temp')\n",
    "plt.title('Minimum temperature in Southern Hemisphere \\n From 1981 to 1990')\n",
    "plt.show()"
   ]
  },
  {
   "cell_type": "markdown",
   "metadata": {},
   "source": [
    "### The above plot shows a strong seasonality component."
   ]
  },
  {
   "cell_type": "markdown",
   "metadata": {},
   "source": [
    "We can draw a boxplot to check the variation across months in a year (1990).\n",
    "It appears that we have a seasonal component each year showing swing from summer to winter."
   ]
  },
  {
   "cell_type": "code",
   "execution_count": null,
   "metadata": {},
   "outputs": [],
   "source": [
    "months         = pd.DataFrame()\n",
    "one_year       = series['1990'] \n",
    "groups         = one_year.groupby(pd.Grouper(freq='M')) \n",
    "months         = pd.concat([pd.DataFrame(x[1].values) for x in groups], axis=1) \n",
    "months         = pd.DataFrame(months) \n",
    "months.columns = range(1,13) \n",
    "months.boxplot() \n",
    "plt.show()"
   ]
  },
  {
   "cell_type": "markdown",
   "metadata": {},
   "source": [
    "This plot shows the signiﬁcant change in distribution of minimum temperatures across the months of the year from the Southern Hemisphere summer in January to the Southern Hemisphere winter in the middle of the year, and back to summer again."
   ]
  },
  {
   "cell_type": "markdown",
   "metadata": {},
   "source": [
    "We group the Minimum Daily Temperatures dataset by years. A box and whisker plot is then created for each year and lined up side-by-side for direct comparison."
   ]
  },
  {
   "cell_type": "code",
   "execution_count": null,
   "metadata": {},
   "outputs": [],
   "source": [
    "groups = series.groupby(pd.Grouper(freq='A')) \n",
    "years  = pd.DataFrame() \n",
    "for name, group in groups: \n",
    "    years[name.year] = group.values \n",
    "years.boxplot() \n",
    "plt.show()"
   ]
  },
  {
   "cell_type": "markdown",
   "metadata": {},
   "source": [
    "We don't observe much year-by-year variation "
   ]
  },
  {
   "cell_type": "markdown",
   "metadata": {},
   "source": [
    "**Tractor Sales Series Data**\n",
    "\n",
    "This data shows the details of the no of the tractors sold on the monthly basis for the year 2020. \n",
    "\n"
   ]
  },
  {
   "cell_type": "code",
   "execution_count": null,
   "metadata": {},
   "outputs": [],
   "source": [
    "tractor_df = pd.read_csv(\"/kaggle/input/time-series-data/TractorSales.csv\")\n",
    "tractor_df.head(5)"
   ]
  },
  {
   "cell_type": "code",
   "execution_count": null,
   "metadata": {},
   "outputs": [],
   "source": [
    "dates = pd.date_range(start='2003-01-01', freq='MS', periods=len(tractor_df))"
   ]
  },
  {
   "cell_type": "code",
   "execution_count": null,
   "metadata": {},
   "outputs": [],
   "source": [
    "import calendar\n",
    "tractor_df['Month'] = dates.month\n",
    "tractor_df['Month'] = tractor_df['Month'].apply(lambda x: calendar.month_abbr[x])\n",
    "tractor_df['Year'] = dates.year"
   ]
  },
  {
   "cell_type": "code",
   "execution_count": null,
   "metadata": {},
   "outputs": [],
   "source": [
    "#Tractor.drop(['Month-Year'], axis=1, inplace=True)\n",
    "tractor_df.rename(columns={'Number of Tractor Sold':'Tractor-Sales'}, inplace=True)\n",
    "tractor_df = tractor_df[['Month', 'Year', 'Tractor-Sales']]"
   ]
  },
  {
   "cell_type": "code",
   "execution_count": null,
   "metadata": {},
   "outputs": [],
   "source": [
    "tractor_df.set_index(dates, inplace=True)"
   ]
  },
  {
   "cell_type": "code",
   "execution_count": null,
   "metadata": {},
   "outputs": [],
   "source": [
    "tractor_df = tractor_df[['Tractor-Sales']]\n",
    "tractor_df.head(5)"
   ]
  },
  {
   "cell_type": "code",
   "execution_count": null,
   "metadata": {},
   "outputs": [],
   "source": [
    "tractor_df.plot()\n",
    "plt.ylabel('Tractor Sales')\n",
    "plt.title(\"Tractor Sales from 2003 to 2014\")\n",
    "plt.show()"
   ]
  },
  {
   "cell_type": "markdown",
   "metadata": {},
   "source": [
    "The above plot shows a strong seasonality and trend component.\n",
    "\n",
    "We can draw a boxplot to check the variation across months in a year (2011). "
   ]
  },
  {
   "cell_type": "code",
   "execution_count": null,
   "metadata": {},
   "outputs": [],
   "source": [
    "months         = pd.DataFrame()\n",
    "one_year       = tractor_df['2011'] \n",
    "groups         = one_year.groupby(pd.Grouper(freq='M')) \n",
    "months         = pd.concat([pd.DataFrame(x[1].values) for x in groups], axis=1) \n",
    "months         = pd.DataFrame(months) \n",
    "months.columns = range(1,13) \n",
    "months.boxplot() \n",
    "plt.show()"
   ]
  },
  {
   "cell_type": "markdown",
   "metadata": {},
   "source": [
    "It appears that we have a seasonal component each year showing swing from May to Aug."
   ]
  },
  {
   "cell_type": "code",
   "execution_count": null,
   "metadata": {},
   "outputs": [],
   "source": [
    "tractor_df['2003']"
   ]
  },
  {
   "cell_type": "markdown",
   "metadata": {},
   "source": [
    "You can also use the Champagne Series data, food sales data and plot the time series.Check whether the data shows trend or seasonality or both."
   ]
  },
  {
   "cell_type": "markdown",
   "metadata": {},
   "source": [
    "# **10.Decomposition of Time Series** <a class=\"anchor\" id=\"10\"></a>\n",
    "\n",
    "[Table of Contents](#0.1)"
   ]
  },
  {
   "cell_type": "markdown",
   "metadata": {},
   "source": [
    "### Additive Model"
   ]
  },
  {
   "cell_type": "markdown",
   "metadata": {},
   "source": [
    "### Additive Decomposition\n",
    "\n",
    "* An additive model suggests that the components are added together.\n",
    "* An additive model is linear where changes over time are consistently made by the same amount.\n",
    "* A linear seasonality has the same frequency (width of the cycles) and amplitude (height of the cycles)."
   ]
  },
  {
   "cell_type": "markdown",
   "metadata": {},
   "source": [
    "The statsmodels library provides an implementation of the naive, or classical, decomposition method in a function called seasonal_decompose(). You need to specify whether the model is additive or multiplicative.\n",
    "\n",
    "The seasonal_decompose() function returns a result object which contains arrays to access four pieces of data from the decomposition.\n",
    "\n",
    "https://machinelearningmastery.com/decompose-time-series-data-trend-seasonality/"
   ]
  },
  {
   "cell_type": "markdown",
   "metadata": {},
   "source": [
    "**Additive model decomposition on Retail Turnover data**\n",
    "\n"
   ]
  },
  {
   "cell_type": "code",
   "execution_count": null,
   "metadata": {},
   "outputs": [],
   "source": [
    "turnover_df= pd.read_csv('/kaggle/input/time-series-data/RetailTurnover.csv')\n",
    "date_rng = pd.date_range(start='1/7/1982', end='31/3/1992', freq='Q')\n",
    "turnover_df['TimeIndex'] = pd.DataFrame(date_rng, columns=['Quarter'])\n",
    "turnover_df.head()\n",
    "plt.plot(turnover_df.TimeIndex, turnover_df.Turnover)\n",
    "plt.legend(loc='best')\n",
    "plt.show()"
   ]
  },
  {
   "cell_type": "code",
   "execution_count": null,
   "metadata": {},
   "outputs": [],
   "source": [
    "from statsmodels.tsa.seasonal import seasonal_decompose\n",
    "import  statsmodels.api as sm\n",
    "decompTurnover_df = sm.tsa.seasonal_decompose(turnover_df.Turnover, model=\"additive\", freq=4)\n",
    "decompTurnover_df.plot()\n",
    "plt.show()"
   ]
  },
  {
   "cell_type": "markdown",
   "metadata": {},
   "source": [
    "Running the above code performs the decomposition, and plots the 4 resulting series. We observe that the trend and seasonality are clearly separated."
   ]
  },
  {
   "cell_type": "code",
   "execution_count": null,
   "metadata": {},
   "outputs": [],
   "source": [
    "trend = decompTurnover_df.trend\n",
    "seasonal = decompTurnover_df.seasonal\n",
    "residual = decompTurnover_df.resid"
   ]
  },
  {
   "cell_type": "code",
   "execution_count": null,
   "metadata": {},
   "outputs": [],
   "source": [
    "print(trend.head(12))\n",
    "print(seasonal.head(12))\n",
    "print(residual.head(12))"
   ]
  },
  {
   "cell_type": "markdown",
   "metadata": {},
   "source": [
    "Using Champagne Series data, perform additive model decomposition.\n",
    "\n",
    "Hint:\n",
    "date_rng = pd.date_range(start='1/1/1964', end='30/9/1972', freq='M')\n",
    "date_rng\n",
    "Champ['TimeIndex'] = pd.DataFrame(date_rng, columns=['Month'])"
   ]
  },
  {
   "cell_type": "markdown",
   "metadata": {},
   "source": [
    "### Multiplicative model\n",
    "\n",
    "### Multiplicative Decomposition\n",
    "\n",
    "* An additive model suggests that the components are multipled together.\n",
    "* An additive model is non-linear such as quadratic or exponential. \n",
    "* Changes increase or decrease over time.\n",
    "* A non-linear seasonality has an increasing or decreasing frequency (width of the cycles) and / or amplitude (height of the cycles) over time."
   ]
  },
  {
   "cell_type": "markdown",
   "metadata": {},
   "source": [
    "**Perform multiplicative model decomposition on International Air Passengers Data.**"
   ]
  },
  {
   "cell_type": "code",
   "execution_count": null,
   "metadata": {},
   "outputs": [],
   "source": [
    "\n",
    "airPax_df = pd.read_csv('/kaggle/input/time-series-data/AirPax.csv')\n",
    "print(airPax_df.head())"
   ]
  },
  {
   "cell_type": "code",
   "execution_count": null,
   "metadata": {},
   "outputs": [],
   "source": [
    "date_rng = pd.date_range(start='1/1/1949', end='31/12/1960', freq='M')\n",
    "print(date_rng)"
   ]
  },
  {
   "cell_type": "code",
   "execution_count": null,
   "metadata": {},
   "outputs": [],
   "source": [
    "airPax_df['TimeIndex'] = pd.DataFrame(date_rng, columns=['Month'])\n",
    "print(airPax_df.head())"
   ]
  },
  {
   "cell_type": "code",
   "execution_count": null,
   "metadata": {},
   "outputs": [],
   "source": [
    "decompAirPax = sm.tsa.seasonal_decompose(airPax_df.Passenger, model=\"multiplicative\", freq=12)\n",
    "decompAirPax.plot()\n",
    "plt.show()"
   ]
  },
  {
   "cell_type": "markdown",
   "metadata": {},
   "source": [
    "Running the above code performs the decomposition, and plots the 4 resulting series.\n",
    "We observe that the trend and seasonality are clearly separated."
   ]
  },
  {
   "cell_type": "code",
   "execution_count": null,
   "metadata": {},
   "outputs": [],
   "source": [
    "seasonal = decompAirPax.seasonal\n",
    "seasonal.head(4)"
   ]
  },
  {
   "cell_type": "markdown",
   "metadata": {},
   "source": [
    "**Perform multiplicative model decomposition on Tractor Sales Series**\n",
    "\n",
    "## Visualization of Seasonality - Month plots\n",
    "Let us use retail turnover data and observe seasonality using visualization techniques."
   ]
  },
  {
   "cell_type": "code",
   "execution_count": null,
   "metadata": {},
   "outputs": [],
   "source": [
    "quarterly_turnover = pd.pivot_table(turnover_df, values = \"Turnover\", columns = \"Quarter\", index = \"Year\")\n",
    "quarterly_turnover"
   ]
  },
  {
   "cell_type": "code",
   "execution_count": null,
   "metadata": {},
   "outputs": [],
   "source": [
    "quarterly_turnover.plot()\n",
    "plt.show()"
   ]
  },
  {
   "cell_type": "code",
   "execution_count": null,
   "metadata": {},
   "outputs": [],
   "source": [
    "quarterly_turnover.boxplot()\n",
    "plt.show()"
   ]
  },
  {
   "cell_type": "markdown",
   "metadata": {},
   "source": [
    "### Observation\n",
    "\n",
    "We see very clearly that the turnover is high in Quarter 1 and very low in quarter 2."
   ]
  },
  {
   "cell_type": "markdown",
   "metadata": {},
   "source": [
    "**Let us use Petrol data and observe seasonality using visualization techniques**"
   ]
  },
  {
   "cell_type": "code",
   "execution_count": null,
   "metadata": {},
   "outputs": [],
   "source": [
    "petrol_df = pd.read_csv('/kaggle/input/time-series-data/Petrol.csv')\n",
    "petrol_df.head()\n",
    "date_rng = pd.date_range(start='1/1/2001', end='30/9/2013', freq='Q')\n",
    "\n",
    "#date_rng\n",
    "petrol_df['TimeIndex'] = pd.DataFrame(date_rng, columns=['Quarter'])\n",
    "print(petrol_df.head())\n",
    "\n",
    "plt.plot(petrol_df.TimeIndex, petrol_df.Consumption)\n",
    "plt.legend(loc='best')\n",
    "plt.show()"
   ]
  },
  {
   "cell_type": "markdown",
   "metadata": {},
   "source": [
    "### Seasonal Indices\n",
    "\n",
    "* Seasonality is the presence of variations that occur at specific regular intervals less than a year, such as weekly, monthly, or quarterly. \n",
    "* Seasonality may be caused by various factors, such as weather, vacation, and holidays and consists of periodic, repetitive, and generally regular and predictable patterns in the levels of a time series."
   ]
  },
  {
   "cell_type": "markdown",
   "metadata": {},
   "source": [
    "# **11.Moving average forecast** <a class=\"anchor\" id=\"11\"></a>\n",
    "\n",
    "[Table of Contents](#0.1)\n",
    "\n",
    "Moving Average Smoothing is a naive and effective technique in time series forecasting.\n",
    "\n",
    "Smoothing is a technique applied to time series to remove the fine-grained variation between time steps. \n",
    "\n",
    "Calculating a moving average involves creating a new series where the values are comprised of the average of raw observations in the original time series.\n",
    "\n",
    "A moving average requires that you specify a window size called the window width. This defines the number of raw observations used to calculate the moving average value. \n",
    "\n",
    "### Two main types of moving averages:\n",
    "#### 1) Centered moving average  - calculated as the average of raw observations at, before and after time, t.\n",
    "#### 2) Trailing moving average - uses historical observations and is used on time series forecasting."
   ]
  },
  {
   "cell_type": "markdown",
   "metadata": {},
   "source": [
    "The rolling() function on the Series Pandas object will automatically group observations into a window.\n",
    "\n",
    "You can specify the window size, and by default, a trailing window is created. Once the window is created, we can use the mean value, which forms our transformed dataset.\n"
   ]
  },
  {
   "cell_type": "markdown",
   "metadata": {},
   "source": [
    "###  Average and moving average for Air Temp data"
   ]
  },
  {
   "cell_type": "code",
   "execution_count": null,
   "metadata": {},
   "outputs": [],
   "source": [
    "airTemp_df =  pd.read_csv('/kaggle/input/time-series-data/AirTemp.csv')\n",
    "date_rng =  pd.date_range(start='1/1/1920', end='31/12/1939', freq='M')\n",
    "airTemp_df['TimeIndex'] = pd.DataFrame(date_rng, columns=['Month'])\n",
    "airTemp_df.head()"
   ]
  },
  {
   "cell_type": "markdown",
   "metadata": {},
   "source": [
    "#### Plot the average temp"
   ]
  },
  {
   "cell_type": "code",
   "execution_count": null,
   "metadata": {},
   "outputs": [],
   "source": [
    "plt.plot(airTemp_df.TimeIndex, airTemp_df.AvgTemp)\n",
    "plt.legend(loc='best')\n",
    "plt.show()"
   ]
  },
  {
   "cell_type": "markdown",
   "metadata": {},
   "source": [
    "#### Plot the average forecast"
   ]
  },
  {
   "cell_type": "code",
   "execution_count": null,
   "metadata": {},
   "outputs": [],
   "source": [
    "temp_avg = airTemp_df.copy()\n",
    "temp_avg['avg_forecast'] = airTemp_df['AvgTemp'].mean()\n",
    "\n",
    "plt.figure(figsize=(12,8))\n",
    "plt.plot(airTemp_df['AvgTemp'], label='Data')\n",
    "plt.plot(temp_avg['avg_forecast'], label='Average Forecast')\n",
    "plt.legend(loc='best')\n",
    "plt.show()"
   ]
  },
  {
   "cell_type": "markdown",
   "metadata": {},
   "source": [
    "#### Plot the moving average forecast and average temperature"
   ]
  },
  {
   "cell_type": "code",
   "execution_count": null,
   "metadata": {},
   "outputs": [],
   "source": [
    "mvg_avg = airTemp_df.copy()\n",
    "mvg_avg['moving_avg_forecast'] = airTemp_df['AvgTemp'].rolling(12).mean()\n",
    "plt.plot(airTemp_df['AvgTemp'], label='Average Temperature')\n",
    "plt.plot(mvg_avg['moving_avg_forecast'], label='Moving Average Forecast')\n",
    "plt.legend(loc='best')\n",
    "plt.show()"
   ]
  },
  {
   "cell_type": "markdown",
   "metadata": {},
   "source": [
    "### Moving average of window size 5 for US GDP"
   ]
  },
  {
   "cell_type": "code",
   "execution_count": null,
   "metadata": {},
   "outputs": [],
   "source": [
    "USGDP_df    = pd.read_csv('/kaggle/input/time-series-data/GDPIndia.csv', header=0)\n",
    "print(USGDP_df.head())\n",
    "date_rng = pd.date_range(start='1/1/1929', end='31/12/1991', freq='A')\n",
    "print(date_rng)\n",
    "\n",
    "USGDP_df['TimeIndex'] = pd.DataFrame(date_rng, columns=['Year'])\n",
    "plt.plot(USGDP_df.TimeIndex, USGDP_df.GDPpercapita)\n",
    "\n",
    "plt.legend(loc='best')\n",
    "plt.show()"
   ]
  },
  {
   "cell_type": "code",
   "execution_count": null,
   "metadata": {},
   "outputs": [],
   "source": [
    "mvg_avg_USGDP = USGDP_df.copy()\n",
    "mvg_avg_USGDP['moving_avg_forecast'] = USGDP_df['GDPpercapita'].rolling(5).mean()\n",
    "plt.plot(USGDP_df['GDPpercapita'], label='US GDP')\n",
    "plt.plot(mvg_avg_USGDP['moving_avg_forecast'], label='US GDP MA(5)')\n",
    "plt.legend(loc='best')\n",
    "plt.show()"
   ]
  },
  {
   "cell_type": "markdown",
   "metadata": {},
   "source": [
    "Moving average line is close to the original data line."
   ]
  },
  {
   "cell_type": "markdown",
   "metadata": {},
   "source": [
    "### Moving average of window size 3 for India GDP"
   ]
  },
  {
   "cell_type": "code",
   "execution_count": null,
   "metadata": {},
   "outputs": [],
   "source": [
    "IndiaGDP_df = pd.read_csv('/kaggle/input/time-series-data/GDPIndia.csv', header=0)\n",
    "\n",
    "date_rng = pd.date_range(start='1/1/1960', end='31/12/2017', freq='A')\n",
    "IndiaGDP_df['TimeIndex'] = pd.DataFrame(date_rng, columns=['Year'])\n",
    "\n",
    "print(IndiaGDP_df.head())\n",
    "\n",
    "plt.plot(IndiaGDP_df.TimeIndex, IndiaGDP_df.GDPpercapita)\n",
    "plt.legend(loc='best')\n",
    "plt.show()"
   ]
  },
  {
   "cell_type": "code",
   "execution_count": null,
   "metadata": {},
   "outputs": [],
   "source": [
    "mvg_avg_IndiaGDP = IndiaGDP_df.copy()\n",
    "mvg_avg_IndiaGDP['moving_avg_forecast'] = IndiaGDP_df['GDPpercapita'].rolling(3).mean()\n",
    "\n",
    "plt.plot(IndiaGDP_df['GDPpercapita'], label='India GDP per Capita')\n",
    "plt.plot(mvg_avg_IndiaGDP['moving_avg_forecast'], label='India GDP/Capita MA(3)')\n",
    "plt.legend(loc='best')\n",
    "plt.show()"
   ]
  },
  {
   "cell_type": "markdown",
   "metadata": {},
   "source": [
    "Moving average line is close to the original data line."
   ]
  },
  {
   "cell_type": "markdown",
   "metadata": {},
   "source": [
    "# 12.Handling Missing Values <a class=\"anchor\" id=\"12\"></a>\n",
    "\n",
    "[Table of Contents](#0.1)\n",
    "\n",
    "### Missing Data\n",
    "\n",
    "#### 1. \tNo missing data is allowed in time series as data is ordered.\n",
    "#### 2. \tIt is simply not possible to shift the series to fill in the gaps.\n",
    "\n",
    "\n",
    "### Reasons for missing data\n",
    "\n",
    "#### 1) \tData is not collected or recorded\n",
    "#### 2) \tData never existed\n",
    "#### 3) \tData corruption\n"
   ]
  },
  {
   "cell_type": "markdown",
   "metadata": {},
   "source": [
    "#### Mark missing values\n",
    "\n",
    "* NaN is the default missing value marker for reasons of computational speed and convenience. \n",
    "* We can easily detect this value with data of different types: floating point, integer, Boolean and general object. \n",
    "* However, the Python None will arise and we wish to also consider that missing.\n",
    "* To make detecting missing values easier across different array dtypes, pandas provides functions, isna() and notna(), which are also methods on Series and DataFrame objects.\n",
    "* For datetime64[ns] types, NaT represents missing values. Pandas objects provide histocompatibility between NaT and NaN."
   ]
  },
  {
   "cell_type": "markdown",
   "metadata": {},
   "source": [
    "### Inserting missing values\n",
    "\n",
    "You can assign missing values by simply assigning to containers. The missing value will be chosen based on the dtype."
   ]
  },
  {
   "cell_type": "code",
   "execution_count": null,
   "metadata": {},
   "outputs": [],
   "source": [
    "import pandas as pd\n",
    "import numpy  as np\n",
    "s = pd.Series([1,2,3,4,5,6])\n",
    "s.loc[4] = np.NaN\n",
    "print(s)"
   ]
  },
  {
   "cell_type": "markdown",
   "metadata": {},
   "source": [
    "### Calculations with missing values\n",
    "\n",
    "**Descriptive statistics and computational statistical methods are written to take into account for missing data.  **\n",
    "\n",
    "**Examples:**\n",
    "\n",
    "* When summing data, NA(missing) values will be treated as zeros.\n",
    "* If the data are all NA, the result will be 0.\n",
    "* Cumulative methods like cumsum() and cumprod() ignore NA values by default but preserve them in the resulting arrays. To override this behaviour and include NA values, use skipna = False"
   ]
  },
  {
   "cell_type": "markdown",
   "metadata": {},
   "source": [
    "A time series is a series of data points indexed in time order.  Most of the times, users want to replace the missing values in time series data by neighbouring non-missing values.  There may be a need for imputation or interpolation of missing values lying in between known values. \n",
    "\n",
    "Methods of imputation for replacing missing values (meaningful values)\n",
    "\n",
    "| Method | When suitable |\n",
    "| ---------------------------- | ------------------------------------ |\n",
    "| Take average of the nearest neighbours | Data has no seasonality |\n",
    "| Take average of the seasons from two or all available years | Data has seasonality |\n",
    "| Interpolate function of pandas |  |\n",
    "| Linear interpolation | Relationship in the interval of two samples is a first order polynomial |\n",
    "| Polynomial such as Quadratic or Cubic interpolation | Second or third order polynomial describes the interval between two samples |\n",
    "| Spline | Handles non-uniform spacing of samples |"
   ]
  },
  {
   "cell_type": "markdown",
   "metadata": {},
   "source": [
    "#### Example\n",
    "\n",
    "This example is taken from the following link\n",
    "\n",
    "https://www.dezyre.com/recipes/deal-with-missing-values-in-timeseries-in-python\n",
    "\n",
    "\n",
    "\n"
   ]
  },
  {
   "cell_type": "code",
   "execution_count": null,
   "metadata": {},
   "outputs": [],
   "source": [
    "def handle_missing_values():\n",
    "    print()\n",
    "    print(format('How to deal with missing values in a Timeseries in Python',\n",
    "                 '*^82'))\n",
    "    \n",
    "    # Create date\n",
    "    time_index = pd.date_range('28/03/2017', periods=5, freq='M')\n",
    "\n",
    "    # Create data frame, set index\n",
    "    df = pd.DataFrame(index=time_index);\n",
    "    print(df)\n",
    "\n",
    "    # Create feature with a gap of missing values\n",
    "    df['Sales'] = [1.0,2.0,np.nan,np.nan,5.0];\n",
    "    print(); print(df)\n",
    "\n",
    "    # Interpolate missing values\n",
    "    df1= df.interpolate();\n",
    "    print(); print(df1)\n",
    "\n",
    "    # Forward-fill Missing Values\n",
    "    df2 = df.ffill();\n",
    "    print(); print(df2)\n",
    "\n",
    "    # Backfill Missing Values\n",
    "    df3 = df.bfill();\n",
    "    print(); print(df3)\n",
    "\n",
    "    # Interpolate Missing Values But Only Up One Value\n",
    "    df4 = df.interpolate(limit=1, limit_direction='forward');\n",
    "    print(); print(df4)\n",
    "\n",
    "    # Interpolate Missing Values But Only Up Two Values\n",
    "    df5 = df.interpolate(limit=2, limit_direction='forward');\n",
    "    print(); print(df5)"
   ]
  },
  {
   "cell_type": "code",
   "execution_count": null,
   "metadata": {},
   "outputs": [],
   "source": [
    "handle_missing_values()"
   ]
  },
  {
   "cell_type": "markdown",
   "metadata": {},
   "source": [
    "**Example 2 :- Checking on the water consumption data**\n",
    "\n",
    "1. For reference , you can have a look at this link below , the example taken here by me is from this article:- \n",
    "\n",
    "https://medium.com/@drnesr/filling-gaps-of-a-time-series-using-python-d4bfddd8c460"
   ]
  },
  {
   "cell_type": "code",
   "execution_count": null,
   "metadata": {},
   "outputs": [],
   "source": [
    "waterConsumption_df=pd.read_csv(\"/kaggle/input/time-series-data/WaterConsumption.csv\")\n",
    "waterConsumption_df.head()"
   ]
  },
  {
   "cell_type": "code",
   "execution_count": null,
   "metadata": {},
   "outputs": [],
   "source": [
    "# Converting the column to DateTime format\n",
    "waterConsumption_df.Date = pd.to_datetime(waterConsumption_df.Date, format='%d-%m-%Y')\n",
    "waterConsumption_df = waterConsumption_df.set_index('Date')\n",
    "waterConsumption_df.head()"
   ]
  },
  {
   "cell_type": "code",
   "execution_count": null,
   "metadata": {},
   "outputs": [],
   "source": [
    "# For charting purposes, we will add a column that contains the missing values only.\n",
    "\n",
    "waterConsumption_df = waterConsumption_df.assign(missing= np.nan)\n",
    "waterConsumption_df.missing[waterConsumption_df.target.isna()] = waterConsumption_df.reference\n",
    "waterConsumption_df.info()"
   ]
  },
  {
   "cell_type": "code",
   "execution_count": null,
   "metadata": {},
   "outputs": [],
   "source": [
    "waterConsumption_df.plot(style=['k--', 'bo-', 'r*'],figsize=(20, 10))"
   ]
  },
  {
   "cell_type": "code",
   "execution_count": null,
   "metadata": {},
   "outputs": [],
   "source": [
    "# Filling using mean or median\n",
    "# Creating a column in the dataframe\n",
    "# instead of : df['NewCol']=0, we use\n",
    "# df = df.assign(NewCol=default_value)\n",
    "# to avoid pandas warning.\n",
    "waterConsumption_df = waterConsumption_df.assign(FillMean=waterConsumption_df.target.fillna(waterConsumption_df.target.mean()))\n",
    "waterConsumption_df = waterConsumption_df.assign(FillMedian=waterConsumption_df.target.fillna(waterConsumption_df.target.median()))"
   ]
  },
  {
   "cell_type": "code",
   "execution_count": null,
   "metadata": {},
   "outputs": [],
   "source": [
    "# imputing using the rolling average\n",
    "waterConsumption_df = waterConsumption_df.assign(RollingMean=waterConsumption_df.target.fillna(waterConsumption_df.target.rolling(24,min_periods=1,).mean()))\n",
    "# imputing using the rolling median\n",
    "waterConsumption_df = waterConsumption_df.assign(RollingMedian=waterConsumption_df.target.fillna(waterConsumption_df.target.rolling(24,min_periods=1,).median()))# imputing using the median"
   ]
  },
  {
   "cell_type": "code",
   "execution_count": null,
   "metadata": {},
   "outputs": [],
   "source": [
    "#Imputing using interpolation with different methods\n",
    "\n",
    "waterConsumption_df = waterConsumption_df.assign(InterpolateLinear=waterConsumption_df.target.interpolate(method='linear'))\n",
    "waterConsumption_df = waterConsumption_df.assign(InterpolateTime=waterConsumption_df.target.interpolate(method='time'))\n",
    "waterConsumption_df = waterConsumption_df.assign(InterpolateQuadratic=waterConsumption_df.target.interpolate(method='quadratic'))\n",
    "waterConsumption_df = waterConsumption_df.assign(InterpolateCubic=waterConsumption_df.target.interpolate(method='cubic'))\n",
    "waterConsumption_df = waterConsumption_df.assign(InterpolateSLinear=waterConsumption_df.target.interpolate(method='slinear'))\n",
    "waterConsumption_df = waterConsumption_df.assign(InterpolateAkima=waterConsumption_df.target.interpolate(method='akima'))\n",
    "waterConsumption_df = waterConsumption_df.assign(InterpolatePoly5=waterConsumption_df.target.interpolate(method='polynomial', order=5)) \n",
    "waterConsumption_df = waterConsumption_df.assign(InterpolatePoly7=waterConsumption_df.target.interpolate(method='polynomial', order=7))\n",
    "waterConsumption_df = waterConsumption_df.assign(InterpolateSpline3=waterConsumption_df.target.interpolate(method='spline', order=3))\n",
    "waterConsumption_df = waterConsumption_df.assign(InterpolateSpline4=waterConsumption_df.target.interpolate(method='spline', order=4))\n",
    "waterConsumption_df = waterConsumption_df.assign(InterpolateSpline5=waterConsumption_df.target.interpolate(method='spline', order=5))"
   ]
  },
  {
   "cell_type": "code",
   "execution_count": null,
   "metadata": {},
   "outputs": [],
   "source": [
    "#Scoring the results and see which is better\n",
    "\n",
    "# Import a scoring metric to compare methods\n",
    "from sklearn.metrics import r2_score\n",
    "\n",
    "results = [(method, r2_score(waterConsumption_df.reference, waterConsumption_df[method])) for method in list(waterConsumption_df)[3:]]\n",
    "results_df = pd.DataFrame(np.array(results), columns=['Method', 'R_squared'])\n",
    "results_df.sort_values(by='R_squared', ascending=False)"
   ]
  },
  {
   "cell_type": "code",
   "execution_count": null,
   "metadata": {},
   "outputs": [],
   "source": [
    "#data after imputation\n",
    "\n",
    "final_df= waterConsumption_df[['reference', 'target', 'missing', 'InterpolateTime' ]]\n",
    "final_df.plot(style=['b-.', 'ko', 'r.', 'rx-'], figsize=(20,10));\n",
    "plt.ylabel('Temperature');\n",
    "plt.legend(loc='upper center', bbox_to_anchor=(0.5, 1.05),\n",
    "          fancybox=True, shadow=True, ncol=5, prop={'size': 14} );"
   ]
  },
  {
   "cell_type": "markdown",
   "metadata": {},
   "source": [
    "**Limitation** \n",
    "\n",
    "* For the time interpolation to succeed, the dataframe must have the index in Date format with intervals of 1 day or more, (daily, monthly, …) however, it will not work for time-based data, like hourly data and so.\n",
    "* if it is important to use a different index for the dataframe, the use the reset_index().set_index('Date'), do the interpolation, and then apply the reset_index().set_index('DesiredIndex').\n",
    "* If the data contains another dividing column, like the type of merchandise, and we are imputing sales, then the imputation should be for each merchandise separately.\n",
    "\n"
   ]
  },
  {
   "cell_type": "markdown",
   "metadata": {},
   "source": [
    "# 13.Time Series Range, Accuracy and Various Requirements <a class=\"anchor\" id=\"13\"></a>\n",
    "\n",
    "[Table of Contents](#0.1)\n"
   ]
  },
  {
   "cell_type": "markdown",
   "metadata": {},
   "source": [
    "Time Series forecast models can both make predictions and provide a confidence interval for those predictions.\n",
    "\n"
   ]
  },
  {
   "cell_type": "markdown",
   "metadata": {},
   "source": [
    "### Forecast Range"
   ]
  },
  {
   "cell_type": "markdown",
   "metadata": {},
   "source": [
    "**Confidence intervals provide an upper and lower expectation for the real observation. **\n",
    "\n",
    "These are useful for assessing the range of real possible outcomes for a prediction and for better understanding the skill of the model.\n",
    "\n",
    "For example, the ARIMA implementation in the statsmodel python library can be used to fit an ARIMA model. It returns an ARIMAResults object. \n",
    "\n",
    "The object provides the forecast() function returns three values:\n",
    "* 1) Forecast: The forecasted value in the \n",
    "* 2) Standard Error of the model: \n",
    "* 3) Confidence Interval: The 95% confidence interval for the forecast"
   ]
  },
  {
   "cell_type": "markdown",
   "metadata": {},
   "source": [
    "### Forecast Accuracy\n",
    "\n",
    "The error in the forecast is the difference between the actual value and the forecast.\n",
    "\n",
    "Two popular accuracy measures are RMSE and MAPE."
   ]
  },
  {
   "cell_type": "markdown",
   "metadata": {},
   "source": [
    "### Forecast  Requirements\n",
    "\n",
    "A time series model must contain a key time column that contains unique values, input columns, and at least one predictable column.\n",
    "\n",
    "Time series data often requires cleaning, scaling, and even transformation\n",
    "\n",
    "**Frequency:** Data may be provided at a frequency that is too high to model or is unvenly spread through time requiring  resampling for use in models.\n",
    "\n",
    "**Outliers:** Data may contain corrupt or extreme outlier values that need to be identified and handled.\n",
    "\n",
    "**Frequency:**\n",
    "\n",
    "* Frequencies may be too granular or not granular enough to get insights.\n",
    "* The pandas library in Pyhton provides the capability to increase or decrease the sampling frequency of the time series data.\n",
    "\n",
    "**Resampling:**\n",
    "\n",
    "* Resampling may be required if the data is not available at the same frequency that you want to make predictions.\n",
    "* Resampling may be required to provide additional structure or insight into the learning problem for supervised learning models."
   ]
  },
  {
   "cell_type": "markdown",
   "metadata": {},
   "source": [
    "**Up-sampling**\n",
    "* Increase the frequencies of the sample, example: months to days\n",
    "* Care may be needed in deciding how the fine-grained observations are calculated using interpolation.\n",
    "\n",
    "* The function, resample() available in the pandas library works on the Series and DataFrame objects.\n",
    "* This can be used to group records when down-sampling and make space for new observations when up-sampling."
   ]
  },
  {
   "cell_type": "markdown",
   "metadata": {},
   "source": [
    "### Example \n",
    "\n",
    "**Up-sampling frequency**\n",
    "\n",
    "* The observations in the Shampoo Sales are monthly. We need to up-sample the frequency from monthly to daily and use an interpolation scheme to fill in the new daily frequency.\n",
    "\n",
    "* We can use this function to transform our monthly dataset into a daily dataset by calling resampling and specifying preferred frequency of calendar day frequency or D."
   ]
  },
  {
   "cell_type": "code",
   "execution_count": null,
   "metadata": {},
   "outputs": [],
   "source": [
    "\n",
    "def parser(x):\n",
    "       return datetime.strptime('190'+x, '%Y-%m')\n",
    "\n",
    "shampoo_df = pd.read_csv('/kaggle/input/time-series-data/shampoo.csv', header = 0, index_col = 0, parse_dates = True, \n",
    "                               squeeze = True, date_parser = parser)\n",
    "\n",
    "upsampled_ts = shampoo_df.resample('D').mean()\n",
    "print(upsampled_ts .head(36))"
   ]
  },
  {
   "cell_type": "markdown",
   "metadata": {},
   "source": [
    "### Inference\n",
    "\n",
    "We observe that the resample() function has created the rows by putting NaN values as new values for dates other than day 01. \n",
    "\n",
    "Next we can interpolate the missing  values at this new frequency. The function, interpolate() of pandas library is used to interpolate the missing values. \n",
    "We use a linear interpolation which draws a straight line between available data, on the first day of the month and fills in values at the chosen frequency from this line. "
   ]
  },
  {
   "cell_type": "code",
   "execution_count": null,
   "metadata": {},
   "outputs": [],
   "source": [
    "interpolated = upsampled_ts.interpolate(method = 'linear')\n",
    "interpolated.plot()\n",
    "plt.show()"
   ]
  },
  {
   "cell_type": "markdown",
   "metadata": {},
   "source": [
    "**Another common interpolation**\n",
    "\n",
    "* Another common interpolation method is to use a polynomial or a spline to connect the values.\n",
    "This creates more curves and look more natural on many datasets.\n",
    "* Using a spline interpolation requires you specify the order (count of terms in the polynomial); we use 2."
   ]
  },
  {
   "cell_type": "code",
   "execution_count": null,
   "metadata": {},
   "outputs": [],
   "source": [
    "interpolated1 = upsampled_ts.interpolate(method = 'spline', order = 2)\n",
    "interpolated1.plot()\n",
    "plt.show()"
   ]
  },
  {
   "cell_type": "code",
   "execution_count": null,
   "metadata": {},
   "outputs": [],
   "source": [
    "print(interpolated1.head(12))"
   ]
  },
  {
   "cell_type": "markdown",
   "metadata": {},
   "source": [
    "**Down-sampling Frequency**\n",
    "\n",
    "* The sales data is monthly, but we prefer the data to be quarterly. The year can be divided into 4 business quarters, 3 months a piece. \n",
    "* The resample() function will group all observations by the new frequency.\n",
    "* We need to decide how to create a new quarterly value from each group of 3 records. We shall use the mean() function to calculate the average monthly sales numbers for the quarter"
   ]
  },
  {
   "cell_type": "code",
   "execution_count": null,
   "metadata": {},
   "outputs": [],
   "source": [
    "resample = shampoo_df.resample('Q')\n",
    "quarterly_mean_sales = resample.mean()\n",
    "print(quarterly_mean_sales.head())\n",
    "quarterly_mean_sales.plot()\n",
    "plt.show()"
   ]
  },
  {
   "cell_type": "markdown",
   "metadata": {},
   "source": [
    "### Example \n",
    "We can turn monthly data into yearly data. Down-sample the data using the alias, A for year-end frequency and this time use sum to calculate the total sales each year."
   ]
  },
  {
   "cell_type": "code",
   "execution_count": null,
   "metadata": {},
   "outputs": [],
   "source": [
    "resample = shampoo_df.resample('A')\n",
    "yearly_mean_sales = resample.sum()\n",
    "print(yearly_mean_sales.head() )\n",
    "yearly_mean_sales.plot()\n",
    "plt.show()"
   ]
  },
  {
   "cell_type": "markdown",
   "metadata": {},
   "source": [
    "**Outliers**\n",
    "Data may contain corrupt or extreme outlier values that need to be identified and handled.\n",
    "\n",
    "####  Detection of outliers in time series is difficult.\n",
    "* If a trend is present in the data, then usual method of detecting outliers by boxplot may not work.\n",
    "* If seasonality is present in the data, one particular season's data may be too small or too large compared to others.\n",
    "\n",
    "#### Decomposition helps in identifying unsual observations\n",
    "\n",
    "* If trend and seasonality are not adequate to explain the observation\n",
    "\n",
    "#### Outliers cannot be eliminated - they need to be imputed as closely as possible by using the knowledge gained from decomposition."
   ]
  },
  {
   "cell_type": "markdown",
   "metadata": {},
   "source": [
    "### Types of Trends\n",
    "\n",
    "* Deterministic Trends: They consistently increase or decrease and are easier to identify.\n",
    "* Stochastic Trends: They increase and decrease inconsistently \n",
    "\n",
    "#### Detrend a time series is by differencing"
   ]
  },
  {
   "cell_type": "code",
   "execution_count": null,
   "metadata": {},
   "outputs": [],
   "source": [
    "def parser(x): \n",
    "    return datetime.strptime('190'+x, '%Y-%m')\n",
    "\n",
    "shampoo_df=pd.read_csv(\"/kaggle/input/time-series-data/shampoo.csv\",header=0, index_col=0, parse_dates=True, squeeze=True, date_parser=parser)\n",
    "\n",
    "X = shampoo_df.values \n",
    "diff = list() \n",
    "for i in range(1, len(X)): \n",
    "     value = X[i] - X[i - 1] \n",
    "     diff.append(value) \n",
    "plt.plot(diff) \n",
    "plt.show()"
   ]
  },
  {
   "cell_type": "markdown",
   "metadata": {},
   "source": [
    "#### Inference\n",
    "\n",
    "We don't see any particular trend in the data."
   ]
  },
  {
   "cell_type": "markdown",
   "metadata": {},
   "source": [
    "An identified trend can be modeled. Once modeled, it can be removed from the time series dataset. \n",
    "\n",
    "#### Detrend by model fitting"
   ]
  },
  {
   "cell_type": "markdown",
   "metadata": {},
   "source": [
    "We will use Shampoo dataset.\n",
    "\n",
    "* A linear model can be fit on the time index to predict the observation. \n",
    "* Get a trend line from the predictions from this model.\n",
    "* Subtract these predictions from the original time series to provide a detrended version of the dataset.\n",
    "\n",
    "We will use a scikit-learn LinearRegression model to train the data."
   ]
  },
  {
   "cell_type": "code",
   "execution_count": null,
   "metadata": {},
   "outputs": [],
   "source": [
    "from sklearn.linear_model import LinearRegression \n",
    "\n",
    "# fit linear model \n",
    "X = [i for i in range(0, len(shampoo_df))] \n",
    "X = np.reshape(X, (len(X), 1))\n",
    "y = shampoo_df.values \n",
    "model = LinearRegression() \n",
    "model.fit(X, y) \n",
    "\n",
    "# calculate trend \n",
    "trend = model.predict(X) \n",
    "\n",
    "# plot trend \n",
    "plt.plot(y) \n",
    "plt.plot(trend) \n",
    "plt.show() \n",
    "\n",
    "# detrend \n",
    "detrended = [y[i]-trend[i] for i in range(0, len(shampoo_df))] \n",
    "\n",
    "# plot detrended \n",
    "plt.plot(detrended) \n",
    "plt.show()"
   ]
  },
  {
   "cell_type": "markdown",
   "metadata": {},
   "source": [
    "#### Inference\n",
    "\n",
    "We have plotted the trend line in orange colour over the original dataset in blue colour."
   ]
  },
  {
   "cell_type": "markdown",
   "metadata": {},
   "source": [
    "## Seasonal variation may be present in Time series data.\n",
    "\n",
    "* Seasonal variation, or seasonality, are cycles that repeat regularly over time.\n",
    "\n",
    "* By plotting and reviewing the data, you can determine if there is any seasonality in the data.\n",
    "* We can try with different scales and by adding a trend line.\n",
    "* Once the seasonality is identified, it can be modeled. When you remove the model of seasonality from the time series, it is called deseasonalizing or seasonal adjustment.\n",
    "\n",
    "** Seasonal adjustment with differencing**\n",
    "\n",
    "We can test the seasonality differencing method on the daily minimum temperature data."
   ]
  },
  {
   "cell_type": "code",
   "execution_count": null,
   "metadata": {},
   "outputs": [],
   "source": [
    "# deseasonalize monthly data by differencing \n",
    "\n",
    "min_temperature = pd.read_csv('/kaggle/input/time-series-data/daily-min-temperatures.csv', header=0, index_col=0, parse_dates=True, squeeze=True)\n",
    "resample       = min_temperature.resample('M') \n",
    "monthly_mean   = resample.mean() \n",
    "\n",
    "X = min_temperature.values \n",
    "diff = list() \n",
    "months_in_year = 12 \n",
    "\n",
    "for i in range(months_in_year, len(monthly_mean)): \n",
    "    value = monthly_mean[i] - monthly_mean[i - months_in_year] \n",
    "    diff.append(value) \n",
    "\n",
    "plt.plot(diff) \n",
    "plt.show()"
   ]
  },
  {
   "cell_type": "markdown",
   "metadata": {},
   "source": [
    "### Accuracy measures"
   ]
  },
  {
   "cell_type": "markdown",
   "metadata": {},
   "source": [
    "We would have used several models such as moving average, exponential smoothing, etc. before selecting the best model. \n",
    "\n",
    "The model selection may depend on the chosen forecasting accuracy measure such as:"
   ]
  },
  {
   "cell_type": "markdown",
   "metadata": {},
   "source": [
    "* Mean Absolute Error,  MAE = (1/n) (|Y1 - F1| + |Y2- F2| + ... + |Yn - Fn|)\n",
    "* Mean Absolute Percentage Error,  MAPE = (1/n) ((|Y1 - F1|/Y1) + (|Y2 - F2|/Y2) + ... + (|Yn- Fn|/Yn) * 100)\n",
    "* Mean Squared Error, MSE =  (1/n) ((Y1 - F1)^2 + (Y2- F2)^2 + ... + (Yn - Fn)^2)\n",
    "* Root Mean Square Error, RMSE = square root of MSE\n",
    "\n",
    "where n is the number of observations\n",
    "Yn is the actual value of Y at time n\n",
    "Fn is the corresponding forecasted value.\n",
    "RMSE and MAPE are two most popular accuracy measures of forecasting."
   ]
  },
  {
   "cell_type": "markdown",
   "metadata": {},
   "source": [
    "### Example \n",
    "\n",
    "Let us take the Daily Female Births Dataset as an example. \n",
    "\n",
    "This dataset describes the number of daily female births in California in 1959.\n",
    "\n",
    "Fit a moving average of window width 3 and evalue the model measures such as RMSE and MAPE."
   ]
  },
  {
   "cell_type": "code",
   "execution_count": null,
   "metadata": {},
   "outputs": [],
   "source": [
    "from sklearn.metrics import  mean_squared_error"
   ]
  },
  {
   "cell_type": "markdown",
   "metadata": {},
   "source": [
    "#### Define functions to calculate MAE  and MAPE "
   ]
  },
  {
   "cell_type": "code",
   "execution_count": null,
   "metadata": {},
   "outputs": [],
   "source": [
    "def MAE(y,yhat):\n",
    "    diff = np.abs(np.array(y)-np.array(yhat))\n",
    "    try:\n",
    "        mae =  round(np.mean(np.fabs(diff)),3)\n",
    "    except:\n",
    "        print(\"Error while calculating\")\n",
    "        mae = np.nan\n",
    "    return mae"
   ]
  },
  {
   "cell_type": "code",
   "execution_count": null,
   "metadata": {},
   "outputs": [],
   "source": [
    "def MAPE(y, yhat): \n",
    "    y, yhat = np.array(y), np.array(yhat)\n",
    "    try:\n",
    "        mape =  round(np.mean(np.abs((y - yhat) / y)) * 100,2)\n",
    "    except:\n",
    "        print(\"Observed values are empty\")\n",
    "        mape = np.nan\n",
    "    return mape"
   ]
  },
  {
   "cell_type": "code",
   "execution_count": null,
   "metadata": {},
   "outputs": [],
   "source": [
    "female_birth_series =  pd.read_csv('/kaggle/input/time-series-data/daily-total-female-births.csv', header=0, index_col=0, parse_dates=True, squeeze=True) \n",
    "\n",
    "# tail rolling average transform\n",
    "rolling =  female_birth_series.rolling(window = 3) # arbitrarily chosen\n",
    "\n",
    "rolling_mean = rolling.mean()\n",
    "female_birth_series.plot()\n",
    "\n",
    "rolling_mean.plot(color = 'red')\n",
    "plt.show()\n",
    "\n",
    "# Zoomed plot original and transformed dataset\n",
    "female_birth_series[:100].plot()\n",
    "rolling_mean[:100].plot(color = 'red')\n",
    "plt.show()"
   ]
  },
  {
   "cell_type": "code",
   "execution_count": null,
   "metadata": {},
   "outputs": [],
   "source": [
    "y_df = pd.DataFrame( {'Observed':female_birth_series.values, 'Predicted':rolling_mean})\n",
    "y_df .dropna(axis = 0, inplace = True)\n",
    "print(y_df.tail())\n",
    "\n",
    "rmse = np.sqrt(mean_squared_error(y_df.Observed, y_df.Predicted))\n",
    "print(\"\\n\\n Accuracy measures \")\n",
    "print('RMSE: %.3f' % rmse)\n",
    "n = y_df.shape[0]\n",
    "\n",
    "mae = MAE(y_df.Observed, y_df.Predicted)\n",
    "print('MAE: %d' % np.float(mae))\n",
    "\n",
    "mape = MAPE(y_df.Observed, y_df.Predicted)\n",
    "print('MAPE: %.3f' % np.float(mape))"
   ]
  },
  {
   "cell_type": "markdown",
   "metadata": {},
   "source": [
    "You can try it with the window width 2 and 4 and check whether the accuracy has increased or not.You can  Use Champagne Sales data and observe seasonality using visualization techniques.\n",
    "\n",
    "Also apply a moving average model for Champagne Sales data after decomposing with various window widths and compare the performance measures such as RMSE and MAPE."
   ]
  },
  {
   "cell_type": "markdown",
   "metadata": {},
   "source": [
    "# **14.ETS Models** <a class=\"anchor\" id=\"14\"></a>\n",
    "\n",
    "[Table of Contents](#0.1)\n",
    "\n",
    "\n",
    "The ETS model is a time series univariate forecasting method; its use focuses on trend and seasonal components.It is a time series forecasting method for univariate data.\n",
    "\n",
    "\n"
   ]
  },
  {
   "cell_type": "markdown",
   "metadata": {},
   "source": [
    "### **14.1SES, Holt & Holt-Winter Model** <a class=\"anchor\" id=\"14.1\"></a>\n",
    "\n",
    "[Table of Contents](#0.1)\n",
    "\n",
    "### Exponential Smoothing methods\n",
    "#####  Exponential smoothing methods consist of flattening time series data. \n",
    "##### Exponential smoothing averages or exponentially weighted moving averages consist of forecast based on previous periods data with exponentially declining influence on the older observations.\n",
    "##### Exponential smoothing methods consist of special case exponential moving with notation ETS (Error, Trend, Seasonality) where each can be none(N), additive (N), additive damped (Ad), Multiplicative (M) or multiplicative damped (Md).\n",
    "##### One or more parameters control how fast the weights decay.\n",
    "##### These parameters have values between 0 and 1\n",
    "\n"
   ]
  },
  {
   "cell_type": "markdown",
   "metadata": {},
   "source": [
    "### 14.1.1SES -  ETS(A, N, N) - Simple smoothing with additive errors <a class=\"anchor\" id=\"14.1.1\"></a>\n",
    "\n",
    "###### The simplest of the exponentially smoothing methods is naturally called simple exponential smoothing (SES). \n",
    "###### This method is suitable for forecasting data with no clear trend or seasonal pattern.\n",
    "\n",
    "In Single ES, the forecast at time (t + 1) is given by Winters,1960\n",
    "\n",
    "* $F_{t+1} = \\alpha Y_t + (1-\\alpha) F_t$\n",
    "\n",
    "Parameter $\\alpha$ is called the smoothing constant and its value lies between 0 and 1.\n",
    "Since the model uses only one smoothing constant, it is called Single Exponential Smoothing."
   ]
  },
  {
   "cell_type": "markdown",
   "metadata": {},
   "source": [
    "We have the petrol data from Jan 2001 to Sep 2013.\n",
    "* Split the data into train and test in the ratio 70:30\n",
    "* Use Single Exponential Smoothing method to forecast sales using the test data.\n",
    "* Calculate the values of RMSE and MAPE.\n",
    "* Plot the forecasted values along with original values."
   ]
  },
  {
   "cell_type": "code",
   "execution_count": null,
   "metadata": {},
   "outputs": [],
   "source": [
    "import statsmodels.tsa.holtwinters     as      ets\n",
    "import statsmodels.tools.eval_measures as      fa\n",
    "from   sklearn.metrics                 import  mean_squared_error\n",
    "from   statsmodels.tsa.holtwinters     import  SimpleExpSmoothing"
   ]
  },
  {
   "cell_type": "code",
   "execution_count": null,
   "metadata": {},
   "outputs": [],
   "source": [
    "def MAPE(y, yhat): \n",
    "    y, yhat = np.array(y), np.array(yhat)\n",
    "    try:\n",
    "        mape =  round(np.sum(np.abs(yhat - y)) / np.sum(y) * 100,2)\n",
    "    except:\n",
    "        print(\"Observed values are empty\")\n",
    "        mape = np.nan\n",
    "    return mape"
   ]
  },
  {
   "cell_type": "code",
   "execution_count": null,
   "metadata": {},
   "outputs": [],
   "source": [
    "petrol_df =  pd.read_csv('/kaggle/input/time-series-data/Petrol.csv')\n",
    "date_rng  =  pd.date_range(start='1/1/2001', end='30/9/2013', freq='Q')\n",
    "print(date_rng)"
   ]
  },
  {
   "cell_type": "code",
   "execution_count": null,
   "metadata": {},
   "outputs": [],
   "source": [
    "petrol_df['TimeIndex'] = pd.DataFrame(date_rng, columns=['Quarter'])\n",
    "print(petrol_df.head(3).T)\n",
    "\n",
    "plt.plot(petrol_df.TimeIndex, petrol_df.Consumption)\n",
    "plt.title('Original data before split')\n",
    "plt.show()"
   ]
  },
  {
   "cell_type": "code",
   "execution_count": null,
   "metadata": {},
   "outputs": [],
   "source": [
    "#Creating train and test set \n",
    "\n",
    "train = petrol_df[0:int(len(petrol_df)*0.7)] \n",
    "test= petrol_df[int(len(petrol_df)*0.7):]\n",
    "\n",
    "print(\"\\n Training data start at \\n\")\n",
    "print (train[train.TimeIndex == train.TimeIndex.min()],['Year','Quarter'])\n",
    "print(\"\\n Training data ends at \\n\")\n",
    "print (train[train.TimeIndex == train.TimeIndex.max()],['Year','Quarter'])\n",
    "\n",
    "print(\"\\n Test data start at \\n\")\n",
    "print (test[test.TimeIndex == test.TimeIndex.min()],['Year','Quarter'])\n",
    "\n",
    "print(\"\\n Test data ends at \\n\")\n",
    "print (test[test.TimeIndex == test.TimeIndex.max()],['Year','Quarter'])\n",
    "\n",
    "plt.plot(train.TimeIndex, train.Consumption, label = 'Train')\n",
    "plt.plot(test.TimeIndex, test.Consumption,  label = 'Test')\n",
    "plt.legend(loc = 'best')\n",
    "plt.title('Original data after split')\n",
    "plt.show()"
   ]
  },
  {
   "cell_type": "markdown",
   "metadata": {},
   "source": [
    "*SimpleExpSmoothing* class must be instantiated and passed the training data. \n",
    "\n",
    "The fit() function is then called providing the fit configuration, the alpha value, smoothing_level. \n",
    "If this is omitted or set to None, the model will automatically optimize the value.\n",
    "\n",
    "We will try with various values of $\\alpha$ such as 0.1, 0.5 and 0.99 and then let the model optimize $\\alpha$.\n",
    "\n",
    "A value close to 1 indicates fast learning (that is, only the most recent values influence the forecasts), whereas a value close to 0 indicates slow learning (past observations have a large influence on forecasts).\n",
    "\n",
    "— Page 89, Practical Time Series Forecasting with R, 2016.\n",
    "\n",
    "https://www.amazon.com/Practical-Time-Forecasting-Hands-Analytics/dp/0997847913/ref=as_li_ss_tl?ie=UTF8&qid=1527636709&sr=8-5&keywords=time+series+forecasting&linkCode=sl1&tag=inspiredalgor-20&linkId=dcb38fa9efe5af617b48b2922c4c149f"
   ]
  },
  {
   "cell_type": "code",
   "execution_count": null,
   "metadata": {},
   "outputs": [],
   "source": [
    "# create class\n",
    "model = SimpleExpSmoothing(np.asarray(train['Consumption']))"
   ]
  },
  {
   "cell_type": "code",
   "execution_count": null,
   "metadata": {},
   "outputs": [],
   "source": [
    "# fit model\n",
    "\n",
    "alpha_list = [0.1, 0.5, 0.99]\n",
    "\n",
    "pred_SES = test.copy() # Have a copy of the test dataset\n",
    "\n",
    "for alpha_value in alpha_list:\n",
    "\n",
    "    alpha_str =  \"SES\" + str(alpha_value)\n",
    "    mode_fit_i  =  model.fit(smoothing_level = alpha_value, optimized=False)\n",
    "    pred_SES[alpha_str]  =  mode_fit_i.forecast(len(test['Consumption']))\n",
    "    rmse =  np.sqrt(mean_squared_error(test['Consumption'], pred_SES[alpha_str]))\n",
    "    mape =  MAPE(test['Consumption'],pred_SES[alpha_str])\n",
    "###\n",
    "    print(\"For alpha = %1.2f,  RMSE is %3.4f MAPE is %3.2f\" %(alpha_value, rmse, mape))\n",
    "    plt.figure(figsize=(16,8))\n",
    "    plt.plot(train.TimeIndex, train['Consumption'], label ='Train')\n",
    "    plt.plot(test.TimeIndex, test['Consumption'], label  ='Test')\n",
    "    plt.plot(test.TimeIndex, pred_SES[alpha_str], label  = alpha_str)\n",
    "    plt.title('Simple Exponential Smoothing with alpha ' + str(alpha_value))\n",
    "    plt.legend(loc='best') \n",
    "    plt.show()"
   ]
  },
  {
   "cell_type": "markdown",
   "metadata": {},
   "source": [
    "Let us get the optimum value for $\\alpha$ by omitting the value and leave it for the model to decide."
   ]
  },
  {
   "cell_type": "code",
   "execution_count": null,
   "metadata": {},
   "outputs": [],
   "source": [
    "pred_opt   =  SimpleExpSmoothing(train['Consumption']).fit(optimized = True)\n",
    "print('')\n",
    "print('== Simple Exponential Smoothing ')\n",
    "print('')\n",
    "\n",
    "print('')\n",
    "print('Smoothing Level', np.round(pred_opt.params['smoothing_level'], 4))\n",
    "print('Initial Level',   np.round(pred_opt.params['initial_level'], 4))\n",
    "print('')\n",
    "\n",
    "y_pred_opt           = pred_opt.forecast(steps = 16)\n",
    "df_pred_opt          = pd.DataFrame({'Y_hat':y_pred_opt,'Y':test['Consumption'].values})\n",
    "\n",
    "rmse_opt             =  np.sqrt(mean_squared_error(test['Consumption'], y_pred_opt))\n",
    "mape_opt             =  MAPE(test['Consumption'], y_pred_opt)\n",
    "\n",
    "alpha_value          = np.round(pred_opt.params['smoothing_level'], 4)\n",
    "\n",
    "print(\"For alpha = %1.2f,  RMSE is %3.4f MAPE is %3.2f\" %(alpha_value, rmse_opt, mape_opt))\n",
    "\n",
    "plt.figure(figsize=(16,8))\n",
    "plt.plot(train.TimeIndex, train['Consumption'], label = 'Train')\n",
    "plt.plot(test.TimeIndex, test['Consumption'],  label = 'Test')\n",
    "plt.plot(test.TimeIndex, y_pred_opt,           label = 'SES_OPT')\n",
    "plt.title('Simple Exponential Smoothing with alpha ' + str(alpha_value))\n",
    "plt.legend(loc='best') \n",
    "plt.show()\n",
    "\n",
    "print(df_pred_opt.head().T)"
   ]
  },
  {
   "cell_type": "markdown",
   "metadata": {},
   "source": [
    "### Inference\n",
    "\n",
    "We observe that for the optimum $\\alpha$ value, both RMSE and MAPE are smallest when compared to other $\\alpha$ values of 0.1,0.5 and 0.99."
   ]
  },
  {
   "cell_type": "markdown",
   "metadata": {},
   "source": [
    "You can also try in this manner \n",
    "\n",
    "* Change the Split ratio as 75:25.\n",
    "* Use Single Exponential Smoothing method to forecast sales for the test data using the optimum smoothing level.\n",
    "* Calculate the values of RMSE and MAPE.\n",
    "* Plot the forecasted values along with original values."
   ]
  },
  {
   "cell_type": "markdown",
   "metadata": {},
   "source": [
    "## 14.1.2Holt - ETS(A, A, N) - Holt's linear method with additive errors <a class=\"anchor\" id=\"14.1.2\"></a>\n",
    "\n",
    "[Table of Contents](#0.1)\n",
    "\n",
    "## Double Exponential Smoothing\n",
    "\n",
    "* One of the drawbacks of the single exponential smoothing is that the model does not do well in the presence of the trend.\n",
    "* This model is an extension of SES and also known as Double Exponential model\n",
    "* Applicable when data has Trend but no seasonality\n",
    "* Two separate components are considered: Level and Trend\n",
    "* Level is the local mean\n",
    "* One smoothing parameter α corresponds to the level series\n",
    "* A second smoothing parameter β corresponds to the trend series."
   ]
  },
  {
   "cell_type": "markdown",
   "metadata": {},
   "source": [
    "**Double Exponential Smoothing uses two equations to forecast future values of the time series, one for forecating the short term avarage value or level and the other for capturing the trend.**\n",
    "\n",
    "* Intercept or Level equation, $L_t$ is given by:\n",
    "$L_t = {\\alpha}{Y_t}  + (1 - \\alpha)F_t$ \n",
    "\n",
    "* Trend equation is given by \n",
    "$T_t = {\\beta}{(L_t - L_{t-1})}  + (1 - \\beta)T_{t-1}$ \n",
    "\n",
    "Here, $\\alpha$ and $\\beta$ are the smoothing constants for level and trend, respectively, \n",
    "* 0 <$\\alpha$ < 1 and 0 < $\\beta$ < 1.\n",
    "\n",
    "The forecast at time t + 1 is given by\n",
    "* $F_{t+1} = L_t + T_t$\n",
    "* $F_{t+n} = L_t + nT_t$"
   ]
  },
  {
   "cell_type": "markdown",
   "metadata": {},
   "source": [
    "Consider the following example \n",
    "\n",
    "* Use the data in example 2 and use Double Exponential Smoothing method to forecast sales for the test data\n",
    "* Calculate the values of RMSE and MAPE.\n",
    "* Plot the forecasted values along with original values."
   ]
  },
  {
   "cell_type": "code",
   "execution_count": null,
   "metadata": {},
   "outputs": [],
   "source": [
    "from   statsmodels.tsa.holtwinters import  Holt\n",
    "model = Holt(np.asarray(train['Consumption']))\n",
    "\n",
    "model_fit = model.fit()\n",
    "\n",
    "print('')\n",
    "print('==Holt model Exponential Smoothing Parameters ==')\n",
    "print('')\n",
    "alpha_value = np.round(model_fit.params['smoothing_level'], 4)\n",
    "print('Smoothing Level', alpha_value )\n",
    "print('Smoothing Slope', np.round(model_fit.params['smoothing_slope'], 4))\n",
    "print('Initial Level',   np.round(model_fit.params['initial_level'], 4))\n",
    "print('')"
   ]
  },
  {
   "cell_type": "code",
   "execution_count": null,
   "metadata": {},
   "outputs": [],
   "source": [
    "Pred_Holt = test.copy()\n",
    "\n",
    "Pred_Holt['Opt'] = model_fit.forecast(len(test['Consumption']))"
   ]
  },
  {
   "cell_type": "code",
   "execution_count": null,
   "metadata": {},
   "outputs": [],
   "source": [
    "plt.figure(figsize=(16,8))\n",
    "plt.plot(train['Consumption'], label='Train')\n",
    "plt.plot(test['Consumption'], label='Test')\n",
    "plt.plot(Pred_Holt['Opt'], label='HoltOpt')\n",
    "plt.legend(loc='best')\n",
    "plt.show()"
   ]
  },
  {
   "cell_type": "code",
   "execution_count": null,
   "metadata": {},
   "outputs": [],
   "source": [
    "df_pred_opt =  pd.DataFrame({'Y_hat':Pred_Holt['Opt'] ,'Y':test['Consumption'].values})\n",
    "rmse_opt =  np.sqrt(mean_squared_error(df_pred_opt.Y, df_pred_opt.Y_hat))\n",
    "mape_opt =  MAPE(df_pred_opt.Y, df_pred_opt.Y_hat)\n",
    "\n",
    "print(\"For alpha = %1.2f,  RMSE is %3.4f MAPE is %3.2f\" %(alpha_value, rmse_opt, mape_opt))"
   ]
  },
  {
   "cell_type": "markdown",
   "metadata": {},
   "source": [
    "#### Print the model parameters"
   ]
  },
  {
   "cell_type": "code",
   "execution_count": null,
   "metadata": {},
   "outputs": [],
   "source": [
    "print(model_fit.params)"
   ]
  },
  {
   "cell_type": "markdown",
   "metadata": {},
   "source": [
    "### Inference\n",
    "\n",
    "For the same pertol data, we have tried both SES and HOLT model.\n",
    "\n",
    "| Model | RMSE | MAPE |\n",
    "| ----- | ------ | ----- |\n",
    "| SES |  0.9386  | 83.39 |\n",
    "| Holt | 0.8283 | 63.01 |  \n",
    "\n",
    "Note the decrease in both RMSE and MAPE for the HOLT model."
   ]
  },
  {
   "cell_type": "markdown",
   "metadata": {},
   "source": [
    "You can also use the above example with the following \n",
    "\n",
    "* Make the changes to model fit parameters as follows:\n",
    "\n",
    "* smoothing_level = 0.3\n",
    "* smoothing_slope = 0.1\n",
    "* optimized       = False\n",
    "\n",
    "* Build the model using the training data (Same split as in example 3)\n",
    "* Evaluate the model performance by calculating the values of RMSE and MAPE.\n",
    "* Plot the forecasted values along with original values.\n",
    "* Is there any improvement or degradation in predicting the values?"
   ]
  },
  {
   "cell_type": "markdown",
   "metadata": {},
   "source": [
    "### 14.1.3Holt-Winters - ETS(A, A, A) - Holt Winter's linear method with additive errors     <a class=\"anchor\" id=\"14.1.3\"></a>\n",
    "\n",
    "[Table of Contents](#0.1)"
   ]
  },
  {
   "cell_type": "markdown",
   "metadata": {},
   "source": [
    "### Multi-Steps Forecast"
   ]
  },
  {
   "cell_type": "code",
   "execution_count": null,
   "metadata": {},
   "outputs": [],
   "source": [
    "from statsmodels.tsa.holtwinters import ExponentialSmoothing\n",
    "\n",
    "pred1 = ExponentialSmoothing(np.asarray(train['Consumption']), trend='additive', damped=False, seasonal='additive',\n",
    "                                  seasonal_periods = 12).fit() #[:'2017-01-01']\n",
    "print('')\n",
    "print('== Holt-Winters Additive ETS(A,A,A) Parameters ==')\n",
    "print('')\n",
    "alpha_value = np.round(pred1.params['smoothing_level'], 4)\n",
    "print('Smoothing Level: ', alpha_value)\n",
    "print('Smoothing Slope: ', np.round(pred1.params['smoothing_slope'], 4))\n",
    "print('Smoothing Seasonal: ', np.round(pred1.params['smoothing_seasonal'], 4))\n",
    "print('Initial Level: ', np.round(pred1.params['initial_level'], 4))\n",
    "print('Initial Slope: ', np.round(pred1.params['initial_slope'], 4))\n",
    "print('Initial Seasons: ', np.round(pred1.params['initial_seasons'], 4))\n",
    "print('')\n",
    "\n",
    "### Forecast for next 16 months\n",
    "\n",
    "y_pred1 =  pred1.forecast(steps = 16)\n",
    "df_pred1 = pd.DataFrame({'Y_hat':y_pred1,'Y':test['Consumption']})\n",
    "print(df_pred1)"
   ]
  },
  {
   "cell_type": "code",
   "execution_count": null,
   "metadata": {},
   "outputs": [],
   "source": [
    "### Plot\n",
    "\n",
    "fig2, ax = plt.subplots()\n",
    "ax.plot(df_pred1.Y, label='Original')\n",
    "ax.plot(df_pred1.Y_hat, label='Predicted')\n",
    "\n",
    "plt.legend(loc='upper left')\n",
    "plt.title('Holt-Winters Additive ETS(A,A,A) Method 1')\n",
    "plt.ylabel('Qty')\n",
    "plt.xlabel('Date')\n",
    "plt.show()"
   ]
  },
  {
   "cell_type": "code",
   "execution_count": null,
   "metadata": {},
   "outputs": [],
   "source": [
    "rmse    =  np.sqrt(mean_squared_error(df_pred1.Y, df_pred1.Y_hat))\n",
    "mape    =  MAPE(df_pred1.Y, df_pred1.Y_hat)\n",
    "\n",
    "print(\"For alpha = %1.2f,  RMSE is %3.4f MAPE is %3.2f\" %(alpha_value, rmse, mape))"
   ]
  },
  {
   "cell_type": "code",
   "execution_count": null,
   "metadata": {},
   "outputs": [],
   "source": [
    "print(pred1.params)"
   ]
  },
  {
   "cell_type": "markdown",
   "metadata": {},
   "source": [
    "We observe that MAPE for Holt-Winters Additive ETS(A,A,A) Method is 128.21 and it is very much higher than (63.01) ETS(A, A, N) - Holt's Model.\n",
    "\n",
    "We will try with  Air Passengers data."
   ]
  },
  {
   "cell_type": "code",
   "execution_count": null,
   "metadata": {},
   "outputs": [],
   "source": [
    "AirPax =  pd.read_csv('/kaggle/input/time-series-data/AirPax.csv')\n",
    "date_rng = pd.date_range(start='1/1/1949', end='31/12/1960', freq='M')\n",
    "print(date_rng)\n"
   ]
  },
  {
   "cell_type": "code",
   "execution_count": null,
   "metadata": {},
   "outputs": [],
   "source": [
    "AirPax['TimeIndex'] = pd.DataFrame(date_rng, columns=['Month'])\n",
    "print(AirPax.head())"
   ]
  },
  {
   "cell_type": "code",
   "execution_count": null,
   "metadata": {},
   "outputs": [],
   "source": [
    "#Creating train and test set \n",
    "\n",
    "train = AirPax[0:int(len(AirPax)*0.7)] \n",
    "test= AirPax[int(len(AirPax)*0.7):]"
   ]
  },
  {
   "cell_type": "code",
   "execution_count": null,
   "metadata": {},
   "outputs": [],
   "source": [
    "print(\"\\n Training data start at \\n\")\n",
    "print (train[train.TimeIndex == train.TimeIndex.min()],['Year','Month'])\n",
    "print(\"\\n Training data ends at \\n\")\n",
    "print (train[train.TimeIndex == train.TimeIndex.max()],['Year','Month'])\n",
    "\n",
    "print(\"\\n Test data start at \\n\")\n",
    "print (test[test.TimeIndex == test.TimeIndex.min()],['Year','Month'])\n",
    "\n",
    "print(\"\\n Test data ends at \\n\")\n",
    "print (test[test.TimeIndex == test.TimeIndex.max()],['Year','Month'])\n",
    "\n",
    "plt.plot(train.TimeIndex, train.Passenger, label = 'Train')\n",
    "plt.plot(test.TimeIndex, test.Passenger,  label = 'Test')\n",
    "plt.legend(loc = 'best')\n",
    "plt.title('Original data after split')\n",
    "plt.show()"
   ]
  },
  {
   "cell_type": "code",
   "execution_count": null,
   "metadata": {},
   "outputs": [],
   "source": [
    "pred = ExponentialSmoothing(np.asarray(train['Passenger']),\n",
    "                                  seasonal_periods=12 ,seasonal='add').fit(optimized=True)\n",
    "\n",
    "print(pred.params)\n",
    "\n",
    "print('')\n",
    "print('== Holt-Winters Additive ETS(A,A,A) Parameters ==')\n",
    "print('')\n",
    "alpha_value = np.round(pred.params['smoothing_level'], 4)\n",
    "print('Smoothing Level: ', alpha_value)\n",
    "print('Smoothing Slope: ', np.round(pred.params['smoothing_slope'], 4))\n",
    "print('Smoothing Seasonal: ', np.round(pred.params['smoothing_seasonal'], 4))\n",
    "print('Initial Level: ', np.round(pred.params['initial_level'], 4))\n",
    "print('Initial Slope: ', np.round(pred.params['initial_slope'], 4))\n",
    "print('Initial Seasons: ', np.round(pred.params['initial_seasons'], 4))\n",
    "print('')"
   ]
  },
  {
   "cell_type": "code",
   "execution_count": null,
   "metadata": {},
   "outputs": [],
   "source": [
    "pred_HoltW = test.copy()\n",
    "pred_HoltW['HoltW'] = model_fit.forecast(len(test['Passenger']))\n",
    "plt.figure(figsize=(16,8))\n",
    "plt.plot(train['Passenger'], label='Train')\n",
    "plt.plot(test['Passenger'], label='Test')\n",
    "plt.plot(pred_HoltW['HoltW'], label='HoltWinters')\n",
    "plt.title('Holt-Winters Additive ETS(A,A,A) Parameters:\\n  alpha = ' + \n",
    "          str(alpha_value) + '  Beta:' + \n",
    "          str(np.round(pred.params['smoothing_slope'], 4)) +\n",
    "          '  Gamma: ' + str(np.round(pred.params['smoothing_seasonal'], 4)))\n",
    "plt.legend(loc='best')\n",
    "plt.show()"
   ]
  },
  {
   "cell_type": "code",
   "execution_count": null,
   "metadata": {},
   "outputs": [],
   "source": [
    "df_pred_opt =  pd.DataFrame({'Y_hat':pred_HoltW['HoltW'] ,'Y':test['Passenger'].values})\n",
    "\n",
    "rmse_opt    =  np.sqrt(mean_squared_error(df_pred_opt.Y, df_pred_opt.Y_hat))\n",
    "mape_opt    =  MAPE(df_pred_opt.Y, df_pred_opt.Y_hat)\n",
    "\n",
    "print(\"For alpha = %1.2f,  RMSE is %3.4f MAPE is %3.2f\" %(alpha_value, rmse_opt, mape_opt))"
   ]
  },
  {
   "cell_type": "markdown",
   "metadata": {},
   "source": [
    "### 14.1.4 Holt-Winters - ETS(A, A, M) - Holt Winter's linear method <a class=\"anchor\" id=\"14.1.4\"></a>\n",
    "\n",
    "[Table of Contents](#0.1)"
   ]
  },
  {
   "cell_type": "markdown",
   "metadata": {},
   "source": [
    "### Multi-Steps Forecast"
   ]
  },
  {
   "cell_type": "markdown",
   "metadata": {},
   "source": [
    "### Example \n",
    "\n",
    "Use Air Passengers data and fit ETS(A, A, M)  model to predict the last 12 months.\n",
    "* Build the Holt Winter's lETS(A, A, M) model to forecast sales for the test data\n",
    "* Calculate the values of RMSE and MAPE.\n",
    "* Plot the forecasted values along with original values."
   ]
  },
  {
   "cell_type": "code",
   "execution_count": null,
   "metadata": {},
   "outputs": [],
   "source": [
    "pred = ExponentialSmoothing(np.asarray(train['Passenger']),\n",
    "                                  seasonal_periods=12 ,seasonal='multiplicative').fit(optimized=True)\n",
    "\n",
    "print(pred.params)\n",
    "\n",
    "print('')\n",
    "print('== Holt-Winters Additive ETS(A,A,A) Parameters ==')\n",
    "print('')\n",
    "alpha_value = np.round(pred.params['smoothing_level'], 4)\n",
    "print('Smoothing Level: ', alpha_value)\n",
    "print('Smoothing Slope: ', np.round(pred.params['smoothing_slope'], 4))\n",
    "print('Smoothing Seasonal: ', np.round(pred.params['smoothing_seasonal'], 4))\n",
    "print('Initial Level: ', np.round(pred.params['initial_level'], 4))\n",
    "print('Initial Slope: ', np.round(pred.params['initial_slope'], 4))\n",
    "print('Initial Seasons: ', np.round(pred.params['initial_seasons'], 4))\n",
    "print('')"
   ]
  },
  {
   "cell_type": "code",
   "execution_count": null,
   "metadata": {},
   "outputs": [],
   "source": [
    "pred_HoltW = test.copy()\n",
    "\n",
    "pred_HoltW['HoltWM'] = pred.forecast(len(test['Passenger']))\n",
    "plt.figure(figsize=(16,8))\n",
    "plt.plot(train['Passenger'], label='Train')\n",
    "plt.plot(test['Passenger'], label='Test')\n",
    "plt.plot(pred_HoltW['HoltWM'], label='HoltWinters')\n",
    "plt.title('Holt-Winters Multiplicative ETS(A,A,M) Parameters:\\n  alpha = ' + \n",
    "          str(alpha_value) + '  Beta:' + \n",
    "          str(np.round(pred.params['smoothing_slope'], 4)) +\n",
    "          '  Gamma: ' + str(np.round(pred.params['smoothing_seasonal'], 4)))\n",
    "plt.legend(loc='best')\n",
    "plt.show()"
   ]
  },
  {
   "cell_type": "markdown",
   "metadata": {},
   "source": [
    "### Report model accuracy"
   ]
  },
  {
   "cell_type": "code",
   "execution_count": null,
   "metadata": {},
   "outputs": [],
   "source": [
    "df_pred_opt =  pd.DataFrame({'Y_hat':pred_HoltW['HoltWM'] ,'Y':test['Passenger'].values})\n",
    "\n",
    "rmse_opt    =  np.sqrt(mean_squared_error(df_pred_opt.Y, df_pred_opt.Y_hat))\n",
    "mape_opt    =  MAPE(df_pred_opt.Y, df_pred_opt.Y_hat)\n",
    "\n",
    "print(\"For alpha = %1.2f,  RMSE is %3.4f MAPE is %3.2f\" %(alpha_value, rmse_opt, mape_opt))"
   ]
  },
  {
   "cell_type": "markdown",
   "metadata": {},
   "source": [
    "#### Inference\n",
    "\n",
    "**MAPE of ETS(A,A,M) model is 16.92 and it is lesser than 17.47, MAPE of  ETS(A,A,A) model, **\n",
    "\n",
    "Hence, prediction of Holt-Winter - Additive Trend and Multiplicative Seasonality model is better than Holt-Winter - Additive model"
   ]
  },
  {
   "cell_type": "markdown",
   "metadata": {},
   "source": [
    "## 14.2Model finalization <a class=\"anchor\" id=\"14.2\"></a>\n",
    "\n",
    "[Table of Contents](#0.1)"
   ]
  },
  {
   "cell_type": "markdown",
   "metadata": {},
   "source": [
    "We are going to use the shampoo dataset. This dataset describes the monthly number of sales of shampoo over a 3 year period.\n",
    "The units are a sales count and there are 36 observations. The original dataset is credited to Makridakis, Wheelwright and Hyndman (1998).\n",
    "\n",
    "The entire dataset is taken from Data Market.\n",
    "\n",
    "https://datamarket.com/data/set/22r0/sales-of-shampoo-over-a-three-year-period\n",
    "\n",
    "### Example \n",
    "\n",
    "* Split the data into train and test. \n",
    "* Build different time series models on train data set and test it on test data set\n",
    "* Compare models performance."
   ]
  },
  {
   "cell_type": "code",
   "execution_count": null,
   "metadata": {},
   "outputs": [],
   "source": [
    "#Importing data\n",
    "def parser(x):\n",
    "    return pd.datetime.strptime('190'+x, '%Y-%m')\n",
    " \n",
    "shampoo_df = pd.read_csv('/kaggle/input/time-series-data/shampoo.csv', header=0, parse_dates=True, squeeze=True, date_parser=parser)\n",
    "\n",
    "print(shampoo_df.head())\n",
    "shampoo_df.plot()\n"
   ]
  },
  {
   "cell_type": "code",
   "execution_count": null,
   "metadata": {},
   "outputs": [],
   "source": [
    "# Creating train and test set\n",
    "\n",
    "train    =   shampoo_df[0:int(len(shampoo_df)*0.7)] \n",
    "test     =   shampoo_df[int(len(shampoo_df)*0.7):]"
   ]
  },
  {
   "cell_type": "code",
   "execution_count": null,
   "metadata": {},
   "outputs": [],
   "source": [
    "### Plot data\n",
    "\n",
    "train['Sales'].plot(figsize=(15,8), title= 'Monthly Sales', fontsize=14)\n",
    "test['Sales'].plot(figsize=(15,8), title= 'Monthly Sales', fontsize=14)"
   ]
  },
  {
   "cell_type": "code",
   "execution_count": null,
   "metadata": {},
   "outputs": [],
   "source": [
    "shampoo_df.head()"
   ]
  },
  {
   "cell_type": "markdown",
   "metadata": {},
   "source": [
    "### 14.2.1Method  1: Regression on Time <a class=\"anchor\" id=\"14.2.1\"></a>\n",
    "\n",
    "[Table of Contents](#0.1)"
   ]
  },
  {
   "cell_type": "code",
   "execution_count": null,
   "metadata": {},
   "outputs": [],
   "source": [
    "shampoo_df1         =   shampoo_df.copy() # Make a copy\n",
    "\n",
    "time        = [i+1 for i in range(len(shampoo_df))]\n",
    "shampoo_df1['time'] = time\n",
    "monthDf     = shampoo_df1[['Month']]\n",
    "\n",
    "shampoo_df1.drop('Month', axis=1, inplace=True)\n",
    "shampoo_df1.head(2)"
   ]
  },
  {
   "cell_type": "code",
   "execution_count": null,
   "metadata": {},
   "outputs": [],
   "source": [
    "#Creating train and test set \n",
    "train=shampoo_df1[0:int(len(shampoo_df1)*0.7)] \n",
    "test=shampoo_df1[int(len(shampoo_df1)*0.7):]"
   ]
  },
  {
   "cell_type": "code",
   "execution_count": null,
   "metadata": {},
   "outputs": [],
   "source": [
    "x_train = train.drop('Sales', axis=1)\n",
    "x_test  = test.drop('Sales', axis=1)\n",
    "y_train = train[['Sales']]\n",
    "y_test  = test[['Sales']]"
   ]
  },
  {
   "cell_type": "code",
   "execution_count": null,
   "metadata": {},
   "outputs": [],
   "source": [
    "from sklearn.linear_model import LinearRegression\n",
    "model = LinearRegression()\n",
    "model.fit(x_train, y_train)\n"
   ]
  },
  {
   "cell_type": "code",
   "execution_count": null,
   "metadata": {},
   "outputs": [],
   "source": [
    "predictions         = model.predict(x_test)\n",
    "y_test['RegOnTime'] = predictions\n",
    "\n",
    "plt.figure(figsize=(16,8))\n",
    "plt.plot( train['Sales'], label='Train')\n",
    "plt.plot(test['Sales'], label='Test')\n",
    "plt.plot(y_test['RegOnTime'], label='Regression On Time')\n",
    "plt.legend(loc='best')"
   ]
  },
  {
   "cell_type": "code",
   "execution_count": null,
   "metadata": {},
   "outputs": [],
   "source": [
    "from math import sqrt\n",
    "rmse = sqrt(mean_squared_error(test.Sales, y_test.RegOnTime))\n",
    "rmse = round(rmse, 3)\n",
    "mape = MAPE(test.Sales, y_test.RegOnTime)\n",
    "print(\"For RegressionOnTime,  RMSE is %3.3f MAPE is %3.2f\" %(rmse, mape))"
   ]
  },
  {
   "cell_type": "code",
   "execution_count": null,
   "metadata": {},
   "outputs": [],
   "source": [
    "resultsDf = pd.DataFrame({'Method':['RegressionOnTime'], 'rmse': [rmse], 'mape' : [mape]})\n",
    "resultsDf"
   ]
  },
  {
   "cell_type": "markdown",
   "metadata": {},
   "source": [
    "### 14.2.2Method 2: Regression on Time With Seasonal Components <a class=\"anchor\" id=\"14.2.2\"></a>\n",
    "\n",
    "[Table of Contents](#0.1)"
   ]
  },
  {
   "cell_type": "code",
   "execution_count": null,
   "metadata": {},
   "outputs": [],
   "source": [
    "time = [i+1 for i in range(len(shampoo_df))]\n",
    "shampoo_df1 = shampoo_df.copy()\n",
    "shampoo_df1['time'] = time\n",
    "print(shampoo_df1.head())\n",
    "print(shampoo_df1.shape[0])\n",
    "monthSeasonality = ['m1', 'm2', 'm3', 'm4', 'm5', 'm6', 'm7', 'm8', 'm9', 'm10', 'm11', 'm12']"
   ]
  },
  {
   "cell_type": "code",
   "execution_count": null,
   "metadata": {},
   "outputs": [],
   "source": [
    "shampoo_df1['monthSeasonality'] = monthSeasonality * 3\n",
    "shampoo_df1.head()"
   ]
  },
  {
   "cell_type": "code",
   "execution_count": null,
   "metadata": {},
   "outputs": [],
   "source": [
    "monthDf = shampoo_df1[['Month']]\n",
    "shampoo_df1.drop('Month', axis=1, inplace=True)"
   ]
  },
  {
   "cell_type": "code",
   "execution_count": null,
   "metadata": {},
   "outputs": [],
   "source": [
    "shampoo_df1Complete = pd.get_dummies(shampoo_df1, drop_first=True)\n",
    "shampoo_df1Complete.head(2).T"
   ]
  },
  {
   "cell_type": "code",
   "execution_count": null,
   "metadata": {},
   "outputs": [],
   "source": [
    "#Creating train and test set \n",
    "train=shampoo_df1Complete[0:int(len(shampoo_df1Complete)*0.7)] \n",
    "test=shampoo_df1Complete[int(len(shampoo_df1Complete)*0.7):]"
   ]
  },
  {
   "cell_type": "code",
   "execution_count": null,
   "metadata": {},
   "outputs": [],
   "source": [
    "x_train  = train.drop('Sales', axis=1)\n",
    "x_test   = test.drop('Sales', axis=1)\n",
    "y_train  = train[['Sales']]\n",
    "y_test   = test[['Sales']]"
   ]
  },
  {
   "cell_type": "code",
   "execution_count": null,
   "metadata": {},
   "outputs": [],
   "source": [
    "model = LinearRegression()\n",
    "model.fit(x_train, y_train)\n",
    "predictions = model.predict(x_test)\n",
    "y_test['RegOnTimeSeasonal'] = predictions"
   ]
  },
  {
   "cell_type": "code",
   "execution_count": null,
   "metadata": {},
   "outputs": [],
   "source": [
    "plt.figure(figsize=(16,8))\n",
    "plt.plot( train['Sales'], label='Train')\n",
    "plt.plot(test['Sales'], label='Test')\n",
    "plt.plot(y_test['RegOnTimeSeasonal'], label='Regression On Time With Seasonal Components')\n",
    "plt.legend(loc='best')"
   ]
  },
  {
   "cell_type": "code",
   "execution_count": null,
   "metadata": {},
   "outputs": [],
   "source": [
    "rmse = sqrt(mean_squared_error(test.Sales, y_test.RegOnTimeSeasonal))\n",
    "rmse = round(rmse, 3)\n",
    "mape = MAPE(test.Sales, y_test.RegOnTimeSeasonal)\n",
    "print(\"For RegOnTimeSeasonal,  RMSE is %3.3f MAPE is %3.2f\" %(rmse, mape))"
   ]
  },
  {
   "cell_type": "code",
   "execution_count": null,
   "metadata": {},
   "outputs": [],
   "source": [
    "tempResultsDf = pd.DataFrame({'Method':['RegressionOnTimeSeasonal'], 'rmse': [rmse], 'mape' : [mape]})\n",
    "resultsDf = pd.concat([resultsDf, tempResultsDf])\n",
    "resultsDf"
   ]
  },
  {
   "cell_type": "markdown",
   "metadata": {},
   "source": [
    "### 14.2.3Method 3: Naive Approach: $\\hat{y}_{t+1} = y_t$ <a class=\"anchor\" id=\"14.2.3\"></a>\n",
    "\n",
    "[Table of Contents](#0.1)"
   ]
  },
  {
   "cell_type": "code",
   "execution_count": null,
   "metadata": {},
   "outputs": [],
   "source": [
    "dd= np.asarray(train.Sales)"
   ]
  },
  {
   "cell_type": "code",
   "execution_count": null,
   "metadata": {},
   "outputs": [],
   "source": [
    "y_hat = test.copy()"
   ]
  },
  {
   "cell_type": "code",
   "execution_count": null,
   "metadata": {},
   "outputs": [],
   "source": [
    "y_hat['naive'] = dd[len(dd)-1]"
   ]
  },
  {
   "cell_type": "code",
   "execution_count": null,
   "metadata": {},
   "outputs": [],
   "source": [
    "plt.figure(figsize=(12,8))\n",
    "plt.plot(train.index, train['Sales'], label='Train')\n",
    "plt.plot(test.index,test['Sales'], label='Test')\n",
    "plt.plot(y_hat.index,y_hat['naive'], label='Naive Forecast')\n",
    "plt.legend(loc='best')\n",
    "plt.title(\"Naive Forecast\")"
   ]
  },
  {
   "cell_type": "code",
   "execution_count": null,
   "metadata": {},
   "outputs": [],
   "source": [
    "rmse = sqrt(mean_squared_error(test.Sales, y_hat.naive))\n",
    "rmse = round(rmse, 3)\n",
    "mape = MAPE(test.Sales, y_hat.naive)\n",
    "print(\"For Naive model,  RMSE is %3.3f MAPE is %3.2f\" %(rmse, mape))"
   ]
  },
  {
   "cell_type": "code",
   "execution_count": null,
   "metadata": {},
   "outputs": [],
   "source": [
    "tempResultsDf = pd.DataFrame({'Method':['Naive model'], 'rmse': [rmse], 'mape' : [mape]})\n",
    "resultsDf = pd.concat([resultsDf, tempResultsDf])\n",
    "resultsDf"
   ]
  },
  {
   "cell_type": "markdown",
   "metadata": {},
   "source": [
    "We can infer from the RMSE and MAPE values and the graphs above, that Naive method and Regression on Time With Seasonal Components model are not suited for datasets with high variability. \n",
    "\n",
    "Naive method is best suited for stable datasets. We can still improve our score by adopting different techniques. \n",
    "\n",
    "Now we will look at another technique and try to improve our score."
   ]
  },
  {
   "cell_type": "markdown",
   "metadata": {},
   "source": [
    "### 14.2.4Method 4: Simple Average <a class=\"anchor\" id=\"14.2.4\"></a>\n",
    "\n",
    "[Table of Contents](#0.1)"
   ]
  },
  {
   "cell_type": "code",
   "execution_count": null,
   "metadata": {},
   "outputs": [],
   "source": [
    "y_hat_avg = test.copy()"
   ]
  },
  {
   "cell_type": "code",
   "execution_count": null,
   "metadata": {},
   "outputs": [],
   "source": [
    "y_hat_avg['avg_forecast'] = train['Sales'].mean()"
   ]
  },
  {
   "cell_type": "code",
   "execution_count": null,
   "metadata": {},
   "outputs": [],
   "source": [
    "plt.figure(figsize=(12,8))\n",
    "plt.plot(train['Sales'], label='Train')\n",
    "plt.plot(test['Sales'], label='Test')\n",
    "plt.plot(y_hat_avg['avg_forecast'], label='Average Forecast')\n",
    "plt.legend(loc='best')"
   ]
  },
  {
   "cell_type": "code",
   "execution_count": null,
   "metadata": {},
   "outputs": [],
   "source": [
    "rmse = sqrt(mean_squared_error(test.Sales, y_hat_avg.avg_forecast))\n",
    "rmse = round(rmse, 3)\n",
    "mape = MAPE(test.Sales, y_hat_avg.avg_forecast)\n",
    "print(\"For Simple Average model,  RMSE is %3.3f MAPE is %3.2f\" %(rmse, mape))"
   ]
  },
  {
   "cell_type": "code",
   "execution_count": null,
   "metadata": {},
   "outputs": [],
   "source": [
    "tempResultsDf = pd.DataFrame({'Method':['Simple Average'], 'rmse': [rmse], 'mape' : [mape]})\n",
    "resultsDf = pd.concat([resultsDf, tempResultsDf])\n",
    "resultsDf"
   ]
  },
  {
   "cell_type": "markdown",
   "metadata": {},
   "source": [
    "#### Inference\n",
    "\n",
    "We can see that this model didn’t improve our score. Hence we can infer from the score that this method works best when the average at each time period remains constant. Though the score of Naive method is better than Average method, but this does not mean that the Naive method is better than Average method on all datasets. We should move step by step to each model and confirm whether it improves our model or not."
   ]
  },
  {
   "cell_type": "markdown",
   "metadata": {},
   "source": [
    "### 14.2.5Method 5: Moving Average(MA) <a class=\"anchor\" id=\"14.2.5\"></a>\n",
    "\n",
    "[Table of Contents](#0.1)"
   ]
  },
  {
   "cell_type": "code",
   "execution_count": null,
   "metadata": {},
   "outputs": [],
   "source": [
    "shampoo_df1 = shampoo_df.copy()"
   ]
  },
  {
   "cell_type": "code",
   "execution_count": null,
   "metadata": {},
   "outputs": [],
   "source": [
    "shampoo_df1['moving_avg_forecast_4']  = shampoo_df['Sales'].rolling(4).mean()\n",
    "shampoo_df1['moving_avg_forecast_6']  = shampoo_df['Sales'].rolling(6).mean()\n",
    "shampoo_df1['moving_avg_forecast_8']  = shampoo_df['Sales'].rolling(8).mean()\n",
    "shampoo_df1['moving_avg_forecast_12'] = shampoo_df['Sales'].rolling(12).mean()"
   ]
  },
  {
   "cell_type": "code",
   "execution_count": null,
   "metadata": {},
   "outputs": [],
   "source": [
    "cols = ['moving_avg_forecast_4','moving_avg_forecast_6','moving_avg_forecast_8','moving_avg_forecast_12']\n",
    "\n",
    "#Creating train and test set \n",
    "train=shampoo_df1[0:int(len(shampoo_df1)*0.7)] \n",
    "test=shampoo_df1[int(len(shampoo_df1)*0.7):]\n",
    "\n",
    "y_hat_avg = test.copy()\n",
    "\n",
    "for col_name in cols:\n",
    "    \n",
    "    plt.figure(figsize=(16,8))\n",
    "    plt.plot(train['Sales'], label='Train')\n",
    "    plt.plot(test['Sales'], label='Test')\n",
    "    plt.plot(y_hat_avg[col_name], label = col_name)\n",
    "    plt.legend(loc = 'best')\n",
    "\n",
    "    rmse = sqrt(mean_squared_error(test.Sales, y_hat_avg[col_name]))\n",
    "    rmse = round(rmse, 3)\n",
    "    mape = MAPE(test.Sales, y_hat_avg[col_name])\n",
    "    print(\"For Simple Average model, %s  RMSE is %3.3f MAPE is %3.2f\" %(col_name, rmse, mape))\n",
    "\n",
    "    tempResultsDf = pd.DataFrame({'Method':[col_name], 'rmse': [rmse], 'mape' : [mape]})\n",
    "    resultsDf = pd.concat([resultsDf, tempResultsDf])"
   ]
  },
  {
   "cell_type": "code",
   "execution_count": null,
   "metadata": {},
   "outputs": [],
   "source": [
    "print(resultsDf)"
   ]
  },
  {
   "cell_type": "markdown",
   "metadata": {},
   "source": [
    "So far, the moving average of window width 4 gives the lowest MAPE and RMSE.\n",
    "Let us try other models as well."
   ]
  },
  {
   "cell_type": "markdown",
   "metadata": {},
   "source": [
    "### 14.2.6Method 6: Simple Exponential Smoothing <a class=\"anchor\" id=\"14.2.6\"></a>\n",
    "\n",
    "[Table of Contents](#0.1)"
   ]
  },
  {
   "cell_type": "code",
   "execution_count": null,
   "metadata": {},
   "outputs": [],
   "source": [
    "from statsmodels.tsa.api import ExponentialSmoothing, SimpleExpSmoothing, Holt"
   ]
  },
  {
   "cell_type": "code",
   "execution_count": null,
   "metadata": {},
   "outputs": [],
   "source": [
    "# create class\n",
    "model = SimpleExpSmoothing(train['Sales'])\n",
    "model_fit = model.fit(optimized = True)\n",
    "print('')\n",
    "print('== Simple Exponential Smoothing ')\n",
    "print('')\n",
    "\n",
    "print('')\n",
    "print('Smoothing Level', np.round(model_fit.params['smoothing_level'], 4))\n",
    "print('Initial Level',   np.round(model_fit.params['initial_level'], 4))\n",
    "print('')"
   ]
  },
  {
   "cell_type": "code",
   "execution_count": null,
   "metadata": {},
   "outputs": [],
   "source": [
    "y_hat_avg['SES']= model_fit.forecast(len(test['Sales']))\n",
    "\n",
    "alpha_value = np.round(model_fit.params['smoothing_level'], 4)\n",
    "\n",
    "\n",
    "plt.figure(figsize=(16,8))\n",
    "plt.plot(train.index, train['Sales'], label = 'Train')\n",
    "plt.plot(test.index, test['Sales'],   label = 'Test')\n",
    "plt.plot(test.index, y_hat_avg.SES,   label = 'SES_OPT')\n",
    "plt.title('Simple Exponential Smoothing with alpha ' + str(alpha_value))\n",
    "plt.legend(loc='best') \n",
    "plt.show()"
   ]
  },
  {
   "cell_type": "code",
   "execution_count": null,
   "metadata": {},
   "outputs": [],
   "source": [
    "rmse_opt=  np.sqrt(mean_squared_error(test['Sales'], y_hat_avg.SES))\n",
    "mape_opt=  MAPE(test['Sales'], y_hat_avg.SES)\n",
    "\n",
    "print(\"For alpha = %1.2f,  RMSE is %3.4f MAPE is %3.2f\" %(alpha_value, rmse_opt, mape_opt))"
   ]
  },
  {
   "cell_type": "code",
   "execution_count": null,
   "metadata": {},
   "outputs": [],
   "source": [
    "tempResultsDf = pd.DataFrame({'Method': 'SES', 'rmse': [rmse_opt], 'mape' : [mape_opt]})\n",
    "resultsDf = pd.concat([resultsDf, tempResultsDf])"
   ]
  },
  {
   "cell_type": "code",
   "execution_count": null,
   "metadata": {},
   "outputs": [],
   "source": [
    "print(resultsDf)"
   ]
  },
  {
   "cell_type": "markdown",
   "metadata": {},
   "source": [
    "### 14.2.7Method 7: Holt's Linear Trend Method (Double Exponential Smoothing) <a class=\"anchor\" id=\"14.2.7\"></a>\n",
    "\n",
    "[Table of Contents](#0.1)"
   ]
  },
  {
   "cell_type": "code",
   "execution_count": null,
   "metadata": {},
   "outputs": [],
   "source": [
    "import statsmodels.api as sm\n",
    "y_hat_avg = test.copy()\n",
    "model_fit = Holt(np.asarray(train['Sales'])).fit()\n",
    "y_hat_avg['Holt_linear'] = model_fit.forecast(len(test))"
   ]
  },
  {
   "cell_type": "code",
   "execution_count": null,
   "metadata": {},
   "outputs": [],
   "source": [
    "print('')\n",
    "print('==Holt model Exponential Smoothing Parameters ==')\n",
    "print('')\n",
    "alpha_value = np.round(model_fit.params['smoothing_level'], 4)\n",
    "beta_value  = np.round(model_fit.params['smoothing_slope'], 4)\n",
    "\n",
    "print('Smoothing Level', alpha_value )\n",
    "print('Smoothing Slope', beta_value)\n",
    "print('Initial Level',   np.round(model_fit.params['initial_level'], 4))\n",
    "print('')"
   ]
  },
  {
   "cell_type": "code",
   "execution_count": null,
   "metadata": {},
   "outputs": [],
   "source": [
    "plt.figure(figsize=(16,8))\n",
    "plt.plot(train['Sales'], label='Train')\n",
    "plt.plot(test['Sales'], label='Test')\n",
    "plt.plot(y_hat_avg['Holt_linear'], label='Holt_linear')\n",
    "plt.legend(loc='best')\n",
    "plt.show()"
   ]
  },
  {
   "cell_type": "code",
   "execution_count": null,
   "metadata": {},
   "outputs": [],
   "source": [
    "rmse_opt             =  np.sqrt(mean_squared_error(test['Sales'], y_hat_avg['Holt_linear']))\n",
    "mape_opt             =  MAPE(test['Sales'], y_hat_avg['Holt_linear'])\n",
    "\n",
    "print(\"For alpha = %1.2f,  RMSE is %3.4f MAPE is %3.2f\" %(alpha_value, rmse_opt, mape_opt))"
   ]
  },
  {
   "cell_type": "code",
   "execution_count": null,
   "metadata": {},
   "outputs": [],
   "source": [
    "tempResultsDf = pd.DataFrame({'Method': 'Holt_linear', 'rmse': [rmse_opt], 'mape' : [mape_opt]})\n",
    "resultsDf = pd.concat([resultsDf, tempResultsDf])\n",
    "print(resultsDf)"
   ]
  },
  {
   "cell_type": "markdown",
   "metadata": {},
   "source": [
    "### Inference\n",
    "\n",
    "The model is slightly better than SES model but worse than all moving average models."
   ]
  },
  {
   "cell_type": "markdown",
   "metadata": {},
   "source": [
    "### 14.2.8Method 8: Holt-Winters Method - Additive seasonality <a class=\"anchor\" id=\"14.2.8\"></a>\n",
    "\n",
    "[Table of Contents](#0.1)"
   ]
  },
  {
   "cell_type": "code",
   "execution_count": null,
   "metadata": {},
   "outputs": [],
   "source": [
    "y_hat_avg = test.copy()\n",
    "model_fit = ExponentialSmoothing(np.asarray(train['Sales']) ,seasonal_periods = 12 ,trend='add', seasonal='add').fit()\n",
    "y_hat_avg['Holt_Winter'] = model_fit.forecast(len(test))\n"
   ]
  },
  {
   "cell_type": "code",
   "execution_count": null,
   "metadata": {},
   "outputs": [],
   "source": [
    "print('')\n",
    "print('== Holt-Winters Additive ETS(A,A,A) Parameters ==')\n",
    "print('')\n",
    "alpha_value = np.round(pred.params['smoothing_level'], 4)\n",
    "beta_value  = np.round(model_fit.params['smoothing_slope'], 4)\n",
    "gamma_value = np.round(model_fit.params['smoothing_seasonal'], 4) \n",
    "\n",
    "print('Smoothing Level: ', alpha_value)\n",
    "print('Smoothing Slope: ', beta_value)\n",
    "print('Smoothing Seasonal: ', gamma_value)\n",
    "print('Initial Level: ', np.round(model_fit.params['initial_level'], 4))\n",
    "print('Initial Slope: ', np.round(model_fit.params['initial_slope'], 4))\n",
    "print('Initial Seasons: ', np.round(model_fit.params['initial_seasons'], 4))\n",
    "print('')"
   ]
  },
  {
   "cell_type": "code",
   "execution_count": null,
   "metadata": {},
   "outputs": [],
   "source": [
    "plt.figure(figsize=(16,8))\n",
    "plt.plot( train['Sales'], label='Train')\n",
    "plt.plot(test['Sales'], label='Test')\n",
    "plt.plot(y_hat_avg['Holt_Winter'], label='Holt_Winter')\n",
    "plt.title('Holt-Winters Multiplicative ETS(A,A,M) Parameters:\\n  alpha = ' + \n",
    "          str(alpha_value) + '  Beta:' + \n",
    "          str(beta_value) +\n",
    "          '  Gamma: ' + str(gamma_value))\n",
    "plt.legend(loc='best')"
   ]
  },
  {
   "cell_type": "code",
   "execution_count": null,
   "metadata": {},
   "outputs": [],
   "source": [
    "rmse_opt=  np.sqrt(mean_squared_error(test['Sales'], y_hat_avg['Holt_Winter']))\n",
    "mape_opt=  MAPE(test['Sales'], y_hat_avg['Holt_Winter'])\n",
    "\n",
    "print(\"For alpha = %1.2f, beta = %1.2f, gamma = %1.2f, RMSE is %3.4f MAPE is %3.2f\" %(alpha_value, beta_value, gamma_value, rmse_opt, mape_opt))"
   ]
  },
  {
   "cell_type": "code",
   "execution_count": null,
   "metadata": {},
   "outputs": [],
   "source": [
    "tempResultsDf = pd.DataFrame({'Method': 'Holt_Winter', 'rmse': [rmse_opt], 'mape' : [mape_opt]})\n",
    "resultsDf = pd.concat([resultsDf, tempResultsDf])\n",
    "print(resultsDf)"
   ]
  },
  {
   "cell_type": "markdown",
   "metadata": {},
   "source": [
    "* Beta is the smoothing factor to trends and it is zero and this gives more weight to the old  trend. \n",
    "* Gamma is the smoothing factor to seasonal index and is it zero and this gives, more weight  to old seasonal periods. "
   ]
  },
  {
   "cell_type": "markdown",
   "metadata": {},
   "source": [
    "### 14.2.9Method 9: Holt-Winters Method - Multiplicative Model <a class=\"anchor\" id=\"14.2.9\"></a>\n",
    "\n",
    "[Table of Contents](#0.1)"
   ]
  },
  {
   "cell_type": "code",
   "execution_count": null,
   "metadata": {},
   "outputs": [],
   "source": [
    "y_hat_avg = test.copy()\n",
    "model_fit = ExponentialSmoothing(np.asarray(train['Sales']) ,seasonal_periods = 12 ,trend='add', seasonal='Multiplicative').fit()\n",
    "y_hat_avg['Holt_Winter_M'] = model_fit.forecast(len(test))"
   ]
  },
  {
   "cell_type": "code",
   "execution_count": null,
   "metadata": {},
   "outputs": [],
   "source": [
    "print('')\n",
    "print('== Holt-Winters Additive ETS(A,A,M) Parameters ==')\n",
    "print('')\n",
    "alpha_value = np.round(pred.params['smoothing_level'], 4)\n",
    "beta_value  = np.round(model_fit.params['smoothing_slope'], 4)\n",
    "gamma_value = np.round(model_fit.params['smoothing_seasonal'], 4) \n",
    "\n",
    "print('Smoothing Level: ', alpha_value)\n",
    "print('Smoothing Slope: ', beta_value)\n",
    "print('Smoothing Seasonal: ', gamma_value)\n",
    "print('Initial Level: ', np.round(model_fit.params['initial_level'], 4))\n",
    "print('Initial Slope: ', np.round(model_fit.params['initial_slope'], 4))\n",
    "print('Initial Seasons: ', np.round(model_fit.params['initial_seasons'], 4))\n",
    "print('')"
   ]
  },
  {
   "cell_type": "code",
   "execution_count": null,
   "metadata": {},
   "outputs": [],
   "source": [
    "plt.figure(figsize=(16,8))\n",
    "plt.plot( train['Sales'], label='Train')\n",
    "plt.plot(test['Sales'], label='Test')\n",
    "plt.plot(y_hat_avg['Holt_Winter_M'], label='Holt_Winter_M')\n",
    "plt.title('Holt-Winters Multiplicative  Parameters:\\n  alpha = ' + \n",
    "          str(alpha_value) + '  Beta:' + \n",
    "          str(beta_value) +\n",
    "          '  Gamma: ' + str(gamma_value))\n",
    "plt.legend(loc='best')"
   ]
  },
  {
   "cell_type": "code",
   "execution_count": null,
   "metadata": {},
   "outputs": [],
   "source": [
    "rmse_opt=  np.sqrt(mean_squared_error(test['Sales'], y_hat_avg['Holt_Winter_M']))\n",
    "mape_opt=  MAPE(test['Sales'], y_hat_avg['Holt_Winter_M'])\n",
    "\n",
    "print(\"For alpha = %1.2f, beta = %1.2f, gamma = %1.2f, RMSE is %3.4f MAPE is %3.2f\" %(alpha_value, beta_value, gamma_value, rmse_opt, mape_opt))"
   ]
  },
  {
   "cell_type": "code",
   "execution_count": null,
   "metadata": {},
   "outputs": [],
   "source": [
    "tempResultsDf = pd.DataFrame({'Method': 'Holt_Winter M', 'rmse': [rmse_opt], 'mape' : [mape_opt]})\n",
    "resultsDf = pd.concat([resultsDf, tempResultsDf])\n",
    "print(resultsDf)"
   ]
  },
  {
   "cell_type": "markdown",
   "metadata": {},
   "source": [
    "### Inference\n",
    "\n",
    "**As of now, we observe that Moving average of window width of 4 seems to be a good fit for the data.**"
   ]
  },
  {
   "cell_type": "markdown",
   "metadata": {},
   "source": [
    "# **15.AUTO REGRESSIVE Models** <a class=\"anchor\" id=\"15\"></a>\n",
    "\n",
    "[Table of Contents](#0.1)\n",
    "\n",
    "Auto-regressive (AR) and moving average (MA) models are popular models that are frequently used for forecasting.\n",
    "\n",
    "AR and MA models are combined to create models such as auto-regressive moving average (ARMA) and auto-regressive integrated moving average (ARIMA) models. \n",
    "\n",
    "The initial ARMA and ARIMA models were developed by Box and Jenkins in 1970.\n",
    "\n",
    "ARMA models are basically regression models; auto-regression means regression of a variable on itself measured at different time periods. \n",
    "\n",
    "The main assumption of AR model is that the time series data is stationary.\n",
    "\n",
    "A stationary time series is one whose statistical properties such as mean, variance, autocorrelation, etc. are all constant over time.\n",
    "\n",
    "http://people.duke.edu/~rnau/411diff.htm\n",
    "\n",
    "When the time series data is not stationary, then we convert the non-stationary data before applying AR models. \n",
    "\n",
    "### Lags\n",
    "\n",
    "Taking the difference between consecutive observations is called a lag-1 difference.\n",
    "\n",
    "For time series with a seasonal component, the lag may be expected to be the period (width) of the seasonality.\n",
    "\n",
    "**White noise of the residuals:**\n",
    "\n",
    "White noise is a process of residuals $\\epsilon_t$ that are uncorrelated and follow normal distribution with mean 0 and constant standard deviation. In AR models, one of the main assumptions is the errors follow a white noise.\n",
    "\n",
    "### Auto-Regressive  (AR) Models\n",
    "\n",
    "Auto-Regression is a regression of a variable on itself measured at different time points. \n",
    "Auto-Regressive model with lag 1, AR(1) is given by \n",
    "* $Y_{t+1} = \\beta Y_t + \\epsilon_{t+1}$  and this same as\n",
    "* $Y_{t+1} - \\mu = \\beta (Y_t - \\mu) + \\epsilon_{t+1}$  and this same as\n",
    "* where $\\epsilon_{t+1}$ is a sequence of uncorrelated residuals that follow normal distribution with zero mean and constant deviation. \n",
    " * $Y_{t+1} - \\mu$ is interpreted as a deviation from mean value $mu$ and known as mean centered series.\n",
    "\n"
   ]
  },
  {
   "cell_type": "markdown",
   "metadata": {},
   "source": [
    "The Augmented Dickey Fuller Test (ADF) is unit root test for stationarity. \n",
    "The null hypothesis is that time series is non-stationary.\n",
    "Alternative hypothesis is that time series is stationary."
   ]
  },
  {
   "cell_type": "markdown",
   "metadata": {},
   "source": [
    "### AR Model indentification\n",
    "\n",
    "\n",
    "### Auto-Correlation Function (ACF) or correlogram and Partial Auto-Correlation Function (PACF)"
   ]
  },
  {
   "cell_type": "markdown",
   "metadata": {},
   "source": [
    "#### Autocorrelation Function (ACF)\n",
    "\n",
    "**A plot of auto-correlation of different lags is called ACF.**\n",
    "\n",
    "The plot summarizes the correlation of an observation with lag values. The x-axis shows the lag and the y-axis shows the correlation coeﬃcient between -1 and 1 for negative and positive correlation.\n",
    "\n",
    "#### Partial Autocorrelation Function (PACF)\n",
    "\n",
    "**A plot of partial auto-correlation for different values of lags is called PACF.**\n",
    "\n",
    "The plot summarizes the correlations for an observation with lag values that is not accounted for by prior lagged observations.\n",
    "\n",
    "Both plots are drawn as bar charts showing the 95% and 99% conﬁdence intervals as horizontal lines. Bars that cross these conﬁdence intervals are therefore more signiﬁcant and worth noting. Some useful patterns you may observe on these plots are:\n",
    "\n",
    "The number of lags is p when:\n",
    "* The partial auto-correlation, |$\\rho_{pk}$| > 1.96 / $\\sqrt{n}$ for first p values and cuts off to zero. \n",
    "* The auto-correlation function, $\\rho_k$ decreases exponentially."
   ]
  },
  {
   "cell_type": "markdown",
   "metadata": {},
   "source": [
    "*  The model is AR if the ACF trails oﬀ after a lag and has a hard cut-oﬀ in the PACF after a lag.    This lag is taken as the value for p.\n",
    "\n",
    "*  The model is MA if the PACF trails oﬀ after a lag and has a hard cut-oﬀ in the ACF after the   lag. This lag value is taken as the value for q.\n",
    "\n",
    "*  The model is a mix of AR and MA if both the ACF and PACF trail oﬀ.\n",
    "\n",
    "* For an **ARIMA (p,d,q)** process, it becomes non-stationary to stationary after differencing it for **d** times."
   ]
  },
  {
   "cell_type": "markdown",
   "metadata": {},
   "source": [
    "### Plot ACF and PACF"
   ]
  },
  {
   "cell_type": "code",
   "execution_count": null,
   "metadata": {},
   "outputs": [],
   "source": [
    "from   statsmodels.tsa.stattools  import  adfuller\n",
    "data= pd.read_csv('/kaggle/input/time-series-data/TractorSales.csv', header=0, parse_dates=[0], squeeze=True)\n",
    "\n",
    "dates= pd.date_range(start='2003-01-01', freq='MS', periods=len(data))\n",
    "\n",
    "data['Month']= dates.month\n",
    "data['Month']= data['Month'].apply(lambda x: calendar.month_abbr[x])\n",
    "data['Year']= dates.year\n",
    "\n",
    "data.drop(['Month-Year'], axis=1, inplace=True)\n",
    "data.rename(columns={'Number of Tractor Sold':'Tractor-Sales'}, inplace=True)\n",
    "\n",
    "data= data[['Month', 'Year', 'Tractor-Sales']]\n",
    "data.set_index(dates, inplace=True)\n",
    "\n",
    "sales_ts = data['Tractor-Sales']\n",
    "\n",
    "result = adfuller(sales_ts) \n",
    "\n",
    "print('ADF Statistic: %f' % result[0]) \n",
    "print('p-value: %f' % result[1]) "
   ]
  },
  {
   "cell_type": "markdown",
   "metadata": {},
   "source": [
    "This series is not stationary.\n",
    "Try differencing - lag 1"
   ]
  },
  {
   "cell_type": "code",
   "execution_count": null,
   "metadata": {},
   "outputs": [],
   "source": [
    "sales_ts_diff   = sales_ts - sales_ts.shift(periods=1)\n",
    "sales_ts_diff.dropna(inplace=True)\n",
    "\n",
    "result = adfuller(sales_ts_diff) \n",
    "\n",
    "pval              = result[1]\n",
    "print('ADF Statistic: %f' % result[0]) \n",
    "print('p-value: %f' % result[1]) \n",
    "\n",
    "if pval < 0.05:\n",
    "    print('Data is stationary')\n",
    "else:\n",
    "    print('Data after differencing is not stationary; so try log diff')\n",
    "    sales_ts_log      = np.log10(sales_ts)\n",
    "    sales_ts_log.dropna(inplace=True)\n",
    "    sales_ts_log_diff = sales_ts_log.diff(periods=1)\n",
    "    sales_ts_log_diff.dropna(inplace=True)\n",
    "    result            = adfuller(sales_ts_log_diff) \n",
    "\n",
    "    pval              = result[1]\n",
    "    print('ADF Statistic: %f' % result[0]) \n",
    "    print('p-value: %f' % result[1]) \n",
    "    if pval < 0.05:\n",
    "        print('Data after log differencing is stationary')\n",
    "    else:\n",
    "        print('Data after log differencing is not stationary; try second order differencing')\n",
    "        sales_ts_log_diff2 = sales_ts_log.diff(periods = 2)\n",
    "        sales_ts_log_diff2.dropna(inplace=True)\n",
    "        result         =   adfuller(sales_ts_log_diff2) \n",
    "        pval              = result[1]\n",
    "        print('ADF Statistic: %f' % result[0]) \n",
    "        print('p-value: %f' % result[1]) \n",
    "        if pval < 0.05:\n",
    "            print('Data after log differencing 2nd order is stationary')\n",
    "        else:\n",
    "            print('Data after log differencing 2nd order is not stationary')\n",
    "        "
   ]
  },
  {
   "cell_type": "code",
   "execution_count": null,
   "metadata": {},
   "outputs": [],
   "source": [
    "#ACF and PACF plots:\n",
    "from   statsmodels.tsa.stattools import acf, pacf\n",
    "import matplotlib.pyplot as plt\n",
    "\n",
    "\n",
    "lag_acf    =   acf(sales_ts_log_diff2,   nlags=20)\n",
    "lag_pacf   =   pacf(sales_ts_log_diff2, nlags=20, method='ols')\n",
    "\n",
    "#Plot ACF: \n",
    "\n",
    "plt.figure(figsize = (15,5))\n",
    "plt.subplot(121) \n",
    "plt.stem(lag_acf)\n",
    "plt.axhline(y = 0, linestyle='--',color='black')\n",
    "plt.axhline(y = -1.96/np.sqrt(len(sales_ts_log_diff2)),linestyle='--',color='gray')\n",
    "plt.axhline(y = 1.96/np.sqrt(len(sales_ts_log_diff2)),linestyle='--',color='gray')\n",
    "plt.xticks(range(0,22,1))\n",
    "plt.xlabel('Lag')\n",
    "plt.ylabel('ACF')\n",
    "plt.title('Autocorrelation Function')\n",
    "#Plot PACF:\n",
    "\n",
    "plt.subplot(122)\n",
    "plt.stem(lag_pacf)\n",
    "plt.axhline(y = 0, linestyle = '--', color = 'black')\n",
    "plt.axhline(y =-1.96/np.sqrt(len(sales_ts_log_diff2)), linestyle = '--', color = 'gray')\n",
    "plt.axhline(y = 1.96/np.sqrt(len(sales_ts_log_diff2)),linestyle = '--', color = 'gray')\n",
    "plt.xlabel('Lag')\n",
    "plt.xticks(range(0,22,1))\n",
    "plt.ylabel('PACF')\n",
    "plt.title('Partial Autocorrelation Function')\n",
    "plt.tight_layout()\n",
    "\n",
    "\n",
    "\n",
    "plt.show()"
   ]
  },
  {
   "cell_type": "markdown",
   "metadata": {},
   "source": [
    "Look at the ACF and PACF plots of the log differenced series.\n",
    "* Observe our first significant value at lag 5 for ACF \n",
    "* Our significant value is at the lag 2 for the PACF\n",
    "* These values suggest us to use p = 2 and q = 5.\n",
    "\n",
    "**Here d = 2 since we could get stationary only when we did differencing twice on the log values.**"
   ]
  },
  {
   "cell_type": "markdown",
   "metadata": {},
   "source": [
    "## **15.1Random Walk**  <a class=\"anchor\" id=\"15.1\"></a>\n",
    "\n",
    "[Table of Contents](#0.1)\n",
    "\n",
    "A **random walk** is a mathematical object, known as a stochastic or random process, that describes a path that consists of a succession of random steps on some mathematical space such as the integers. An elementary example of a random walk is the random walk on the integer number line, \n",
    "${\\displaystyle \\mathbb {Z} } $\n",
    ", which starts at 0 and at each step moves +1 or −1 with equal probability.\n",
    "https://en.wikipedia.org/wiki/Random_walk"
   ]
  },
  {
   "cell_type": "markdown",
   "metadata": {},
   "source": [
    "Random walk process is defined as:\n",
    "y(t) = $\\beta_0 + \\beta_1 X_{t-1}$ + $\\epsilon_t$\n",
    "\n",
    "where \n",
    "* y(t) is the next value in the series.\n",
    "* $\\beta_0$ is a coefficient that if set to a value other than zero adds a constant to the drift to the random walk.\n",
    "* $\\beta_1$ is a coefficient to weight the previous time step and is set to 1.\n",
    "* $X_{t-1}$ is the observtion at the previous time step.\n",
    "* $\\epsilon_t$ is the white noise or random fluctuation at that time."
   ]
  },
  {
   "cell_type": "markdown",
   "metadata": {},
   "source": [
    "##  Random Walk and Autocorrelation\n",
    "\n",
    "##### We calculate the correlation between each observation and the observations at previous time steps. \n",
    "\n",
    "##### Autocorrelation plot or a correlogram plot is a plot of these correlations. \n",
    "\n",
    "##### We expect a strong auto-correlation with the previous observation and a linear fall oﬀ from there with previous lag values."
   ]
  },
  {
   "cell_type": "markdown",
   "metadata": {},
   "source": [
    "### Random Walk and Stationarity\n",
    "\n",
    "###### When the values of Time series data are not a function of time, we have a stationary time series.\n",
    "\n",
    "######  We know that the observations in a random walk are dependent on time. The current observation is a random step from the previous observation.\n",
    "\n",
    "######  Not all non-stationary time series are random walks and  a non-stationary time series does not have a consistent mean and/or variance over time. \n",
    "\n",
    "######  We conﬁrm non-stationary property of random walk using a statistical signiﬁcance test, speciﬁcally the Augmented Dickey-Fuller test"
   ]
  },
  {
   "cell_type": "markdown",
   "metadata": {},
   "source": [
    "### Predicting a Random Walk\n",
    "\n",
    "###### A random walk is cannot reasonably be predicted. \n",
    "\n",
    "######  We expect that the best prediction would be to use the observation at the previous time step as what will happen in the next time step.  We know that in the random walk, the next time step will be a function of the prior time step. This is  called the naive forecast, or a persistence model."
   ]
  },
  {
   "cell_type": "markdown",
   "metadata": {},
   "source": [
    "### Example\n",
    "\n",
    "In our examples, we use the same seed for the random number generator to ensure that we get the same random walk."
   ]
  },
  {
   "cell_type": "code",
   "execution_count": null,
   "metadata": {},
   "outputs": [],
   "source": [
    "from random import  seed, random\n",
    "seed(1) \n",
    "random_walk = list() \n",
    "random_walk.append(-1 if random() < 0.5 else 1)\n",
    "for i in range(1, 1000): \n",
    "    movement = -1 if random() < 0.5 else 1 \n",
    "    value    = random_walk[i-1] + movement \n",
    "    random_walk.append(value) \n",
    "    \n",
    "pd.plotting.autocorrelation_plot(random_walk) \n",
    "plt.show()\n"
   ]
  },
  {
   "cell_type": "code",
   "execution_count": null,
   "metadata": {},
   "outputs": [],
   "source": [
    "### Check stationary property\n",
    "\n",
    "result = adfuller(random_walk) \n",
    "\n",
    "print('ADF Statistic: %f' % result[0]) \n",
    "print('p-value: %f' % result[1]) \n",
    "print('Critical Values:') \n",
    "for key, value in result[4].items(): \n",
    "    print('\\t%s: %.3f' % (key, value))"
   ]
  },
  {
   "cell_type": "code",
   "execution_count": null,
   "metadata": {},
   "outputs": [],
   "source": [
    "# prepare dataset for predicting a random walk\n",
    "\n",
    "training_size     = int(len(random_walk) * 0.70) \n",
    "training, test    = random_walk[0 : training_size], random_walk[training_size:]  \n",
    "\n",
    "predictions       = list() \n",
    "hist              = training[-1] \n",
    "\n",
    "for i in range(len(test)): \n",
    "    yhat = hist \n",
    "    predictions.append(yhat) \n",
    "    hist = test[i] \n",
    "    \n",
    "rmse = np.sqrt(mean_squared_error(test, predictions))  \n",
    "print('\\n\\nPredicting a Random Walk \\n RMSE: %.3f' % rmse)"
   ]
  },
  {
   "cell_type": "markdown",
   "metadata": {},
   "source": [
    "### Inference\n",
    "\n",
    "* We see a trend in the first 500 lag observations.\n",
    "* We observe that the random walk is non-stationary since the p value > 0.05.\n",
    "* We know the variation from one time step to the next is either -1 or 1 and we get RMSE as 1"
   ]
  },
  {
   "cell_type": "markdown",
   "metadata": {},
   "source": [
    "## Random walk with drift\n",
    "\n",
    "[Table of Contents](#0.1)\n",
    "\n",
    "### Example 2\n",
    "\n",
    "**Simulate stock returns using a random walk with drift**"
   ]
  },
  {
   "cell_type": "markdown",
   "metadata": {},
   "source": [
    "Simulate Stock prices as follows:\n",
    "\n",
    "* Generate a random walk with mean 0.0001 and standard deviation of 0.1. Add 1 for total return.\n",
    "* Convert the total returns to get a starting value of 100.\n",
    "\n",
    "Plot the simulated random walk with drift."
   ]
  },
  {
   "cell_type": "markdown",
   "metadata": {},
   "source": [
    "Simulate Stock prices as follows:\n",
    "\n",
    "* Generate a random walk with mean 0.0001 and standard deviation of 0.1. Add 1 for total return.\n",
    "* Convert the total returns to get a starting value of 100.\n",
    "\n",
    "Plot the simulated random walk with drift."
   ]
  },
  {
   "cell_type": "code",
   "execution_count": null,
   "metadata": {},
   "outputs": [],
   "source": [
    "# Generate\n",
    "seed(1234)\n",
    "rw_steps  = np.random.normal(loc = 0.001, scale = 0.01, size = 1000) + 1\n",
    "\n",
    "### Initialize first element to 1\n",
    "rw_steps[0] = 1\n",
    "\n",
    "### Simulate the stock price\n",
    "\n",
    "Price = rw_steps * np.cumprod(rw_steps)\n",
    "Price = Price * 100\n",
    "\n",
    "### Plot the simulated stock prices\n",
    "plt.plot(rw_steps)\n",
    "plt.title(\"Simulated random walk with drift\")\n",
    "plt.show()"
   ]
  },
  {
   "cell_type": "code",
   "execution_count": null,
   "metadata": {},
   "outputs": [],
   "source": [
    "### Check stationary property\n",
    "\n",
    "result = adfuller(Price) \n",
    "\n",
    "print('ADF Statistic: %f' % result[0]) \n",
    "print('p-value: %f' % result[1]) \n",
    "print('Critical Values:') \n",
    "\n",
    "for key, value in result[4].items(): \n",
    "    print('\\t%s: %.3f' % (key, value))"
   ]
  },
  {
   "cell_type": "code",
   "execution_count": null,
   "metadata": {},
   "outputs": [],
   "source": [
    "### Prediction\n",
    "\n",
    "training_size     = int(len(Price) * 0.70) \n",
    "training, test    = random_walk[0 : training_size], random_walk[training_size:]  \n",
    "\n",
    "predictions       = list() \n",
    "hist              = training[-1] \n",
    "\n",
    "for i in range(len(test)): \n",
    "    yhat = hist \n",
    "    predictions.append(yhat) \n",
    "    hist = test[i] \n",
    "    \n",
    "rmse = np.sqrt(mean_squared_error(test, predictions))  \n",
    "print('\\n\\nPredicting a Random Walk with drift \\nRMSE: %.3f' % rmse)"
   ]
  },
  {
   "cell_type": "markdown",
   "metadata": {},
   "source": [
    "### Inference\n",
    "\n",
    "* We see a trend in the lag observations.\n",
    "* We observe that the random walk is non-stationary since the p value > 0.05.\n",
    "* We know the variation from one time step to the next is either -1 or 1 and we get RMSE as 1"
   ]
  },
  {
   "cell_type": "markdown",
   "metadata": {},
   "source": [
    "## 15.2Arima Model         <a class=\"anchor\" id=\"15.2\"></a>\n",
    "\n",
    "[Table of Contents](#0.1)\n",
    "\n",
    "One of the most common methods used in time series forecasting is known as the ARIMA model, which stands for Auto Regressive Integrated Moving Average. ARIMA is a model that can be fitted to time series data to predict future points in the series.\n",
    "\n",
    "We can split the Arima term into three terms, AR, I, MA:\n",
    "\n",
    "AR(p) stands for the autoregressive model, the p parameter is an integer that confirms how many lagged series are going to be used to forecast periods ahead.\n",
    "\n",
    "I(d) is the differencing part, the d parameter tells how many differencing orders are going to be used to make the series stationary.\n",
    "\n",
    "MA(q) stands for moving average model, the q is the number of lagged forecast error terms in the prediction equation. SARIMA is seasonal ARIMA and it is used with time series with seasonality."
   ]
  },
  {
   "cell_type": "markdown",
   "metadata": {},
   "source": [
    "Let's see the example of data from quandel. The data descibes the bank of England's official statistics on spot exchange rates for the EURO into US dollars.   "
   ]
  },
  {
   "cell_type": "code",
   "execution_count": null,
   "metadata": {},
   "outputs": [],
   "source": [
    "from pandas import DataFrame\n",
    "from io import StringIO\n",
    "import time, json\n",
    "from datetime import date\n",
    "from statsmodels.tsa.stattools import adfuller, acf, pacf\n",
    "from statsmodels.tsa.arima_model import ARIMA\n",
    "from statsmodels.tsa.seasonal import seasonal_decompose\n",
    "from sklearn.metrics import mean_squared_error\n",
    "%matplotlib inline\n",
    "from matplotlib.pylab import rcParams\n",
    "rcParams['figure.figsize'] = 15, 6"
   ]
  },
  {
   "cell_type": "code",
   "execution_count": null,
   "metadata": {},
   "outputs": [],
   "source": [
    "# Loading the data\n",
    "bank_df = pd.read_csv('/kaggle/input/time-series-data/BOE-XUDLERD.csv')\n",
    "bank_df"
   ]
  },
  {
   "cell_type": "code",
   "execution_count": null,
   "metadata": {},
   "outputs": [],
   "source": [
    "#converting to time series data \n",
    "bank_df['Date'] = pd.to_datetime(bank_df['Date'])\n",
    "indexed_df = bank_df.set_index('Date')\n",
    "ts = indexed_df['Value']\n",
    "ts.head(5)"
   ]
  },
  {
   "cell_type": "code",
   "execution_count": null,
   "metadata": {},
   "outputs": [],
   "source": [
    "#Visualize the raw data\n",
    "\n",
    "plt.plot(ts)"
   ]
  },
  {
   "cell_type": "code",
   "execution_count": null,
   "metadata": {},
   "outputs": [],
   "source": [
    "#Resample the data as it contains too much variations \n",
    "\n",
    "ts_week = ts.resample('W').mean()\n",
    "plt.plot(ts_week)"
   ]
  },
  {
   "cell_type": "markdown",
   "metadata": {},
   "source": [
    "### Check for stationarity using dickey fuller test"
   ]
  },
  {
   "cell_type": "code",
   "execution_count": null,
   "metadata": {},
   "outputs": [],
   "source": [
    "def test_stationarity(timeseries):\n",
    "    #Determing rolling statistics\n",
    "    rolmean = timeseries.rolling(window=52,center=False).mean() \n",
    "    rolstd = timeseries.rolling(window=52,center=False).std()\n",
    "    #Plot rolling statistics:\n",
    "    orig = plt.plot(timeseries, color='blue',label='Original')\n",
    "    mean = plt.plot(rolmean, color='red', label='Rolling Mean')\n",
    "    std = plt.plot(rolstd, color='black', label = 'Rolling Std')\n",
    "    plt.legend(loc='best')\n",
    "    plt.title('Rolling Mean & Standard Deviation')\n",
    "    plt.show(block=False)\n",
    "    #Perform Dickey-Fuller test:\n",
    "    print('Results of Dickey-Fuller Test:')\n",
    "    dftest = adfuller(timeseries, autolag='AIC')\n",
    "    dfoutput = pd.Series(dftest[0:4], index=['Test Statistic','p-value','#Lags Used','Number of Observations Used'])\n",
    "    for key,value in dftest[4].items():\n",
    "        dfoutput['Critical Value (%s)'%key] = value\n",
    "    print(dfoutput)\n",
    "test_stationarity(ts_week)"
   ]
  },
  {
   "cell_type": "markdown",
   "metadata": {},
   "source": [
    "Since the test statistics is more than 5 % critical value and the p-value is larger than 0.05 , the moving average is not constant over time and the null hypothesis of the Dickey-Fuller test cannot be rejected. This shows the weekly time series is not stationary. \n",
    "\n",
    "As such , we need to transform this series into a stationary time series. "
   ]
  },
  {
   "cell_type": "markdown",
   "metadata": {},
   "source": [
    "### Differencing \n",
    "\n",
    "We can apply the concept of differencing to stationarize the data. Before differencing it is better to do the log trasnsformation of the data"
   ]
  },
  {
   "cell_type": "code",
   "execution_count": null,
   "metadata": {},
   "outputs": [],
   "source": [
    "ts_week_log = np.log(ts_week)\n",
    "ts_week_log_diff = ts_week_log - ts_week_log.shift()\n",
    "plt.plot(ts_week_log_diff)"
   ]
  },
  {
   "cell_type": "code",
   "execution_count": null,
   "metadata": {},
   "outputs": [],
   "source": [
    "#Again confirming with the dickey-fuller test \n",
    "\n",
    "ts_week_log_diff.dropna(inplace=True)\n",
    "test_stationarity(ts_week_log_diff)"
   ]
  },
  {
   "cell_type": "markdown",
   "metadata": {},
   "source": [
    "**Inference** \n",
    "\n",
    "The test statistic is less than 1% of the critical value, shows that the time series is stationary with 99% confidence. Now we can apply the statistical models like ARIMA to forecast the future values \n",
    "\n"
   ]
  },
  {
   "cell_type": "code",
   "execution_count": null,
   "metadata": {},
   "outputs": [],
   "source": [
    "#ACF and PACF\n",
    "lag_acf = acf(ts_week_log_diff, nlags=10)\n",
    "lag_pacf = pacf(ts_week_log_diff, nlags=10, method='ols')"
   ]
  },
  {
   "cell_type": "code",
   "execution_count": null,
   "metadata": {},
   "outputs": [],
   "source": [
    "#Plot ACF: \n",
    "plt.subplot(121) \n",
    "plt.plot(lag_acf)\n",
    "plt.axhline(y=0,linestyle='--',color='gray')\n",
    "plt.axhline(y=-7.96/np.sqrt(len(ts_week_log_diff)),linestyle='--',color='gray')\n",
    "plt.axhline(y=7.96/np.sqrt(len(ts_week_log_diff)),linestyle='--',color='gray')\n",
    "plt.title('Autocorrelation Function')"
   ]
  },
  {
   "cell_type": "code",
   "execution_count": null,
   "metadata": {},
   "outputs": [],
   "source": [
    "#Plot PACF:\n",
    "plt.subplot(122)\n",
    "plt.plot(lag_pacf)\n",
    "plt.axhline(y=0,linestyle='--',color='gray')\n",
    "plt.axhline(y=-7.96/np.sqrt(len(ts_week_log_diff)),linestyle='--',color='gray')\n",
    "plt.axhline(y=7.96/np.sqrt(len(ts_week_log_diff)),linestyle='--',color='gray')\n",
    "plt.title('Partial Autocorrelation Function')\n",
    "plt.tight_layout()"
   ]
  },
  {
   "cell_type": "markdown",
   "metadata": {},
   "source": [
    "**Inference drawn from the ACF and PACF values** \n",
    "\n",
    "Using the plot we can determine the values for p and q respectively :\n",
    "\n",
    "1. p: the lag value where the PACF cuts off (drop to 0) for the first time. So here p =2.\n",
    "2. q: the lag value where the ACF chart crosses the upper confidence interval for the first time. if you look closely q=1. "
   ]
  },
  {
   "cell_type": "code",
   "execution_count": null,
   "metadata": {},
   "outputs": [],
   "source": [
    "# Optimal values fot ARIMA(p,d,q) model are (2,1,1). Hence plot the ARIMA model using the value (2,1,1)\n",
    "model = ARIMA(ts_week_log, order=(2, 1, 1))  \n",
    "results_ARIMA = model.fit(disp=-1)  \n",
    "plt.plot(ts_week_log_diff)\n",
    "plt.plot(results_ARIMA.fittedvalues, color='red')\n",
    "plt.title('RSS: %.4f'% sum((results_ARIMA.fittedvalues-ts_week_log_diff)**2))"
   ]
  },
  {
   "cell_type": "code",
   "execution_count": null,
   "metadata": {},
   "outputs": [],
   "source": [
    "# print the results of the ARIMA model and plot the residuals\n",
    "\n",
    "print(results_ARIMA.summary())\n",
    "# plot residual errors\n",
    "residuals = DataFrame(results_ARIMA.resid)\n",
    "residuals.plot(kind='kde')\n",
    "print(residuals.describe())"
   ]
  },
  {
   "cell_type": "code",
   "execution_count": null,
   "metadata": {},
   "outputs": [],
   "source": [
    "#Predictions \n",
    "\n",
    "predictions_ARIMA_diff = pd.Series(results_ARIMA.fittedvalues, copy=True)\n",
    "print (predictions_ARIMA_diff.head())"
   ]
  },
  {
   "cell_type": "markdown",
   "metadata": {},
   "source": [
    "The model is returning the results we want to see, we can scale the model predictions back to the original scale. Hence the remove the first order differencing and take exponent to restore the predictions back to their original scale."
   ]
  },
  {
   "cell_type": "code",
   "execution_count": null,
   "metadata": {},
   "outputs": [],
   "source": [
    "predictions_ARIMA_diff_cumsum = predictions_ARIMA_diff.cumsum()\n",
    "predictions_ARIMA_log = pd.Series(ts_week_log.iloc[0], index=ts_week_log.index)\n",
    "predictions_ARIMA_log = predictions_ARIMA_log.add(predictions_ARIMA_diff_cumsum,fill_value=0)\n",
    "predictions_ARIMA = np.exp(predictions_ARIMA_log)\n",
    "plt.plot(ts_week)\n",
    "plt.plot(predictions_ARIMA)\n",
    "plt.title('RMSE: %.4f'% np.sqrt(sum((predictions_ARIMA-ts_week)**2)/len(ts_week)))"
   ]
  },
  {
   "cell_type": "code",
   "execution_count": null,
   "metadata": {},
   "outputs": [],
   "source": [
    "#Training and testing datsets\n",
    "size = int(len(ts_week_log) - 15)\n",
    "train, test = ts_week_log[0:size], ts_week_log[size:len(ts_week_log)]\n",
    "history = [x for x in train]\n",
    "predictions = list()"
   ]
  },
  {
   "cell_type": "code",
   "execution_count": null,
   "metadata": {},
   "outputs": [],
   "source": [
    "#Training the model and forecasting \n",
    "\n",
    "size = int(len(ts_week_log) - 15)\n",
    "train, test = ts_week_log[0:size], ts_week_log[size:len(ts_week_log)]\n",
    "history = [x for x in train]\n",
    "predictions = list()\n",
    "print('Printing Predicted vs Expected Values...')\n",
    "print('\\n')\n",
    "for t in range(len(test)):\n",
    "    model = ARIMA(history, order=(2,1,1))\n",
    "    model_fit = model.fit(disp=0)\n",
    "    output = model_fit.forecast()\n",
    "    yhat = output[0]\n",
    "    predictions.append(float(yhat))\n",
    "    obs = test[t]\n",
    "    history.append(obs)\n",
    "print('predicted=%f, expected=%f' % (np.exp(yhat), np.exp(obs)))"
   ]
  },
  {
   "cell_type": "code",
   "execution_count": null,
   "metadata": {},
   "outputs": [],
   "source": [
    "#Validating the model \n",
    "\n",
    "error = mean_squared_error(test, predictions)\n",
    "print('\\n')\n",
    "print('Printing Mean Squared Error of Predictions...')\n",
    "print('Test MSE: %.6f' % error)\n",
    "predictions_series = pd.Series(predictions, index = test.index)"
   ]
  },
  {
   "cell_type": "code",
   "execution_count": null,
   "metadata": {},
   "outputs": [],
   "source": [
    "#Plotting forecasted vs Observed values \n",
    "\n",
    "fig, ax = plt.subplots()\n",
    "ax.set(title='Spot Exchange Rate, Euro into USD', xlabel='Date', ylabel='Euro into USD')\n",
    "ax.plot(ts_week[-60:], 'o', label='observed')\n",
    "ax.plot(np.exp(predictions_series), 'g', label='rolling one-step out-of-sample forecast')\n",
    "legend = ax.legend(loc='upper left')\n",
    "legend.get_frame().set_facecolor('w')"
   ]
  },
  {
   "cell_type": "markdown",
   "metadata": {},
   "source": [
    "## **15.3 Auto Arima**        <a class=\"anchor\" id=\"15.3\"></a>\n",
    "\n",
    "[Table of Contents](#0.1)\n",
    "\n",
    " It uses the AIC (Akaike Information Criterion) & BIC(Bayesian Information Criterion) values generated by trying different combinations of p,q & d values to fit the model.\n",
    " \n",
    "* In an ARIMA model there are 3 parameters, namely p, q and d that help model major aspects of a time series: seasonality, trend and noise.\n",
    "\n",
    "* If our model has a seasonal component, we use Seasonal ARIMA with parameters, P, Q and D related to seasonal components of the model.\n",
    "\n",
    "\n",
    "### auto.arima\n",
    "\n",
    "The module auto.arima fits the best ARIMA model to univariate time series according to either AIC, AICc or BIC value. This function conducts a search over possible model within the order constraints provided.\n",
    "\n",
    "### AIC \n",
    "\n",
    "The Akaike information criterion (AIC) is an estimator of the relative quality of statistical models for a given set of data. Given a collection of models for the data, AIC estimates the quality of each model, relative to each of the other models. Thus, AIC provides a means for model selection. \n",
    "\n",
    "### AICc is AIC with a correction for small sample sizes. \n",
    "\n",
    "### BIC \n",
    "\n",
    "Bayesian information criterion (BIC) or Schwarz information criterion (also SIC, SBC, SBIC) is a criterion for model selection among a finite set of models; the model with the lowest BIC is preferred. It is based, in part, on the likelihood function and it is closely related to the Akaike information criterion (AIC). \n",
    "\n",
    "https://en.wikipedia.org/wiki/Akaike_information_criterion#Comparison_with_BIC\n",
    "https://en.wikipedia.org/wiki/Bayesian_information_criterion\n"
   ]
  },
  {
   "cell_type": "markdown",
   "metadata": {},
   "source": [
    "We use tractor sales data to replicate auto.arima in python."
   ]
  },
  {
   "cell_type": "code",
   "execution_count": null,
   "metadata": {},
   "outputs": [],
   "source": [
    "import sys\n",
    "import warnings\n",
    "import itertools\n",
    "warnings.filterwarnings(\"ignore\")\n",
    "\n",
    "import statsmodels.api as sm\n",
    "import statsmodels.tsa.api as smt\n",
    "import statsmodels.formula.api as smf"
   ]
  },
  {
   "cell_type": "code",
   "execution_count": null,
   "metadata": {},
   "outputs": [],
   "source": [
    "tractor_sales_Series = pd.read_csv(\"/kaggle/input/time-series-data/TractorSales.csv\")\n",
    "tractor_sales_Series.head(5)"
   ]
  },
  {
   "cell_type": "code",
   "execution_count": null,
   "metadata": {},
   "outputs": [],
   "source": [
    "dates = pd.date_range(start='2003-01-01', freq='MS', periods=len(tractor_sales_Series))"
   ]
  },
  {
   "cell_type": "code",
   "execution_count": null,
   "metadata": {},
   "outputs": [],
   "source": [
    "import calendar\n",
    "data['Month'] = dates.month\n",
    "data['Month'] = data['Month'].apply(lambda x: calendar.month_abbr[x])\n",
    "data['Year'] = dates.year"
   ]
  },
  {
   "cell_type": "code",
   "execution_count": null,
   "metadata": {},
   "outputs": [],
   "source": [
    "#data.drop(['Month-Year'], axis=1, inplace=True)\n",
    "data.rename(columns={'Number of Tractor Sold':'Tractor-Sales'}, inplace=True)\n",
    "data = data[['Month', 'Year', 'Tractor-Sales']]"
   ]
  },
  {
   "cell_type": "code",
   "execution_count": null,
   "metadata": {},
   "outputs": [],
   "source": [
    "data.set_index(dates, inplace=True)"
   ]
  },
  {
   "cell_type": "code",
   "execution_count": null,
   "metadata": {},
   "outputs": [],
   "source": [
    "data.head(5)"
   ]
  },
  {
   "cell_type": "code",
   "execution_count": null,
   "metadata": {},
   "outputs": [],
   "source": [
    "# extract out the time-series\n",
    "sales_ts = data['Tractor-Sales']"
   ]
  },
  {
   "cell_type": "code",
   "execution_count": null,
   "metadata": {},
   "outputs": [],
   "source": [
    "plt.figure(figsize=(8, 4))\n",
    "plt.plot(sales_ts)\n",
    "plt.xlabel('Years')\n",
    "plt.ylabel('Tractor Sales')"
   ]
  },
  {
   "cell_type": "markdown",
   "metadata": {},
   "source": [
    "### Inference\n",
    "\n",
    "We observe both trend and multiplicative seasonaliy from the plot shown above.\n",
    "\n",
    "We try moving averages of various window widths such as 4, 6,8 and 12."
   ]
  },
  {
   "cell_type": "code",
   "execution_count": null,
   "metadata": {},
   "outputs": [],
   "source": [
    "fig, axes = plt.subplots(2, 2, sharey=False, sharex=False)\n",
    "fig.set_figwidth(14)\n",
    "fig.set_figheight(8)\n",
    "axes[0][0].plot(sales_ts.index, sales_ts, label='Original')\n",
    "axes[0][0].plot(sales_ts.index, sales_ts.rolling(window=4).mean(), label='4-Months Rolling Mean')\n",
    "axes[0][0].set_xlabel(\"Years\")\n",
    "axes[0][0].set_ylabel(\"Number of Tractor's Sold\")\n",
    "axes[0][0].set_title(\"4-Months Moving Average\")\n",
    "axes[0][0].legend(loc='best')\n",
    "axes[0][1].plot(sales_ts.index, sales_ts, label='Original')\n",
    "axes[0][1].plot(sales_ts.index, sales_ts.rolling(window=6).mean(), label='6-Months Rolling Mean')\n",
    "axes[0][1].set_xlabel(\"Years\")\n",
    "axes[0][1].set_ylabel(\"Number of Tractor's Sold\")\n",
    "axes[0][1].set_title(\"6-Months Moving Average\")\n",
    "axes[0][1].legend(loc='best')\n",
    "axes[1][0].plot(sales_ts.index, sales_ts, label='Original')\n",
    "axes[1][0].plot(sales_ts.index, sales_ts.rolling(window=8).mean(), label='8-Months Rolling Mean')\n",
    "axes[1][0].set_xlabel(\"Years\")\n",
    "axes[1][0].set_ylabel(\"Number of Tractor's Sold\")\n",
    "axes[1][0].set_title(\"8-Months Moving Average\")\n",
    "axes[1][0].legend(loc='best')\n",
    "axes[1][1].plot(sales_ts.index, sales_ts, label='Original')\n",
    "axes[1][1].plot(sales_ts.index, sales_ts.rolling(window=12).mean(), label='12-Months Rolling Mean')\n",
    "axes[1][1].set_xlabel(\"Years\")\n",
    "axes[1][1].set_ylabel(\"Number of Tractor's Sold\")\n",
    "axes[1][1].set_title(\"12-Months Moving Average\")\n",
    "axes[1][1].legend(loc='best')\n",
    "plt.tight_layout()\n",
    "plt.show()"
   ]
  },
  {
   "cell_type": "code",
   "execution_count": null,
   "metadata": {},
   "outputs": [],
   "source": [
    "#Determing rolling statistics\n",
    "\n",
    "rolmean = sales_ts.rolling(window = 4).mean()\n",
    "rolstd = sales_ts.rolling(window = 4).std()"
   ]
  },
  {
   "cell_type": "code",
   "execution_count": null,
   "metadata": {},
   "outputs": [],
   "source": [
    "#Plot rolling statistics:\n",
    "orig = plt.plot(sales_ts, label='Original')\n",
    "mean = plt.plot(rolmean, label='Rolling Mean')\n",
    "std = plt.plot(rolstd, label = 'Rolling Std')\n",
    "plt.legend(loc='best')\n",
    "plt.title('Rolling Mean & Standard Deviation')"
   ]
  },
  {
   "cell_type": "markdown",
   "metadata": {},
   "source": [
    "Dickey-Fuller Test - Let's run the Dicky Fuller Test on the timeseries and verify the null hypothesis that the TS is non-stationary."
   ]
  },
  {
   "cell_type": "code",
   "execution_count": null,
   "metadata": {},
   "outputs": [],
   "source": [
    "from statsmodels.tsa.stattools import adfuller\n",
    "\n",
    "dftest = adfuller(sales_ts)\n",
    "dftest\n",
    "print('DF test statistic is %3.3f' %dftest[0])\n",
    "print('DF test p-value is %1.4f' %dftest[1])"
   ]
  },
  {
   "cell_type": "markdown",
   "metadata": {},
   "source": [
    "Though the variation in standard deviation is small, rolling mean is clearly increasing with time and this is not a stationary series. Also, the test statistic is way more than the critical values."
   ]
  },
  {
   "cell_type": "markdown",
   "metadata": {},
   "source": [
    "As we observed while plotting the moving average over months that there is a monhly pattern, now, let’s decipher the seasonal component."
   ]
  },
  {
   "cell_type": "markdown",
   "metadata": {},
   "source": [
    "#### Seasonality – Time Series Decomposition"
   ]
  },
  {
   "cell_type": "markdown",
   "metadata": {},
   "source": [
    "Observe how number of tractors sold vary on a month on month basis. We will plot a stacked annual plot to observe seasonality in our data."
   ]
  },
  {
   "cell_type": "code",
   "execution_count": null,
   "metadata": {},
   "outputs": [],
   "source": [
    "monthly_sales_data = pd.pivot_table(data, values = \"Tractor-Sales\", columns = \"Year\", index = \"Month\")\n",
    "monthly_sales_data"
   ]
  },
  {
   "cell_type": "code",
   "execution_count": null,
   "metadata": {},
   "outputs": [],
   "source": [
    "monthly_sales_data = monthly_sales_data.reindex(index = ['Jan','Feb','Mar', 'Apr', 'May', 'Jun', 'Jul', 'Aug', 'Sep', 'Oct', 'Nov', 'Dec'])\n",
    "monthly_sales_data"
   ]
  },
  {
   "cell_type": "code",
   "execution_count": null,
   "metadata": {},
   "outputs": [],
   "source": [
    "monthly_sales_data.plot()"
   ]
  },
  {
   "cell_type": "code",
   "execution_count": null,
   "metadata": {},
   "outputs": [],
   "source": [
    "yearly_sales_data = pd.pivot_table(data, values = \"Tractor-Sales\", columns = \"Month\", index = \"Year\")\n",
    "yearly_sales_data = yearly_sales_data[['Jan','Feb','Mar', 'Apr', 'May', 'Jun', 'Jul', 'Aug', 'Sep', 'Oct', 'Nov', 'Dec']]\n",
    "yearly_sales_data"
   ]
  },
  {
   "cell_type": "code",
   "execution_count": null,
   "metadata": {},
   "outputs": [],
   "source": [
    "yearly_sales_data.plot()"
   ]
  },
  {
   "cell_type": "code",
   "execution_count": null,
   "metadata": {},
   "outputs": [],
   "source": [
    "yearly_sales_data.boxplot()"
   ]
  },
  {
   "cell_type": "markdown",
   "metadata": {},
   "source": [
    "### Inferences\n",
    "\n",
    "The tractor sales have been increasing without fail every year.\n",
    "July and August are the peak months for tractor sales and the variance and the mean value in July and August are also much higher than any of the other months.\n",
    "We can see a seasonal cycle of 12 months where the mean value of each month starts with a increasing trend in the beginning of the year and drops down towards the end of the year. We can see a seasonal effect with a cycle of 12 months."
   ]
  },
  {
   "cell_type": "markdown",
   "metadata": {},
   "source": [
    "### Time Series Decomposition"
   ]
  },
  {
   "cell_type": "code",
   "execution_count": null,
   "metadata": {},
   "outputs": [],
   "source": [
    "decomposition = sm.tsa.seasonal_decompose(sales_ts, model='multiplicative')"
   ]
  },
  {
   "cell_type": "code",
   "execution_count": null,
   "metadata": {},
   "outputs": [],
   "source": [
    "fig = decomposition.plot()\n",
    "fig.set_figwidth(8)\n",
    "fig.set_figheight(6)\n",
    "fig.suptitle('Decomposition of multiplicative time series')\n",
    "plt.show()"
   ]
  },
  {
   "cell_type": "markdown",
   "metadata": {},
   "source": [
    "### Some of our key observations from this analysis:\n",
    "\n",
    "1) Trend: 12-months moving average looks quite similar to a straight line hence we could have easily used linear regression to estimate the trend in this data.\n",
    "\n",
    "2) Seasonality: Seasonal plot displays a fairly consistent month-on-month pattern. The monthly seasonal components are average values for a month after removal of trend. Trend is removed from the time series using the following formula:\n",
    "\n",
    "Seasonality_t × Remainder_t = Y_t/Trend_t\n",
    " \n",
    "3) Irregular Remainder (random): is the residual left in the series after removal of trend and seasonal components. Remainder is calculated using the following formula:\n",
    "\n",
    "Remainder_t = Y_t / (Trend_t × Seasonality_t)"
   ]
  },
  {
   "cell_type": "code",
   "execution_count": null,
   "metadata": {},
   "outputs": [],
   "source": [
    "plt.figure(figsize=(8, 4))\n",
    "plt.plot(sales_ts.diff(periods=1))\n",
    "plt.xlabel('Years')\n",
    "plt.ylabel('Tractor Sales')"
   ]
  },
  {
   "cell_type": "markdown",
   "metadata": {},
   "source": [
    "We observe seasonality even after differencing."
   ]
  },
  {
   "cell_type": "code",
   "execution_count": null,
   "metadata": {},
   "outputs": [],
   "source": [
    "plt.figure(figsize=(8, 4))\n",
    "plt.plot(np.log10(sales_ts))\n",
    "plt.xlabel('Years')\n",
    "plt.ylabel('Log (Tractor Sales)')"
   ]
  },
  {
   "cell_type": "markdown",
   "metadata": {},
   "source": [
    "We observe trend and seasonality even after taking log of the observations."
   ]
  },
  {
   "cell_type": "code",
   "execution_count": null,
   "metadata": {},
   "outputs": [],
   "source": [
    "plt.figure(figsize=(10, 5))\n",
    "plt.plot(np.log10(sales_ts).diff(periods=1))\n",
    "plt.xlabel('Years')\n",
    "plt.ylabel('Differenced Log (Tractor Sales)')"
   ]
  },
  {
   "cell_type": "code",
   "execution_count": null,
   "metadata": {},
   "outputs": [],
   "source": [
    "sales_ts_log = np.log10(sales_ts)\n",
    "sales_ts_log.dropna(inplace=True)\n",
    "\n",
    "sales_ts_log_diff = sales_ts_log.diff(periods=1) # same as ts_log_diff = ts_log - ts_log.shift(periods=1)\n",
    "sales_ts_log_diff.dropna(inplace=True)"
   ]
  },
  {
   "cell_type": "code",
   "execution_count": null,
   "metadata": {},
   "outputs": [],
   "source": [
    "fig, axes = plt.subplots(1, 2)\n",
    "fig.set_figwidth(12)\n",
    "fig.set_figheight(4)\n",
    "smt.graphics.plot_acf(sales_ts_log, lags=30, ax=axes[0])\n",
    "smt.graphics.plot_pacf(sales_ts_log, lags=30, ax=axes[1])\n",
    "plt.tight_layout()"
   ]
  },
  {
   "cell_type": "markdown",
   "metadata": {},
   "source": [
    "Nonstationary series have an ACF that remains significant for half a dozen or more lags, rather than quickly declining to zero. You must difference such a series until it is stationary before you can identify the process\n",
    "\n",
    "The above ACF is “decaying”, or decreasing, very slowly, and remains well above the significance range (blue band) for at least a dozen lags. This is indicative of a non-stationary series."
   ]
  },
  {
   "cell_type": "code",
   "execution_count": null,
   "metadata": {},
   "outputs": [],
   "source": [
    "fig, axes = plt.subplots(1, 2)\n",
    "fig.set_figwidth(12)\n",
    "fig.set_figheight(4)\n",
    "plt.xticks(range(0,30,1), rotation = 90)\n",
    "smt.graphics.plot_acf(sales_ts_log_diff, lags=30, ax=axes[0])\n",
    "smt.graphics.plot_pacf(sales_ts_log_diff, lags=30, ax=axes[1])\n",
    "plt.tight_layout()"
   ]
  },
  {
   "cell_type": "markdown",
   "metadata": {},
   "source": [
    "### Inference\n",
    "\n",
    "The above ACF has “decayed” fast and remains within the significance range (blue band) except for a few (5) lags. This is indicative of a stationary series."
   ]
  },
  {
   "cell_type": "code",
   "execution_count": null,
   "metadata": {},
   "outputs": [],
   "source": [
    "# Define the p, d and q parameters to take any value between 0 and 2\n",
    "p = d = q = range(0, 2)\n",
    "\n",
    "# Generate all different combinations of p, d and q triplets\n",
    "pdq = list(itertools.product(p, d, q))\n",
    "\n",
    "# Generate all different combinations of seasonal p, q and q triplets\n",
    "seasonal_pdq = [(x[0], x[1], x[2], 12) for x in list(itertools.product(p, d, q))]"
   ]
  },
  {
   "cell_type": "code",
   "execution_count": null,
   "metadata": {},
   "outputs": [],
   "source": [
    "pdq"
   ]
  },
  {
   "cell_type": "code",
   "execution_count": null,
   "metadata": {},
   "outputs": [],
   "source": [
    "seasonal_pdq"
   ]
  },
  {
   "cell_type": "code",
   "execution_count": null,
   "metadata": {},
   "outputs": [],
   "source": [
    "#Separate data into train and test\n",
    "data['date'] = data.index\n",
    "train = data[data.index < '2013-01-01']\n",
    "test = data[data.index >= '2013-01-01']\n",
    "train_sales_ts_log = np.log10(train['Tractor-Sales'])"
   ]
  },
  {
   "cell_type": "code",
   "execution_count": null,
   "metadata": {},
   "outputs": [],
   "source": [
    "best_aic = np.inf\n",
    "best_pdq = None\n",
    "best_seasonal_pdq = None\n",
    "temp_model = None"
   ]
  },
  {
   "cell_type": "code",
   "execution_count": null,
   "metadata": {},
   "outputs": [],
   "source": [
    "for param in pdq:\n",
    "    for param_seasonal in seasonal_pdq:\n",
    "        \n",
    "        try:\n",
    "            temp_model = sm.tsa.statespace.SARIMAX(train_sales_ts_log,\n",
    "                                             order = param,\n",
    "                                             seasonal_order = param_seasonal,\n",
    "                                             enforce_stationarity=True)\n",
    "            results = temp_model.fit()\n",
    "\n",
    "            \n",
    "            if results.aic < best_aic:\n",
    "                best_aic = results.aic\n",
    "                best_pdq = param\n",
    "                best_seasonal_pdq = param_seasonal\n",
    "        except:\n",
    "            #print(\"Unexpected error:\", sys.exc_info()[0])\n",
    "            continue\n",
    "print(\"Best SARIMAX{}x{}12 model - AIC:{}\".format(best_pdq, best_seasonal_pdq, best_aic))"
   ]
  },
  {
   "cell_type": "markdown",
   "metadata": {},
   "source": [
    "### Inference\n",
    "\n",
    "* The best fit model is selected based on Akaike Information Criterion (AIC) , and Bayesian Information Criterion (BIC) values. The idea is to choose a model with minimum AIC and BIC values.\n",
    "\n",
    "For ARIMA(p, d, q) × (P, D, Q)S,\n",
    "we got SARIMAX(0, 1, 1)x(1, 0, 1, 12)12 model with the least AIC:-600.0908420381976\n",
    "\n",
    "Here, \n",
    "* p = non-seasonal AR order = 0,\n",
    "* d = non-seasonal differencing = 1,\n",
    "* q = non-seasonal MA order = 1,\n",
    "* P = seasonal AR order = 1,\n",
    "* D = seasonal differencing = 0,\n",
    "* Q = seasonal MA order = 1,\n",
    "* S = time span of repeating seasonal pattern = 12"
   ]
  },
  {
   "cell_type": "markdown",
   "metadata": {},
   "source": [
    "### Predict sales on in-sample date using the best fit ARIMA model"
   ]
  },
  {
   "cell_type": "code",
   "execution_count": null,
   "metadata": {},
   "outputs": [],
   "source": [
    "best_model = sm.tsa.statespace.SARIMAX(train_sales_ts_log,\n",
    "                                      order=(0, 1, 1),\n",
    "                                      seasonal_order=(1, 0, 1, 12),\n",
    "                                      enforce_stationarity=True)\n",
    "best_results = best_model.fit()"
   ]
  },
  {
   "cell_type": "code",
   "execution_count": null,
   "metadata": {},
   "outputs": [],
   "source": [
    "print(best_results.summary().tables[0])\n",
    "print(best_results.summary().tables[1])"
   ]
  },
  {
   "cell_type": "code",
   "execution_count": null,
   "metadata": {},
   "outputs": [],
   "source": [
    "pred_dynamic = best_results.get_prediction(start=pd.to_datetime('2012-01-01'), dynamic=True, full_results=True)"
   ]
  },
  {
   "cell_type": "code",
   "execution_count": null,
   "metadata": {},
   "outputs": [],
   "source": [
    "pred_dynamic_ci = pred_dynamic.conf_int()"
   ]
  },
  {
   "cell_type": "code",
   "execution_count": null,
   "metadata": {},
   "outputs": [],
   "source": [
    "pred99 = best_results.get_forecast(steps=24, alpha=0.1)"
   ]
  },
  {
   "cell_type": "code",
   "execution_count": null,
   "metadata": {},
   "outputs": [],
   "source": [
    "# Extract the predicted and true values of our time series\n",
    "sales_ts_forecasted = pred_dynamic.predicted_mean\n",
    "testCopy = test.copy()\n",
    "testCopy['sales_ts_forecasted'] = np.power(10, pred99.predicted_mean)"
   ]
  },
  {
   "cell_type": "code",
   "execution_count": null,
   "metadata": {},
   "outputs": [],
   "source": [
    "testCopy"
   ]
  },
  {
   "cell_type": "code",
   "execution_count": null,
   "metadata": {},
   "outputs": [],
   "source": [
    "# Compute the root mean square error\n",
    "mse = ((testCopy['Tractor-Sales'] - testCopy['sales_ts_forecasted']) ** 2).mean()\n",
    "rmse = np.sqrt(mse)\n",
    "print('The Root Mean Squared Error of our forecasts is {}'.format(round(rmse, 3)))"
   ]
  },
  {
   "cell_type": "code",
   "execution_count": null,
   "metadata": {},
   "outputs": [],
   "source": [
    "axis = train['Tractor-Sales'].plot(label='Train Sales', figsize=(10, 6))\n",
    "testCopy['Tractor-Sales'].plot(ax=axis, label='Test Sales', alpha=0.7)\n",
    "testCopy['sales_ts_forecasted'].plot(ax=axis, label='Forecasted Sales', alpha=0.7)\n",
    "axis.set_xlabel('Years')\n",
    "axis.set_ylabel('Tractor Sales')\n",
    "plt.legend(loc='best')\n",
    "plt.show()\n",
    "plt.close()"
   ]
  },
  {
   "cell_type": "markdown",
   "metadata": {},
   "source": [
    "### Forecast sales using the best fit ARIMA model"
   ]
  },
  {
   "cell_type": "code",
   "execution_count": null,
   "metadata": {},
   "outputs": [],
   "source": [
    "# Get forecast 36 steps (3 years) ahead in future\n",
    "n_steps = 36\n",
    "pred_uc_99 = best_results.get_forecast(steps=36, alpha=0.01) # alpha=0.01 signifies 99% confidence interval\n",
    "pred_uc_95 = best_results.get_forecast(steps=36, alpha=0.05) # alpha=0.05 95% CI\n",
    "\n",
    "# Get confidence intervals 95% & 99% of the forecasts\n",
    "pred_ci_99 = pred_uc_99.conf_int()\n",
    "pred_ci_95 = pred_uc_95.conf_int()"
   ]
  },
  {
   "cell_type": "code",
   "execution_count": null,
   "metadata": {},
   "outputs": [],
   "source": [
    "n_steps = 36\n",
    "idx = pd.date_range(data.index[-1], periods=n_steps, freq='MS')\n",
    "fc_95 = pd.DataFrame(np.column_stack([np.power(10, pred_uc_95.predicted_mean), np.power(10, pred_ci_95)]), \n",
    "                     index=idx, columns=['forecast', 'lower_ci_95', 'upper_ci_95'])\n",
    "fc_99 = pd.DataFrame(np.column_stack([np.power(10, pred_ci_99)]), \n",
    "                     index=idx, columns=['lower_ci_99', 'upper_ci_99'])\n",
    "fc_all = fc_95.combine_first(fc_99)\n",
    "fc_all = fc_all[['forecast', 'lower_ci_95', 'upper_ci_95', 'lower_ci_99', 'upper_ci_99']] # just reordering columns\n",
    "fc_all.head()"
   ]
  },
  {
   "cell_type": "code",
   "execution_count": null,
   "metadata": {},
   "outputs": [],
   "source": [
    "# plot the forecast along with the confidence band\n",
    "\n",
    "axis = sales_ts.plot(label='Observed', figsize=(8, 4))\n",
    "fc_all['forecast'].plot(ax=axis, label='Forecast', alpha=0.7)\n",
    "axis.fill_between(fc_all.index, fc_all['lower_ci_95'], fc_all['upper_ci_95'], color='k', alpha=.15)\n",
    "axis.set_xlabel('Years')\n",
    "axis.set_ylabel('Tractor Sales')\n",
    "plt.legend(loc='best')\n",
    "plt.show()"
   ]
  },
  {
   "cell_type": "markdown",
   "metadata": {},
   "source": [
    "### Plot ACF and PACF for residuals of ARIMA model to ensure no more information is left for extraction"
   ]
  },
  {
   "cell_type": "code",
   "execution_count": null,
   "metadata": {},
   "outputs": [],
   "source": [
    "best_results.plot_diagnostics(lags=30, figsize=(16,12))\n",
    "plt.show()"
   ]
  },
  {
   "cell_type": "markdown",
   "metadata": {},
   "source": [
    "### Inference\n",
    "\n",
    "We need to ensure that the residuals of our model are uncorrelated and normally distributed with zero-mean. If it is not that it signifies that the model can be further improved and we repeat the process with the residuals.\n",
    "\n",
    "In this case, our model diagnostics suggests that the model residuals are normally distributed based on the following:\n",
    "\n",
    "1. The KDE plot of the residuals on the top right is almost similar with the normal distribution.\n",
    "2. The qq-plot on the bottom left shows that the ordered distribution of residuals (blue dots) follows the linear trend of the samples taken from a standard normal distribution with N(0, 1). Again, this is a strong indication that the residuals are normally distributed.\n",
    "3. The residuals over time (top left plot) don't display any obvious seasonality and appear to be white noise. This is confirmed by the autocorrelation (i.e. correlogram) plot on the bottom right, which shows that the time series residuals have low correlation with lagged versions of itself.\n",
    "\n",
    "Those observations coupled with the fact that there are no spikes outside the insignificant zone for both ACF and PACF plots lead us to conclude that that residuals are random with no information or juice in them and our model produces a satisfactory fit that could help us understand our time series data and forecast future values. It sems that our ARIMA model is working fine."
   ]
  },
  {
   "cell_type": "markdown",
   "metadata": {},
   "source": [
    "# 16. References      <a class=\"anchor\" id=\"16\"></a>\n",
    "\n",
    "[Table of Contents](#0.1)\n",
    "\n",
    "1. Time Series lecture by Great Learning by great lakes(https://www.youtube.com/watch?v=FPM6it4v8MY)(Myself Ex-PG Student)\n",
    "2. Machine Learning Mastery by Jason Brownlee (https://machinelearningmastery.com/)\n",
    "3. Introduction to Time Series Analysis by (Douglas C Montgomery, Cheryl L Jennings,Murat Kulachi)\n",
    "  \n",
    "  "
   ]
  }
 ],
 "metadata": {
  "kernelspec": {
   "display_name": "Python 3 (ipykernel)",
   "language": "python",
   "name": "python3"
  },
  "language_info": {
   "codemirror_mode": {
    "name": "ipython",
    "version": 3
   },
   "file_extension": ".py",
   "mimetype": "text/x-python",
   "name": "python",
   "nbconvert_exporter": "python",
   "pygments_lexer": "ipython3",
   "version": "3.10.4"
  }
 },
 "nbformat": 4,
 "nbformat_minor": 4
}
